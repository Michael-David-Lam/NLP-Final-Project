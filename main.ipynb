{
 "cells": [
  {
   "cell_type": "markdown",
   "metadata": {
    "colab_type": "text",
    "id": "view-in-github"
   },
   "source": [
    "<a href=\"https://colab.research.google.com/github/Michael-David-Lam/NLP-Final-Project/blob/main/main.ipynb\" target=\"_parent\"><img src=\"https://colab.research.google.com/assets/colab-badge.svg\" alt=\"Open In Colab\"/></a>"
   ]
  },
  {
   "cell_type": "markdown",
   "metadata": {
    "id": "uTiJ5gIWRCP0"
   },
   "source": [
    "# Libraries/Dependencies Installation"
   ]
  },
  {
   "cell_type": "code",
   "execution_count": 2,
   "metadata": {
    "colab": {
     "base_uri": "https://localhost:8080/"
    },
    "id": "jWKCC-_gXWtc",
    "outputId": "947415fa-f7c4-4678-cafd-5c86bc3947d7"
   },
   "outputs": [
    {
     "name": "stdout",
     "output_type": "stream",
     "text": [
      "Collecting seqeval\n",
      "  Downloading seqeval-1.2.2.tar.gz (43 kB)\n",
      "\u001b[2K     \u001b[90m━━━━━━━━━━━━━━━━━━━━━━━━━━━━━━━━━━━━━━━━\u001b[0m \u001b[32m43.6/43.6 kB\u001b[0m \u001b[31m2.7 MB/s\u001b[0m eta \u001b[36m0:00:00\u001b[0m\n",
      "\u001b[?25h  Preparing metadata (setup.py) ... \u001b[?25l-\b \b\\\b \bdone\n",
      "\u001b[?25hRequirement already satisfied: numpy>=1.14.0 in ./anaconda3/lib/python3.11/site-packages (from seqeval) (1.26.3)\n",
      "Requirement already satisfied: scikit-learn>=0.21.3 in ./anaconda3/lib/python3.11/site-packages (from seqeval) (1.2.2)\n",
      "Requirement already satisfied: scipy>=1.3.2 in ./anaconda3/lib/python3.11/site-packages (from scikit-learn>=0.21.3->seqeval) (1.11.4)\n",
      "Requirement already satisfied: joblib>=1.1.1 in ./anaconda3/lib/python3.11/site-packages (from scikit-learn>=0.21.3->seqeval) (1.2.0)\n",
      "Requirement already satisfied: threadpoolctl>=2.0.0 in ./anaconda3/lib/python3.11/site-packages (from scikit-learn>=0.21.3->seqeval) (2.2.0)\n",
      "Building wheels for collected packages: seqeval\n",
      "  Building wheel for seqeval (setup.py) ... \u001b[?25l-\b \b\\\b \b|\b \bdone\n",
      "\u001b[?25h  Created wheel for seqeval: filename=seqeval-1.2.2-py3-none-any.whl size=16164 sha256=f8c06d192c4f10aaa33bb3b3e09219b34337b44f536610895574e15195570b89\n",
      "  Stored in directory: /Users/darren/Library/Caches/pip/wheels/bc/92/f0/243288f899c2eacdfa8c5f9aede4c71a9bad0ee26a01dc5ead\n",
      "Successfully built seqeval\n",
      "Installing collected packages: seqeval\n",
      "Successfully installed seqeval-1.2.2\n",
      "Found existing installation: torch 2.4.1\n",
      "Uninstalling torch-2.4.1:\n",
      "  Successfully uninstalled torch-2.4.1\n",
      "\u001b[33mWARNING: Skipping torchtext as it is not installed.\u001b[0m\u001b[33m\n",
      "\u001b[0mCollecting torch==2.0.1\n",
      "  Obtaining dependency information for torch==2.0.1 from https://files.pythonhosted.org/packages/85/68/f901437d3e3ef6fe97adb1f372479626d994185b8fa06803f5bdf3bb90fd/torch-2.0.1-cp311-none-macosx_11_0_arm64.whl.metadata\n",
      "  Downloading torch-2.0.1-cp311-none-macosx_11_0_arm64.whl.metadata (23 kB)\n",
      "Collecting torchtext==0.15.2\n",
      "  Obtaining dependency information for torchtext==0.15.2 from https://files.pythonhosted.org/packages/59/e9/1d3ecd04ef057277ba7e3ad0b8793f0d161b60a4ba7fe0b9aa6870a498e4/torchtext-0.15.2-cp311-cp311-macosx_11_0_arm64.whl.metadata\n",
      "  Downloading torchtext-0.15.2-cp311-cp311-macosx_11_0_arm64.whl.metadata (7.4 kB)\n",
      "Requirement already satisfied: filelock in ./anaconda3/lib/python3.11/site-packages (from torch==2.0.1) (3.13.1)\n",
      "Requirement already satisfied: typing-extensions in ./anaconda3/lib/python3.11/site-packages (from torch==2.0.1) (4.9.0)\n",
      "Requirement already satisfied: sympy in ./anaconda3/lib/python3.11/site-packages (from torch==2.0.1) (1.12)\n",
      "Requirement already satisfied: networkx in ./anaconda3/lib/python3.11/site-packages (from torch==2.0.1) (3.1)\n",
      "Requirement already satisfied: jinja2 in ./anaconda3/lib/python3.11/site-packages (from torch==2.0.1) (3.1.2)\n",
      "Requirement already satisfied: tqdm in ./anaconda3/lib/python3.11/site-packages (from torchtext==0.15.2) (4.67.1)\n",
      "Requirement already satisfied: requests in ./anaconda3/lib/python3.11/site-packages (from torchtext==0.15.2) (2.32.3)\n",
      "Requirement already satisfied: numpy in ./anaconda3/lib/python3.11/site-packages (from torchtext==0.15.2) (1.26.3)\n",
      "Collecting torchdata==0.6.1 (from torchtext==0.15.2)\n",
      "  Obtaining dependency information for torchdata==0.6.1 from https://files.pythonhosted.org/packages/13/53/55bf15592605643e9ab1e612814ddd360f008b78142eb5782b12be63389a/torchdata-0.6.1-cp311-cp311-macosx_11_0_arm64.whl.metadata\n",
      "  Downloading torchdata-0.6.1-cp311-cp311-macosx_11_0_arm64.whl.metadata (13 kB)\n",
      "Requirement already satisfied: urllib3>=1.25 in ./anaconda3/lib/python3.11/site-packages (from torchdata==0.6.1->torchtext==0.15.2) (1.26.18)\n",
      "Requirement already satisfied: MarkupSafe>=2.0 in ./anaconda3/lib/python3.11/site-packages (from jinja2->torch==2.0.1) (2.1.3)\n",
      "Requirement already satisfied: charset-normalizer<4,>=2 in ./anaconda3/lib/python3.11/site-packages (from requests->torchtext==0.15.2) (2.0.4)\n",
      "Requirement already satisfied: idna<4,>=2.5 in ./anaconda3/lib/python3.11/site-packages (from requests->torchtext==0.15.2) (3.4)\n",
      "Requirement already satisfied: certifi>=2017.4.17 in ./anaconda3/lib/python3.11/site-packages (from requests->torchtext==0.15.2) (2023.11.17)\n",
      "Requirement already satisfied: mpmath>=0.19 in ./anaconda3/lib/python3.11/site-packages (from sympy->torch==2.0.1) (1.3.0)\n",
      "Downloading torch-2.0.1-cp311-none-macosx_11_0_arm64.whl (55.8 MB)\n",
      "\u001b[2K   \u001b[90m━━━━━━━━━━━━━━━━━━━━━━━━━━━━━━━━━━━━━━━━\u001b[0m \u001b[32m55.8/55.8 MB\u001b[0m \u001b[31m18.4 MB/s\u001b[0m eta \u001b[36m0:00:00\u001b[0m\n",
      "\u001b[?25hDownloading torchtext-0.15.2-cp311-cp311-macosx_11_0_arm64.whl (2.1 MB)\n",
      "\u001b[2K   \u001b[90m━━━━━━━━━━━━━━━━━━━━━━━━━━━━━━━━━━━━━━━━\u001b[0m \u001b[32m2.1/2.1 MB\u001b[0m \u001b[31m11.2 MB/s\u001b[0m eta \u001b[36m0:00:00\u001b[0m\n",
      "\u001b[?25hDownloading torchdata-0.6.1-cp311-cp311-macosx_11_0_arm64.whl (1.7 MB)\n",
      "\u001b[2K   \u001b[90m━━━━━━━━━━━━━━━━━━━━━━━━━━━━━━━━━━━━━━━━\u001b[0m \u001b[32m1.7/1.7 MB\u001b[0m \u001b[31m11.8 MB/s\u001b[0m eta \u001b[36m0:00:00\u001b[0m\n",
      "\u001b[?25hInstalling collected packages: torch, torchdata, torchtext\n",
      "Successfully installed torch-2.0.1 torchdata-0.6.1 torchtext-0.15.2\n"
     ]
    }
   ],
   "source": [
    "# !pip install datasets\n",
    "# !pip install gensim\n",
    "# !pip install --upgrade numpy gensim\n",
    "# !pip install tensorflow\n",
    "# !pip install seqeval\n",
    "# !pip uninstall -y torch torchtext\n",
    "# !pip install torch==2.0.1 torchtext==0.15.2"
   ]
  },
  {
   "cell_type": "markdown",
   "metadata": {
    "id": "Uui459BGO23m"
   },
   "source": [
    "# Setup 1 (Word2Vec)"
   ]
  },
  {
   "cell_type": "code",
   "execution_count": 51,
   "metadata": {
    "id": "06GTRetkG1bS"
   },
   "outputs": [],
   "source": [
    "from datasets import load_dataset\n",
    "import pandas as pd\n",
    "from gensim.models import Word2Vec\n",
    "import ast\n",
    "from gensim.models import KeyedVectors\n",
    "import numpy as np\n",
    "from tensorflow.keras.preprocessing.text import Tokenizer\n",
    "from tensorflow.keras.models import Model\n",
    "from tensorflow.keras.layers import Input, Embedding, Bidirectional, LSTM, TimeDistributed, Dense, Masking\n",
    "from tensorflow.keras.utils import to_categorical\n",
    "from sklearn.preprocessing import LabelEncoder\n",
    "from tensorflow.keras.preprocessing.sequence import pad_sequences\n",
    "from tensorflow.keras.optimizers import Adam\n",
    "from seqeval.metrics import classification_report, f1_score\n",
    "import matplotlib.pyplot as plt\n",
    "from sklearn.metrics import confusion_matrix, ConfusionMatrixDisplay\n",
    "from sklearn.preprocessing import LabelEncoder\n",
    "import string\n",
    "from itertools import chain\n",
    "from collections import Counter\n",
    "import matplotlib.pyplot as plt\n",
    "import seaborn as sns"
   ]
  },
  {
   "cell_type": "code",
   "execution_count": 52,
   "metadata": {
    "colab": {
     "base_uri": "https://localhost:8080/"
    },
    "id": "GUG9YpxlDAIJ",
    "outputId": "641835f6-57e1-4d12-e58c-40bb63fdb7f8"
   },
   "outputs": [
    {
     "name": "stdout",
     "output_type": "stream",
     "text": [
      "DatasetDict({\n",
      "    train: Dataset({\n",
      "        features: ['tokens', 'pos_tags', 'ner_tags'],\n",
      "        num_rows: 2000\n",
      "    })\n",
      "    test: Dataset({\n",
      "        features: ['tokens', 'pos_tags', 'ner_tags'],\n",
      "        num_rows: 250\n",
      "    })\n",
      "    validation: Dataset({\n",
      "        features: ['tokens', 'pos_tags', 'ner_tags'],\n",
      "        num_rows: 150\n",
      "    })\n",
      "})\n"
     ]
    }
   ],
   "source": [
    "dataset = load_dataset(\"surrey-nlp/PLOD-CW-25\")\n",
    "print(dataset)"
   ]
  },
  {
   "cell_type": "code",
   "execution_count": 53,
   "metadata": {
    "id": "PvGTSh7QGtXH"
   },
   "outputs": [],
   "source": [
    "df_train = pd.DataFrame(dataset[\"train\"])\n",
    "df_val = pd.DataFrame(dataset[\"validation\"])\n",
    "df_test = pd.DataFrame(dataset[\"test\"])"
   ]
  },
  {
   "cell_type": "code",
   "execution_count": 54,
   "metadata": {
    "id": "bWoGJ6j2Ngdh"
   },
   "outputs": [],
   "source": [
    "#To combine train,test,split for vectorisation to build a rich embedding space\n",
    "\n",
    "import ast\n",
    "\n",
    "def safe_parse(col):\n",
    "    return [ast.literal_eval(row) if isinstance(row, str) else row for row in col]\n",
    "\n",
    "train_tokens = safe_parse(df_train[\"tokens\"])\n",
    "val_tokens = safe_parse(df_val[\"tokens\"])\n",
    "test_tokens = safe_parse(df_test[\"tokens\"])\n",
    "\n",
    "all_tokens = train_tokens + val_tokens + test_tokens"
   ]
  },
  {
   "cell_type": "code",
   "execution_count": 55,
   "metadata": {
    "id": "szJampFkSKhQ"
   },
   "outputs": [],
   "source": [
    "#List of Parameters (Just using Lab as reference)\n",
    "num_features = 300\n",
    "min_word_count = 1\n",
    "num_workers = 2\n",
    "window_size = 3\n",
    "subsampling = 1e-3"
   ]
  },
  {
   "cell_type": "code",
   "execution_count": 56,
   "metadata": {
    "id": "POZaiqLzSNRn"
   },
   "outputs": [],
   "source": [
    "w2v_model = Word2Vec(\n",
    "    sentences=all_tokens,\n",
    "    vector_size=num_features,\n",
    "    window=window_size,\n",
    "    min_count=min_word_count,\n",
    "    workers=num_workers,\n",
    "    sample=subsampling\n",
    ")"
   ]
  },
  {
   "cell_type": "code",
   "execution_count": 57,
   "metadata": {
    "id": "BoE-4X22RaGk"
   },
   "outputs": [],
   "source": [
    "vocab = w2v_model.wv.index_to_key\n",
    "word_index = {word: idx + 1 for idx, word in enumerate(vocab)}\n",
    "\n",
    "embedding_dim = w2v_model.vector_size\n",
    "embedding_matrix = np.zeros((len(word_index) + 1, embedding_dim))\n",
    "for word, i in word_index.items():\n",
    "    embedding_matrix[i] = w2v_model.wv[word]"
   ]
  },
  {
   "cell_type": "code",
   "execution_count": 58,
   "metadata": {
    "colab": {
     "base_uri": "https://localhost:8080/"
    },
    "id": "nHg88SqASwnu",
    "outputId": "3d0f8afd-5a53-48ca-c007-ec9c64516ace"
   },
   "outputs": [
    {
     "name": "stdout",
     "output_type": "stream",
     "text": [
      "371\n",
      "41.17041666666667\n",
      "76.0\n"
     ]
    }
   ],
   "source": [
    "all_lengths = [len(seq) for seq in train_tokens + val_tokens + test_tokens]\n",
    "\n",
    "print(max(all_lengths))\n",
    "print(np.mean(all_lengths))\n",
    "print(np.percentile(all_lengths, 90))\n",
    "#likelihood to chose 76 to get the best balance of computational power + covers 90% of sequence"
   ]
  },
  {
   "cell_type": "code",
   "execution_count": 59,
   "metadata": {
    "id": "Yj8hDcfLTdVX"
   },
   "outputs": [],
   "source": [
    "# Encode as Bi-LSTM requires numbers to process\n",
    "\n",
    "def encode_sentences(token_lists, word_index, max_len):\n",
    "    sequences = [[word_index.get(token, 0) for token in tokens] for tokens in token_lists]\n",
    "    return pad_sequences(sequences, maxlen=max_len, padding=\"post\", truncating=\"post\")\n",
    "\n",
    "#using 90th percentile first\n",
    "max_len = 76\n",
    "\n",
    "X_train = encode_sentences(train_tokens, word_index, max_len)\n",
    "X_val = encode_sentences(val_tokens, word_index, max_len)\n",
    "X_test = encode_sentences(test_tokens, word_index, max_len)"
   ]
  },
  {
   "cell_type": "code",
   "execution_count": 60,
   "metadata": {
    "id": "JsH1nvzeTi1W"
   },
   "outputs": [],
   "source": [
    "all_tags = df_train[\"ner_tags\"].tolist() + df_val[\"ner_tags\"].tolist() + df_test[\"ner_tags\"].tolist()\n",
    "\n",
    "tag_encoder = LabelEncoder()\n",
    "tag_encoder.fit([tag for seq in all_tags for tag in seq])\n",
    "num_classes = len(tag_encoder.classes_)\n",
    "\n",
    "def encode_tags(tag_lists, max_len):\n",
    "    encoded = [tag_encoder.transform(tags) for tags in tag_lists]\n",
    "    padded = pad_sequences(encoded, maxlen=max_len, padding=\"post\", truncating=\"post\", value=-1)  # -1 for masking\n",
    "    return padded\n",
    "\n",
    "y_train = encode_tags(df_train[\"ner_tags\"].tolist(), max_len)\n",
    "y_val = encode_tags(df_val[\"ner_tags\"].tolist(), max_len)\n",
    "y_test = encode_tags(df_test[\"ner_tags\"].tolist(), max_len)"
   ]
  },
  {
   "cell_type": "code",
   "execution_count": 61,
   "metadata": {
    "colab": {
     "base_uri": "https://localhost:8080/",
     "height": 399
    },
    "id": "yQdk7gF5TqX3",
    "outputId": "09f6615c-e1aa-49e2-ecf9-b8be4336e863"
   },
   "outputs": [
    {
     "name": "stderr",
     "output_type": "stream",
     "text": [
      "/Users/darren/anaconda3/lib/python3.11/site-packages/keras/src/layers/core/embedding.py:90: UserWarning: Argument `input_length` is deprecated. Just remove it.\n",
      "  warnings.warn(\n"
     ]
    },
    {
     "data": {
      "text/html": [
       "<pre style=\"white-space:pre;overflow-x:auto;line-height:normal;font-family:Menlo,'DejaVu Sans Mono',consolas,'Courier New',monospace\"><span style=\"font-weight: bold\">Model: \"functional_3\"</span>\n",
       "</pre>\n"
      ],
      "text/plain": [
       "\u001b[1mModel: \"functional_3\"\u001b[0m\n"
      ]
     },
     "metadata": {},
     "output_type": "display_data"
    },
    {
     "data": {
      "text/html": [
       "<pre style=\"white-space:pre;overflow-x:auto;line-height:normal;font-family:Menlo,'DejaVu Sans Mono',consolas,'Courier New',monospace\">┏━━━━━━━━━━━━━━━━━━━━━┳━━━━━━━━━━━━━━━━━━━┳━━━━━━━━━━━━┳━━━━━━━━━━━━━━━━━━━┓\n",
       "┃<span style=\"font-weight: bold\"> Layer (type)        </span>┃<span style=\"font-weight: bold\"> Output Shape      </span>┃<span style=\"font-weight: bold\">    Param # </span>┃<span style=\"font-weight: bold\"> Connected to      </span>┃\n",
       "┡━━━━━━━━━━━━━━━━━━━━━╇━━━━━━━━━━━━━━━━━━━╇━━━━━━━━━━━━╇━━━━━━━━━━━━━━━━━━━┩\n",
       "│ input_layer_3       │ (<span style=\"color: #00d7ff; text-decoration-color: #00d7ff\">None</span>, <span style=\"color: #00af00; text-decoration-color: #00af00\">76</span>)        │          <span style=\"color: #00af00; text-decoration-color: #00af00\">0</span> │ -                 │\n",
       "│ (<span style=\"color: #0087ff; text-decoration-color: #0087ff\">InputLayer</span>)        │                   │            │                   │\n",
       "├─────────────────────┼───────────────────┼────────────┼───────────────────┤\n",
       "│ embedding_5         │ (<span style=\"color: #00d7ff; text-decoration-color: #00d7ff\">None</span>, <span style=\"color: #00af00; text-decoration-color: #00af00\">76</span>, <span style=\"color: #00af00; text-decoration-color: #00af00\">300</span>)   │  <span style=\"color: #00af00; text-decoration-color: #00af00\">4,947,600</span> │ input_layer_3[<span style=\"color: #00af00; text-decoration-color: #00af00\">0</span>]… │\n",
       "│ (<span style=\"color: #0087ff; text-decoration-color: #0087ff\">Embedding</span>)         │                   │            │                   │\n",
       "├─────────────────────┼───────────────────┼────────────┼───────────────────┤\n",
       "│ not_equal_3         │ (<span style=\"color: #00d7ff; text-decoration-color: #00d7ff\">None</span>, <span style=\"color: #00af00; text-decoration-color: #00af00\">76</span>)        │          <span style=\"color: #00af00; text-decoration-color: #00af00\">0</span> │ input_layer_3[<span style=\"color: #00af00; text-decoration-color: #00af00\">0</span>]… │\n",
       "│ (<span style=\"color: #0087ff; text-decoration-color: #0087ff\">NotEqual</span>)          │                   │            │                   │\n",
       "├─────────────────────┼───────────────────┼────────────┼───────────────────┤\n",
       "│ bidirectional_3     │ (<span style=\"color: #00d7ff; text-decoration-color: #00d7ff\">None</span>, <span style=\"color: #00af00; text-decoration-color: #00af00\">76</span>, <span style=\"color: #00af00; text-decoration-color: #00af00\">256</span>)   │    <span style=\"color: #00af00; text-decoration-color: #00af00\">439,296</span> │ embedding_5[<span style=\"color: #00af00; text-decoration-color: #00af00\">0</span>][<span style=\"color: #00af00; text-decoration-color: #00af00\">0</span>… │\n",
       "│ (<span style=\"color: #0087ff; text-decoration-color: #0087ff\">Bidirectional</span>)     │                   │            │ not_equal_3[<span style=\"color: #00af00; text-decoration-color: #00af00\">0</span>][<span style=\"color: #00af00; text-decoration-color: #00af00\">0</span>] │\n",
       "├─────────────────────┼───────────────────┼────────────┼───────────────────┤\n",
       "│ dense_3 (<span style=\"color: #0087ff; text-decoration-color: #0087ff\">Dense</span>)     │ (<span style=\"color: #00d7ff; text-decoration-color: #00d7ff\">None</span>, <span style=\"color: #00af00; text-decoration-color: #00af00\">76</span>, <span style=\"color: #00af00; text-decoration-color: #00af00\">4</span>)     │      <span style=\"color: #00af00; text-decoration-color: #00af00\">1,028</span> │ bidirectional_3[<span style=\"color: #00af00; text-decoration-color: #00af00\">…</span> │\n",
       "└─────────────────────┴───────────────────┴────────────┴───────────────────┘\n",
       "</pre>\n"
      ],
      "text/plain": [
       "┏━━━━━━━━━━━━━━━━━━━━━┳━━━━━━━━━━━━━━━━━━━┳━━━━━━━━━━━━┳━━━━━━━━━━━━━━━━━━━┓\n",
       "┃\u001b[1m \u001b[0m\u001b[1mLayer (type)       \u001b[0m\u001b[1m \u001b[0m┃\u001b[1m \u001b[0m\u001b[1mOutput Shape     \u001b[0m\u001b[1m \u001b[0m┃\u001b[1m \u001b[0m\u001b[1m   Param #\u001b[0m\u001b[1m \u001b[0m┃\u001b[1m \u001b[0m\u001b[1mConnected to     \u001b[0m\u001b[1m \u001b[0m┃\n",
       "┡━━━━━━━━━━━━━━━━━━━━━╇━━━━━━━━━━━━━━━━━━━╇━━━━━━━━━━━━╇━━━━━━━━━━━━━━━━━━━┩\n",
       "│ input_layer_3       │ (\u001b[38;5;45mNone\u001b[0m, \u001b[38;5;34m76\u001b[0m)        │          \u001b[38;5;34m0\u001b[0m │ -                 │\n",
       "│ (\u001b[38;5;33mInputLayer\u001b[0m)        │                   │            │                   │\n",
       "├─────────────────────┼───────────────────┼────────────┼───────────────────┤\n",
       "│ embedding_5         │ (\u001b[38;5;45mNone\u001b[0m, \u001b[38;5;34m76\u001b[0m, \u001b[38;5;34m300\u001b[0m)   │  \u001b[38;5;34m4,947,600\u001b[0m │ input_layer_3[\u001b[38;5;34m0\u001b[0m]… │\n",
       "│ (\u001b[38;5;33mEmbedding\u001b[0m)         │                   │            │                   │\n",
       "├─────────────────────┼───────────────────┼────────────┼───────────────────┤\n",
       "│ not_equal_3         │ (\u001b[38;5;45mNone\u001b[0m, \u001b[38;5;34m76\u001b[0m)        │          \u001b[38;5;34m0\u001b[0m │ input_layer_3[\u001b[38;5;34m0\u001b[0m]… │\n",
       "│ (\u001b[38;5;33mNotEqual\u001b[0m)          │                   │            │                   │\n",
       "├─────────────────────┼───────────────────┼────────────┼───────────────────┤\n",
       "│ bidirectional_3     │ (\u001b[38;5;45mNone\u001b[0m, \u001b[38;5;34m76\u001b[0m, \u001b[38;5;34m256\u001b[0m)   │    \u001b[38;5;34m439,296\u001b[0m │ embedding_5[\u001b[38;5;34m0\u001b[0m][\u001b[38;5;34m0\u001b[0m… │\n",
       "│ (\u001b[38;5;33mBidirectional\u001b[0m)     │                   │            │ not_equal_3[\u001b[38;5;34m0\u001b[0m][\u001b[38;5;34m0\u001b[0m] │\n",
       "├─────────────────────┼───────────────────┼────────────┼───────────────────┤\n",
       "│ dense_3 (\u001b[38;5;33mDense\u001b[0m)     │ (\u001b[38;5;45mNone\u001b[0m, \u001b[38;5;34m76\u001b[0m, \u001b[38;5;34m4\u001b[0m)     │      \u001b[38;5;34m1,028\u001b[0m │ bidirectional_3[\u001b[38;5;34m…\u001b[0m │\n",
       "└─────────────────────┴───────────────────┴────────────┴───────────────────┘\n"
      ]
     },
     "metadata": {},
     "output_type": "display_data"
    },
    {
     "data": {
      "text/html": [
       "<pre style=\"white-space:pre;overflow-x:auto;line-height:normal;font-family:Menlo,'DejaVu Sans Mono',consolas,'Courier New',monospace\"><span style=\"font-weight: bold\"> Total params: </span><span style=\"color: #00af00; text-decoration-color: #00af00\">5,387,924</span> (20.55 MB)\n",
       "</pre>\n"
      ],
      "text/plain": [
       "\u001b[1m Total params: \u001b[0m\u001b[38;5;34m5,387,924\u001b[0m (20.55 MB)\n"
      ]
     },
     "metadata": {},
     "output_type": "display_data"
    },
    {
     "data": {
      "text/html": [
       "<pre style=\"white-space:pre;overflow-x:auto;line-height:normal;font-family:Menlo,'DejaVu Sans Mono',consolas,'Courier New',monospace\"><span style=\"font-weight: bold\"> Trainable params: </span><span style=\"color: #00af00; text-decoration-color: #00af00\">5,387,924</span> (20.55 MB)\n",
       "</pre>\n"
      ],
      "text/plain": [
       "\u001b[1m Trainable params: \u001b[0m\u001b[38;5;34m5,387,924\u001b[0m (20.55 MB)\n"
      ]
     },
     "metadata": {},
     "output_type": "display_data"
    },
    {
     "data": {
      "text/html": [
       "<pre style=\"white-space:pre;overflow-x:auto;line-height:normal;font-family:Menlo,'DejaVu Sans Mono',consolas,'Courier New',monospace\"><span style=\"font-weight: bold\"> Non-trainable params: </span><span style=\"color: #00af00; text-decoration-color: #00af00\">0</span> (0.00 B)\n",
       "</pre>\n"
      ],
      "text/plain": [
       "\u001b[1m Non-trainable params: \u001b[0m\u001b[38;5;34m0\u001b[0m (0.00 B)\n"
      ]
     },
     "metadata": {},
     "output_type": "display_data"
    }
   ],
   "source": [
    "input = Input(shape=(max_len,))\n",
    "model = Embedding(input_dim=embedding_matrix.shape[0],\n",
    "                  output_dim=embedding_matrix.shape[1],\n",
    "                  weights=[embedding_matrix],\n",
    "                  input_length=max_len,\n",
    "                  mask_zero=True,\n",
    "                  trainable=True)(input)\n",
    "model = Bidirectional(LSTM(units=128, return_sequences=True))(model)\n",
    "model = Dense(num_classes, activation=\"softmax\")(model)\n",
    "\n",
    "model = Model(input, model)\n",
    "model.summary()"
   ]
  },
  {
   "cell_type": "code",
   "execution_count": 62,
   "metadata": {
    "id": "iOnwb92DT0_V"
   },
   "outputs": [],
   "source": [
    "def create_sample_weights(y_padded):\n",
    "    return (y_padded != -1).astype(\"float32\")\n",
    "\n",
    "sample_weights_train = create_sample_weights(y_train)\n",
    "sample_weights_val = create_sample_weights(y_val)\n",
    "\n",
    "y_train = np.where(y_train == -1, 0, y_train)\n",
    "y_val = np.where(y_val == -1, 0, y_val)"
   ]
  },
  {
   "cell_type": "code",
   "execution_count": 63,
   "metadata": {
    "colab": {
     "base_uri": "https://localhost:8080/"
    },
    "id": "_sv64A07T3g-",
    "outputId": "8dc414ec-ab4f-402f-8b78-49ce776e7756"
   },
   "outputs": [
    {
     "name": "stdout",
     "output_type": "stream",
     "text": [
      "Epoch 1/15\n",
      "\u001b[1m63/63\u001b[0m \u001b[32m━━━━━━━━━━━━━━━━━━━━\u001b[0m\u001b[37m\u001b[0m \u001b[1m7s\u001b[0m 93ms/step - accuracy: 0.3890 - loss: 0.8189 - val_accuracy: 0.4096 - val_loss: 0.4819\n",
      "Epoch 2/15\n",
      "\u001b[1m63/63\u001b[0m \u001b[32m━━━━━━━━━━━━━━━━━━━━\u001b[0m\u001b[37m\u001b[0m \u001b[1m8s\u001b[0m 122ms/step - accuracy: 0.4221 - loss: 0.4087 - val_accuracy: 0.4260 - val_loss: 0.3924\n",
      "Epoch 3/15\n",
      "\u001b[1m63/63\u001b[0m \u001b[32m━━━━━━━━━━━━━━━━━━━━\u001b[0m\u001b[37m\u001b[0m \u001b[1m10s\u001b[0m 154ms/step - accuracy: 0.4590 - loss: 0.2478 - val_accuracy: 0.4327 - val_loss: 0.3628\n",
      "Epoch 4/15\n",
      "\u001b[1m63/63\u001b[0m \u001b[32m━━━━━━━━━━━━━━━━━━━━\u001b[0m\u001b[37m\u001b[0m \u001b[1m10s\u001b[0m 151ms/step - accuracy: 0.4738 - loss: 0.1461 - val_accuracy: 0.4346 - val_loss: 0.3708\n",
      "Epoch 5/15\n",
      "\u001b[1m63/63\u001b[0m \u001b[32m━━━━━━━━━━━━━━━━━━━━\u001b[0m\u001b[37m\u001b[0m \u001b[1m10s\u001b[0m 153ms/step - accuracy: 0.4889 - loss: 0.0862 - val_accuracy: 0.4306 - val_loss: 0.4168\n",
      "Epoch 6/15\n",
      "\u001b[1m63/63\u001b[0m \u001b[32m━━━━━━━━━━━━━━━━━━━━\u001b[0m\u001b[37m\u001b[0m \u001b[1m10s\u001b[0m 164ms/step - accuracy: 0.4920 - loss: 0.0568 - val_accuracy: 0.4254 - val_loss: 0.4991\n",
      "Epoch 7/15\n",
      "\u001b[1m63/63\u001b[0m \u001b[32m━━━━━━━━━━━━━━━━━━━━\u001b[0m\u001b[37m\u001b[0m \u001b[1m10s\u001b[0m 153ms/step - accuracy: 0.4908 - loss: 0.0387 - val_accuracy: 0.4277 - val_loss: 0.4985\n",
      "Epoch 8/15\n",
      "\u001b[1m63/63\u001b[0m \u001b[32m━━━━━━━━━━━━━━━━━━━━\u001b[0m\u001b[37m\u001b[0m \u001b[1m10s\u001b[0m 161ms/step - accuracy: 0.5001 - loss: 0.0277 - val_accuracy: 0.4312 - val_loss: 0.5083\n",
      "Epoch 9/15\n",
      "\u001b[1m63/63\u001b[0m \u001b[32m━━━━━━━━━━━━━━━━━━━━\u001b[0m\u001b[37m\u001b[0m \u001b[1m10s\u001b[0m 154ms/step - accuracy: 0.4969 - loss: 0.0178 - val_accuracy: 0.4280 - val_loss: 0.5578\n",
      "Epoch 10/15\n",
      "\u001b[1m63/63\u001b[0m \u001b[32m━━━━━━━━━━━━━━━━━━━━\u001b[0m\u001b[37m\u001b[0m \u001b[1m10s\u001b[0m 156ms/step - accuracy: 0.4890 - loss: 0.0157 - val_accuracy: 0.4254 - val_loss: 0.5972\n",
      "Epoch 11/15\n",
      "\u001b[1m63/63\u001b[0m \u001b[32m━━━━━━━━━━━━━━━━━━━━\u001b[0m\u001b[37m\u001b[0m \u001b[1m10s\u001b[0m 154ms/step - accuracy: 0.5026 - loss: 0.0121 - val_accuracy: 0.4273 - val_loss: 0.5884\n",
      "Epoch 12/15\n",
      "\u001b[1m63/63\u001b[0m \u001b[32m━━━━━━━━━━━━━━━━━━━━\u001b[0m\u001b[37m\u001b[0m \u001b[1m10s\u001b[0m 159ms/step - accuracy: 0.4897 - loss: 0.0092 - val_accuracy: 0.4287 - val_loss: 0.6036\n",
      "Epoch 13/15\n",
      "\u001b[1m63/63\u001b[0m \u001b[32m━━━━━━━━━━━━━━━━━━━━\u001b[0m\u001b[37m\u001b[0m \u001b[1m10s\u001b[0m 163ms/step - accuracy: 0.4924 - loss: 0.0063 - val_accuracy: 0.4274 - val_loss: 0.6284\n",
      "Epoch 14/15\n",
      "\u001b[1m63/63\u001b[0m \u001b[32m━━━━━━━━━━━━━━━━━━━━\u001b[0m\u001b[37m\u001b[0m \u001b[1m10s\u001b[0m 158ms/step - accuracy: 0.5035 - loss: 0.0043 - val_accuracy: 0.4273 - val_loss: 0.6450\n",
      "Epoch 15/15\n",
      "\u001b[1m63/63\u001b[0m \u001b[32m━━━━━━━━━━━━━━━━━━━━\u001b[0m\u001b[37m\u001b[0m \u001b[1m10s\u001b[0m 162ms/step - accuracy: 0.5045 - loss: 0.0034 - val_accuracy: 0.4270 - val_loss: 0.6751\n"
     ]
    }
   ],
   "source": [
    "#Training of model (using Adam as a baseline optimiser)\n",
    "model.compile(\n",
    "    optimizer=Adam(learning_rate=0.001),\n",
    "    loss=\"sparse_categorical_crossentropy\",\n",
    "    metrics=[\"accuracy\"]\n",
    ")\n",
    "\n",
    "\n",
    "history = model.fit(\n",
    "    X_train, y_train[..., np.newaxis],\n",
    "    validation_data=(X_val, y_val[..., np.newaxis], sample_weights_val),\n",
    "    sample_weight=sample_weights_train,\n",
    "    batch_size=32,\n",
    "    epochs=15\n",
    ")"
   ]
  },
  {
   "cell_type": "code",
   "execution_count": 64,
   "metadata": {
    "colab": {
     "base_uri": "https://localhost:8080/"
    },
    "id": "B5s8ak6yT5wO",
    "outputId": "2bdf509f-571d-4992-cc62-df8cfbfdfa24"
   },
   "outputs": [
    {
     "name": "stdout",
     "output_type": "stream",
     "text": [
      "WARNING:tensorflow:5 out of the last 17 calls to <function TensorFlowTrainer.make_predict_function.<locals>.one_step_on_data_distributed at 0x38b06e700> triggered tf.function retracing. Tracing is expensive and the excessive number of tracings could be due to (1) creating @tf.function repeatedly in a loop, (2) passing tensors with different shapes, (3) passing Python objects instead of tensors. For (1), please define your @tf.function outside of the loop. For (2), @tf.function has reduce_retracing=True option that can avoid unnecessary retracing. For (3), please refer to https://www.tensorflow.org/guide/function#controlling_retracing and https://www.tensorflow.org/api_docs/python/tf/function for  more details.\n",
      "\u001b[1m8/8\u001b[0m \u001b[32m━━━━━━━━━━━━━━━━━━━━\u001b[0m\u001b[37m\u001b[0m \u001b[1m0s\u001b[0m 44ms/step\n",
      "F1 Score: 0.6437908496732027\n",
      "              precision    recall  f1-score   support\n",
      "\n",
      "          AC       0.74      0.72      0.73       741\n",
      "          LF       0.48      0.56      0.52       455\n",
      "\n",
      "   micro avg       0.63      0.66      0.64      1196\n",
      "   macro avg       0.61      0.64      0.62      1196\n",
      "weighted avg       0.64      0.66      0.65      1196\n",
      "\n"
     ]
    }
   ],
   "source": [
    "y_pred = model.predict(X_test)\n",
    "y_pred_labels = np.argmax(y_pred, axis=-1)\n",
    "\n",
    "idx2tag = {i: t for i, t in enumerate(tag_encoder.classes_)}\n",
    "\n",
    "true_labels = [[idx2tag[idx] for idx in row if idx != -1] for row in y_test]\n",
    "pred_labels = [[idx2tag[idx] for idx in row[:len(true_labels[i])]] for i, row in enumerate(y_pred_labels)]\n",
    "\n",
    "print(\"F1 Score:\", f1_score(true_labels, pred_labels))\n",
    "print(classification_report(true_labels, pred_labels))"
   ]
  },
  {
   "cell_type": "code",
   "execution_count": 65,
   "metadata": {},
   "outputs": [
    {
     "data": {
      "image/png": "[encoded data removed]",
      "text/plain": [
       "<Figure size 800x600 with 2 Axes>"
      ]
     },
     "metadata": {},
     "output_type": "display_data"
    }
   ],
   "source": [
    "\n",
    "flat_true = [label for seq in true_labels for label in seq]\n",
    "flat_pred = [label for seq in pred_labels for label in seq]\n",
    "\n",
    "def simplify(tag):\n",
    "    if tag == \"B-AC\":\n",
    "        return \"A\"\n",
    "    elif tag in (\"B-LF\", \"I-LF\"):\n",
    "        return \"LF\"\n",
    "    else:\n",
    "        return \"O\"\n",
    "\n",
    "flat_true_simplified = [simplify(tag) for tag in flat_true]\n",
    "flat_pred_simplified = [simplify(tag) for tag in flat_pred]\n",
    "\n",
    "le = LabelEncoder()\n",
    "le.fit([\"A\", \"LF\", \"O\"])\n",
    "y_true_encoded = le.transform(flat_true_simplified)\n",
    "y_pred_encoded = le.transform(flat_pred_simplified)\n",
    "\n",
    "cm = confusion_matrix(y_true_encoded, y_pred_encoded, normalize='true') * 100\n",
    "\n",
    "fig, ax = plt.subplots(figsize=(8, 6))\n",
    "disp = ConfusionMatrixDisplay(confusion_matrix=cm, display_labels=le.classes_)\n",
    "disp.plot(cmap=\"Blues\", ax=ax, values_format=\".3f\", xticks_rotation=45)\n",
    "plt.title(\"Normalized Confusion Matrix of Simplified NER Tags [%]\")\n",
    "plt.tight_layout()\n",
    "plt.show()\n"
   ]
  },
  {
   "cell_type": "markdown",
   "metadata": {
    "id": "L4-I8pHaZDIb"
   },
   "source": [
    "# Set up 2 (Glove)"
   ]
  },
  {
   "cell_type": "code",
   "execution_count": 66,
   "metadata": {
    "colab": {
     "base_uri": "https://localhost:8080/"
    },
    "id": "5Sc7g6RKZVVO",
    "outputId": "38865f67-91bd-495a-f64e-9a8e49ef845b"
   },
   "outputs": [
    {
     "name": "stdout",
     "output_type": "stream",
     "text": [
      "DatasetDict({\n",
      "    train: Dataset({\n",
      "        features: ['tokens', 'pos_tags', 'ner_tags'],\n",
      "        num_rows: 2000\n",
      "    })\n",
      "    test: Dataset({\n",
      "        features: ['tokens', 'pos_tags', 'ner_tags'],\n",
      "        num_rows: 250\n",
      "    })\n",
      "    validation: Dataset({\n",
      "        features: ['tokens', 'pos_tags', 'ner_tags'],\n",
      "        num_rows: 150\n",
      "    })\n",
      "})\n"
     ]
    }
   ],
   "source": [
    "dataset = load_dataset(\"surrey-nlp/PLOD-CW-25\")\n",
    "\n",
    "print(dataset)"
   ]
  },
  {
   "cell_type": "code",
   "execution_count": 67,
   "metadata": {
    "id": "3KS-HpK2bRUl"
   },
   "outputs": [],
   "source": [
    "df_train = pd.DataFrame(dataset[\"train\"])\n",
    "df_val = pd.DataFrame(dataset[\"validation\"])\n",
    "df_test = pd.DataFrame(dataset[\"test\"])"
   ]
  },
  {
   "cell_type": "code",
   "execution_count": 68,
   "metadata": {
    "id": "4gv4YxfQbTpg"
   },
   "outputs": [],
   "source": [
    "def safe_parse(col):\n",
    "    return [ast.literal_eval(row) if isinstance(row, str) else row for row in col]\n",
    "\n",
    "train_tokens = safe_parse(df_train[\"tokens\"])\n",
    "val_tokens = safe_parse(df_val[\"tokens\"])\n",
    "test_tokens = safe_parse(df_test[\"tokens\"])\n",
    "\n",
    "all_tokens = train_tokens + val_tokens + test_tokens"
   ]
  },
  {
   "cell_type": "code",
   "execution_count": 69,
   "metadata": {
    "id": "2I9oq2OhbWPX"
   },
   "outputs": [],
   "source": [
    "from torchtext.vocab import GloVe\n",
    "\n",
    "\n",
    "glove = GloVe(name='6B', dim=300)"
   ]
  },
  {
   "cell_type": "code",
   "execution_count": 70,
   "metadata": {
    "id": "bQqmAS4FbY-Q"
   },
   "outputs": [],
   "source": [
    "vocab = set(token for sentence in train_tokens + val_tokens + test_tokens for token in sentence)\n",
    "word_index = {word: i + 1 for i, word in enumerate(vocab)}\n",
    "\n",
    "embedding_dim = 300\n",
    "embedding_matrix = np.zeros((len(word_index) + 1, embedding_dim))\n",
    "\n",
    "for word, i in word_index.items():\n",
    "    if word in glove.stoi:\n",
    "        embedding_matrix[i] = glove[word].numpy()"
   ]
  },
  {
   "cell_type": "code",
   "execution_count": 71,
   "metadata": {
    "id": "C9qtpJGBbb_7"
   },
   "outputs": [],
   "source": [
    "embedding_layer = Embedding(\n",
    "    input_dim=embedding_matrix.shape[0],\n",
    "    output_dim=embedding_dim,\n",
    "    weights=[embedding_matrix],\n",
    "    mask_zero=True,\n",
    "    trainable=True\n",
    ")"
   ]
  },
  {
   "cell_type": "code",
   "execution_count": 72,
   "metadata": {
    "id": "7bpPDokibfhl"
   },
   "outputs": [],
   "source": [
    "def encode_sentences(token_lists, word_index, max_len):\n",
    "    sequences = [[word_index.get(token, 0) for token in tokens] for tokens in token_lists]\n",
    "    return pad_sequences(sequences, maxlen=max_len, padding=\"post\", truncating=\"post\")\n",
    "\n",
    "#using 90th percentile first\n",
    "max_len = 76\n",
    "\n",
    "X_train = encode_sentences(train_tokens, word_index, max_len)\n",
    "X_val = encode_sentences(val_tokens, word_index, max_len)\n",
    "X_test = encode_sentences(test_tokens, word_index, max_len)"
   ]
  },
  {
   "cell_type": "code",
   "execution_count": 73,
   "metadata": {
    "id": "R-55htcMbhpR"
   },
   "outputs": [],
   "source": [
    "all_tags = df_train[\"ner_tags\"].tolist() + df_val[\"ner_tags\"].tolist() + df_test[\"ner_tags\"].tolist()\n",
    "\n",
    "tag_encoder = LabelEncoder()\n",
    "tag_encoder.fit([tag for seq in all_tags for tag in seq])\n",
    "num_classes = len(tag_encoder.classes_)\n",
    "\n",
    "def encode_tags(tag_lists, max_len):\n",
    "    encoded = [tag_encoder.transform(tags) for tags in tag_lists]\n",
    "    padded = pad_sequences(encoded, maxlen=max_len, padding=\"post\", truncating=\"post\", value=-1)  # -1 for masking\n",
    "    return padded\n",
    "\n",
    "y_train = encode_tags(df_train[\"ner_tags\"].tolist(), max_len)\n",
    "y_val = encode_tags(df_val[\"ner_tags\"].tolist(), max_len)\n",
    "y_test = encode_tags(df_test[\"ner_tags\"].tolist(), max_len)"
   ]
  },
  {
   "cell_type": "code",
   "execution_count": 74,
   "metadata": {
    "colab": {
     "base_uri": "https://localhost:8080/",
     "height": 399
    },
    "id": "Xyym4hBTbkqt",
    "outputId": "c0b96d7e-79b4-486b-af12-8f8aebd5bb75"
   },
   "outputs": [
    {
     "name": "stderr",
     "output_type": "stream",
     "text": [
      "/Users/darren/anaconda3/lib/python3.11/site-packages/keras/src/layers/core/embedding.py:90: UserWarning: Argument `input_length` is deprecated. Just remove it.\n",
      "  warnings.warn(\n"
     ]
    },
    {
     "data": {
      "text/html": [
       "<pre style=\"white-space:pre;overflow-x:auto;line-height:normal;font-family:Menlo,'DejaVu Sans Mono',consolas,'Courier New',monospace\"><span style=\"font-weight: bold\">Model: \"functional_4\"</span>\n",
       "</pre>\n"
      ],
      "text/plain": [
       "\u001b[1mModel: \"functional_4\"\u001b[0m\n"
      ]
     },
     "metadata": {},
     "output_type": "display_data"
    },
    {
     "data": {
      "text/html": [
       "<pre style=\"white-space:pre;overflow-x:auto;line-height:normal;font-family:Menlo,'DejaVu Sans Mono',consolas,'Courier New',monospace\">┏━━━━━━━━━━━━━━━━━━━━━┳━━━━━━━━━━━━━━━━━━━┳━━━━━━━━━━━━┳━━━━━━━━━━━━━━━━━━━┓\n",
       "┃<span style=\"font-weight: bold\"> Layer (type)        </span>┃<span style=\"font-weight: bold\"> Output Shape      </span>┃<span style=\"font-weight: bold\">    Param # </span>┃<span style=\"font-weight: bold\"> Connected to      </span>┃\n",
       "┡━━━━━━━━━━━━━━━━━━━━━╇━━━━━━━━━━━━━━━━━━━╇━━━━━━━━━━━━╇━━━━━━━━━━━━━━━━━━━┩\n",
       "│ input_layer_4       │ (<span style=\"color: #00d7ff; text-decoration-color: #00d7ff\">None</span>, <span style=\"color: #00af00; text-decoration-color: #00af00\">76</span>)        │          <span style=\"color: #00af00; text-decoration-color: #00af00\">0</span> │ -                 │\n",
       "│ (<span style=\"color: #0087ff; text-decoration-color: #0087ff\">InputLayer</span>)        │                   │            │                   │\n",
       "├─────────────────────┼───────────────────┼────────────┼───────────────────┤\n",
       "│ embedding_7         │ (<span style=\"color: #00d7ff; text-decoration-color: #00d7ff\">None</span>, <span style=\"color: #00af00; text-decoration-color: #00af00\">76</span>, <span style=\"color: #00af00; text-decoration-color: #00af00\">300</span>)   │  <span style=\"color: #00af00; text-decoration-color: #00af00\">4,947,600</span> │ input_layer_4[<span style=\"color: #00af00; text-decoration-color: #00af00\">0</span>]… │\n",
       "│ (<span style=\"color: #0087ff; text-decoration-color: #0087ff\">Embedding</span>)         │                   │            │                   │\n",
       "├─────────────────────┼───────────────────┼────────────┼───────────────────┤\n",
       "│ not_equal_4         │ (<span style=\"color: #00d7ff; text-decoration-color: #00d7ff\">None</span>, <span style=\"color: #00af00; text-decoration-color: #00af00\">76</span>)        │          <span style=\"color: #00af00; text-decoration-color: #00af00\">0</span> │ input_layer_4[<span style=\"color: #00af00; text-decoration-color: #00af00\">0</span>]… │\n",
       "│ (<span style=\"color: #0087ff; text-decoration-color: #0087ff\">NotEqual</span>)          │                   │            │                   │\n",
       "├─────────────────────┼───────────────────┼────────────┼───────────────────┤\n",
       "│ bidirectional_4     │ (<span style=\"color: #00d7ff; text-decoration-color: #00d7ff\">None</span>, <span style=\"color: #00af00; text-decoration-color: #00af00\">76</span>, <span style=\"color: #00af00; text-decoration-color: #00af00\">256</span>)   │    <span style=\"color: #00af00; text-decoration-color: #00af00\">439,296</span> │ embedding_7[<span style=\"color: #00af00; text-decoration-color: #00af00\">0</span>][<span style=\"color: #00af00; text-decoration-color: #00af00\">0</span>… │\n",
       "│ (<span style=\"color: #0087ff; text-decoration-color: #0087ff\">Bidirectional</span>)     │                   │            │ not_equal_4[<span style=\"color: #00af00; text-decoration-color: #00af00\">0</span>][<span style=\"color: #00af00; text-decoration-color: #00af00\">0</span>] │\n",
       "├─────────────────────┼───────────────────┼────────────┼───────────────────┤\n",
       "│ dense_4 (<span style=\"color: #0087ff; text-decoration-color: #0087ff\">Dense</span>)     │ (<span style=\"color: #00d7ff; text-decoration-color: #00d7ff\">None</span>, <span style=\"color: #00af00; text-decoration-color: #00af00\">76</span>, <span style=\"color: #00af00; text-decoration-color: #00af00\">4</span>)     │      <span style=\"color: #00af00; text-decoration-color: #00af00\">1,028</span> │ bidirectional_4[<span style=\"color: #00af00; text-decoration-color: #00af00\">…</span> │\n",
       "└─────────────────────┴───────────────────┴────────────┴───────────────────┘\n",
       "</pre>\n"
      ],
      "text/plain": [
       "┏━━━━━━━━━━━━━━━━━━━━━┳━━━━━━━━━━━━━━━━━━━┳━━━━━━━━━━━━┳━━━━━━━━━━━━━━━━━━━┓\n",
       "┃\u001b[1m \u001b[0m\u001b[1mLayer (type)       \u001b[0m\u001b[1m \u001b[0m┃\u001b[1m \u001b[0m\u001b[1mOutput Shape     \u001b[0m\u001b[1m \u001b[0m┃\u001b[1m \u001b[0m\u001b[1m   Param #\u001b[0m\u001b[1m \u001b[0m┃\u001b[1m \u001b[0m\u001b[1mConnected to     \u001b[0m\u001b[1m \u001b[0m┃\n",
       "┡━━━━━━━━━━━━━━━━━━━━━╇━━━━━━━━━━━━━━━━━━━╇━━━━━━━━━━━━╇━━━━━━━━━━━━━━━━━━━┩\n",
       "│ input_layer_4       │ (\u001b[38;5;45mNone\u001b[0m, \u001b[38;5;34m76\u001b[0m)        │          \u001b[38;5;34m0\u001b[0m │ -                 │\n",
       "│ (\u001b[38;5;33mInputLayer\u001b[0m)        │                   │            │                   │\n",
       "├─────────────────────┼───────────────────┼────────────┼───────────────────┤\n",
       "│ embedding_7         │ (\u001b[38;5;45mNone\u001b[0m, \u001b[38;5;34m76\u001b[0m, \u001b[38;5;34m300\u001b[0m)   │  \u001b[38;5;34m4,947,600\u001b[0m │ input_layer_4[\u001b[38;5;34m0\u001b[0m]… │\n",
       "│ (\u001b[38;5;33mEmbedding\u001b[0m)         │                   │            │                   │\n",
       "├─────────────────────┼───────────────────┼────────────┼───────────────────┤\n",
       "│ not_equal_4         │ (\u001b[38;5;45mNone\u001b[0m, \u001b[38;5;34m76\u001b[0m)        │          \u001b[38;5;34m0\u001b[0m │ input_layer_4[\u001b[38;5;34m0\u001b[0m]… │\n",
       "│ (\u001b[38;5;33mNotEqual\u001b[0m)          │                   │            │                   │\n",
       "├─────────────────────┼───────────────────┼────────────┼───────────────────┤\n",
       "│ bidirectional_4     │ (\u001b[38;5;45mNone\u001b[0m, \u001b[38;5;34m76\u001b[0m, \u001b[38;5;34m256\u001b[0m)   │    \u001b[38;5;34m439,296\u001b[0m │ embedding_7[\u001b[38;5;34m0\u001b[0m][\u001b[38;5;34m0\u001b[0m… │\n",
       "│ (\u001b[38;5;33mBidirectional\u001b[0m)     │                   │            │ not_equal_4[\u001b[38;5;34m0\u001b[0m][\u001b[38;5;34m0\u001b[0m] │\n",
       "├─────────────────────┼───────────────────┼────────────┼───────────────────┤\n",
       "│ dense_4 (\u001b[38;5;33mDense\u001b[0m)     │ (\u001b[38;5;45mNone\u001b[0m, \u001b[38;5;34m76\u001b[0m, \u001b[38;5;34m4\u001b[0m)     │      \u001b[38;5;34m1,028\u001b[0m │ bidirectional_4[\u001b[38;5;34m…\u001b[0m │\n",
       "└─────────────────────┴───────────────────┴────────────┴───────────────────┘\n"
      ]
     },
     "metadata": {},
     "output_type": "display_data"
    },
    {
     "data": {
      "text/html": [
       "<pre style=\"white-space:pre;overflow-x:auto;line-height:normal;font-family:Menlo,'DejaVu Sans Mono',consolas,'Courier New',monospace\"><span style=\"font-weight: bold\"> Total params: </span><span style=\"color: #00af00; text-decoration-color: #00af00\">5,387,924</span> (20.55 MB)\n",
       "</pre>\n"
      ],
      "text/plain": [
       "\u001b[1m Total params: \u001b[0m\u001b[38;5;34m5,387,924\u001b[0m (20.55 MB)\n"
      ]
     },
     "metadata": {},
     "output_type": "display_data"
    },
    {
     "data": {
      "text/html": [
       "<pre style=\"white-space:pre;overflow-x:auto;line-height:normal;font-family:Menlo,'DejaVu Sans Mono',consolas,'Courier New',monospace\"><span style=\"font-weight: bold\"> Trainable params: </span><span style=\"color: #00af00; text-decoration-color: #00af00\">5,387,924</span> (20.55 MB)\n",
       "</pre>\n"
      ],
      "text/plain": [
       "\u001b[1m Trainable params: \u001b[0m\u001b[38;5;34m5,387,924\u001b[0m (20.55 MB)\n"
      ]
     },
     "metadata": {},
     "output_type": "display_data"
    },
    {
     "data": {
      "text/html": [
       "<pre style=\"white-space:pre;overflow-x:auto;line-height:normal;font-family:Menlo,'DejaVu Sans Mono',consolas,'Courier New',monospace\"><span style=\"font-weight: bold\"> Non-trainable params: </span><span style=\"color: #00af00; text-decoration-color: #00af00\">0</span> (0.00 B)\n",
       "</pre>\n"
      ],
      "text/plain": [
       "\u001b[1m Non-trainable params: \u001b[0m\u001b[38;5;34m0\u001b[0m (0.00 B)\n"
      ]
     },
     "metadata": {},
     "output_type": "display_data"
    }
   ],
   "source": [
    "input = Input(shape=(max_len,))\n",
    "model = Embedding(input_dim=embedding_matrix.shape[0],\n",
    "                  output_dim=embedding_matrix.shape[1],\n",
    "                  weights=[embedding_matrix],\n",
    "                  input_length=max_len,\n",
    "                  mask_zero=True,\n",
    "                  trainable=True)(input)\n",
    "model = Bidirectional(LSTM(units=128, return_sequences=True))(model)\n",
    "model = Dense(num_classes, activation=\"softmax\")(model)\n",
    "\n",
    "model = Model(input, model)\n",
    "model.summary()"
   ]
  },
  {
   "cell_type": "code",
   "execution_count": 75,
   "metadata": {
    "id": "UkdfcgnEbouA"
   },
   "outputs": [],
   "source": [
    "def create_sample_weights(y_padded):\n",
    "    return (y_padded != -1).astype(\"float32\")\n",
    "\n",
    "sample_weights_train = create_sample_weights(y_train)\n",
    "sample_weights_val = create_sample_weights(y_val)\n",
    "\n",
    "y_train = np.where(y_train == -1, 0, y_train)\n",
    "y_val = np.where(y_val == -1, 0, y_val)"
   ]
  },
  {
   "cell_type": "code",
   "execution_count": 76,
   "metadata": {
    "colab": {
     "base_uri": "https://localhost:8080/"
    },
    "id": "fPhOuFnPbp9R",
    "outputId": "daf2070e-0028-4237-948a-0eaa21c344f0"
   },
   "outputs": [
    {
     "name": "stdout",
     "output_type": "stream",
     "text": [
      "Epoch 1/15\n",
      "\u001b[1m63/63\u001b[0m \u001b[32m━━━━━━━━━━━━━━━━━━━━\u001b[0m\u001b[37m\u001b[0m \u001b[1m7s\u001b[0m 92ms/step - accuracy: 0.4041 - loss: 0.7267 - val_accuracy: 0.4146 - val_loss: 0.4189\n",
      "Epoch 2/15\n",
      "\u001b[1m63/63\u001b[0m \u001b[32m━━━━━━━━━━━━━━━━━━━━\u001b[0m\u001b[37m\u001b[0m \u001b[1m7s\u001b[0m 119ms/step - accuracy: 0.4310 - loss: 0.3443 - val_accuracy: 0.4275 - val_loss: 0.3529\n",
      "Epoch 3/15\n",
      "\u001b[1m63/63\u001b[0m \u001b[32m━━━━━━━━━━━━━━━━━━━━\u001b[0m\u001b[37m\u001b[0m \u001b[1m9s\u001b[0m 147ms/step - accuracy: 0.4526 - loss: 0.2466 - val_accuracy: 0.4340 - val_loss: 0.3371\n",
      "Epoch 4/15\n",
      "\u001b[1m63/63\u001b[0m \u001b[32m━━━━━━━━━━━━━━━━━━━━\u001b[0m\u001b[37m\u001b[0m \u001b[1m9s\u001b[0m 150ms/step - accuracy: 0.4735 - loss: 0.1551 - val_accuracy: 0.4339 - val_loss: 0.3471\n",
      "Epoch 5/15\n",
      "\u001b[1m63/63\u001b[0m \u001b[32m━━━━━━━━━━━━━━━━━━━━\u001b[0m\u001b[37m\u001b[0m \u001b[1m9s\u001b[0m 148ms/step - accuracy: 0.4755 - loss: 0.1002 - val_accuracy: 0.4327 - val_loss: 0.3766\n",
      "Epoch 6/15\n",
      "\u001b[1m63/63\u001b[0m \u001b[32m━━━━━━━━━━━━━━━━━━━━\u001b[0m\u001b[37m\u001b[0m \u001b[1m9s\u001b[0m 147ms/step - accuracy: 0.4946 - loss: 0.0636 - val_accuracy: 0.4327 - val_loss: 0.4110\n",
      "Epoch 7/15\n",
      "\u001b[1m63/63\u001b[0m \u001b[32m━━━━━━━━━━━━━━━━━━━━\u001b[0m\u001b[37m\u001b[0m \u001b[1m10s\u001b[0m 151ms/step - accuracy: 0.4949 - loss: 0.0382 - val_accuracy: 0.4321 - val_loss: 0.4546\n",
      "Epoch 8/15\n",
      "\u001b[1m63/63\u001b[0m \u001b[32m━━━━━━━━━━━━━━━━━━━━\u001b[0m\u001b[37m\u001b[0m \u001b[1m9s\u001b[0m 149ms/step - accuracy: 0.4970 - loss: 0.0283 - val_accuracy: 0.4329 - val_loss: 0.4845\n",
      "Epoch 9/15\n",
      "\u001b[1m63/63\u001b[0m \u001b[32m━━━━━━━━━━━━━━━━━━━━\u001b[0m\u001b[37m\u001b[0m \u001b[1m10s\u001b[0m 152ms/step - accuracy: 0.5022 - loss: 0.0242 - val_accuracy: 0.4296 - val_loss: 0.4773\n",
      "Epoch 10/15\n",
      "\u001b[1m63/63\u001b[0m \u001b[32m━━━━━━━━━━━━━━━━━━━━\u001b[0m\u001b[37m\u001b[0m \u001b[1m10s\u001b[0m 155ms/step - accuracy: 0.4961 - loss: 0.0169 - val_accuracy: 0.4324 - val_loss: 0.5247\n",
      "Epoch 11/15\n",
      "\u001b[1m63/63\u001b[0m \u001b[32m━━━━━━━━━━━━━━━━━━━━\u001b[0m\u001b[37m\u001b[0m \u001b[1m10s\u001b[0m 157ms/step - accuracy: 0.5015 - loss: 0.0094 - val_accuracy: 0.4325 - val_loss: 0.5503\n",
      "Epoch 12/15\n",
      "\u001b[1m63/63\u001b[0m \u001b[32m━━━━━━━━━━━━━━━━━━━━\u001b[0m\u001b[37m\u001b[0m \u001b[1m10s\u001b[0m 151ms/step - accuracy: 0.4999 - loss: 0.0064 - val_accuracy: 0.4311 - val_loss: 0.5713\n",
      "Epoch 13/15\n",
      "\u001b[1m63/63\u001b[0m \u001b[32m━━━━━━━━━━━━━━━━━━━━\u001b[0m\u001b[37m\u001b[0m \u001b[1m10s\u001b[0m 156ms/step - accuracy: 0.4971 - loss: 0.0044 - val_accuracy: 0.4325 - val_loss: 0.5991\n",
      "Epoch 14/15\n",
      "\u001b[1m63/63\u001b[0m \u001b[32m━━━━━━━━━━━━━━━━━━━━\u001b[0m\u001b[37m\u001b[0m \u001b[1m10s\u001b[0m 158ms/step - accuracy: 0.5020 - loss: 0.0034 - val_accuracy: 0.4318 - val_loss: 0.6276\n",
      "Epoch 15/15\n",
      "\u001b[1m63/63\u001b[0m \u001b[32m━━━━━━━━━━━━━━━━━━━━\u001b[0m\u001b[37m\u001b[0m \u001b[1m10s\u001b[0m 157ms/step - accuracy: 0.5083 - loss: 0.0027 - val_accuracy: 0.4332 - val_loss: 0.6402\n"
     ]
    }
   ],
   "source": [
    "model.compile(\n",
    "    optimizer=Adam(learning_rate=0.001),\n",
    "    loss=\"sparse_categorical_crossentropy\",\n",
    "    metrics=[\"accuracy\"]\n",
    ")\n",
    "\n",
    "\n",
    "history = model.fit(\n",
    "    X_train, y_train[..., np.newaxis],\n",
    "    validation_data=(X_val, y_val[..., np.newaxis], sample_weights_val),\n",
    "    sample_weight=sample_weights_train,\n",
    "    batch_size=32,\n",
    "    epochs=15\n",
    ")"
   ]
  },
  {
   "cell_type": "code",
   "execution_count": 77,
   "metadata": {
    "colab": {
     "base_uri": "https://localhost:8080/"
    },
    "id": "LW5olq9qbp-l",
    "outputId": "e34fcbe0-1f30-459f-9b89-99554a67a73b"
   },
   "outputs": [
    {
     "name": "stdout",
     "output_type": "stream",
     "text": [
      "\u001b[1m8/8\u001b[0m \u001b[32m━━━━━━━━━━━━━━━━━━━━\u001b[0m\u001b[37m\u001b[0m \u001b[1m0s\u001b[0m 39ms/step\n",
      "F1 Score: 0.676973148901546\n",
      "              precision    recall  f1-score   support\n",
      "\n",
      "          AC       0.76      0.75      0.76       741\n",
      "          LF       0.52      0.60      0.56       455\n",
      "\n",
      "   micro avg       0.66      0.70      0.68      1196\n",
      "   macro avg       0.64      0.68      0.66      1196\n",
      "weighted avg       0.67      0.70      0.68      1196\n",
      "\n"
     ]
    }
   ],
   "source": [
    "y_pred = model.predict(X_test)\n",
    "y_pred_labels = np.argmax(y_pred, axis=-1)\n",
    "\n",
    "idx2tag = {i: t for i, t in enumerate(tag_encoder.classes_)}\n",
    "\n",
    "true_labels = [[idx2tag[idx] for idx in row if idx != -1] for row in y_test]\n",
    "pred_labels = [[idx2tag[idx] for idx in row[:len(true_labels[i])]] for i, row in enumerate(y_pred_labels)]\n",
    "\n",
    "print(\"F1 Score:\", f1_score(true_labels, pred_labels))\n",
    "print(classification_report(true_labels, pred_labels))"
   ]
  },
  {
   "cell_type": "code",
   "execution_count": 78,
   "metadata": {},
   "outputs": [
    {
     "data": {
      "image/png": "[encoded data removed]",
      "text/plain": [
       "<Figure size 800x600 with 2 Axes>"
      ]
     },
     "metadata": {},
     "output_type": "display_data"
    }
   ],
   "source": [
    "\n",
    "flat_true = [label for seq in true_labels for label in seq]\n",
    "flat_pred = [label for seq in pred_labels for label in seq]\n",
    "\n",
    "def simplify(tag):\n",
    "    if tag == \"B-AC\":\n",
    "        return \"A\"\n",
    "    elif tag in (\"B-LF\", \"I-LF\"):\n",
    "        return \"LF\"\n",
    "    else:\n",
    "        return \"O\"\n",
    "\n",
    "flat_true_simplified = [simplify(tag) for tag in flat_true]\n",
    "flat_pred_simplified = [simplify(tag) for tag in flat_pred]\n",
    "\n",
    "le = LabelEncoder()\n",
    "le.fit([\"A\", \"LF\", \"O\"])\n",
    "y_true_encoded = le.transform(flat_true_simplified)\n",
    "y_pred_encoded = le.transform(flat_pred_simplified)\n",
    "\n",
    "cm = confusion_matrix(y_true_encoded, y_pred_encoded, normalize='true') * 100\n",
    "\n",
    "fig, ax = plt.subplots(figsize=(8, 6))\n",
    "disp = ConfusionMatrixDisplay(confusion_matrix=cm, display_labels=le.classes_)\n",
    "disp.plot(cmap=\"Blues\", ax=ax, values_format=\".3f\", xticks_rotation=45)\n",
    "plt.title(\"Normalized Confusion Matrix of Simplified NER Tags [%]\")\n",
    "plt.tight_layout()\n",
    "plt.show()\n"
   ]
  },
  {
   "cell_type": "markdown",
   "metadata": {
    "id": "pt_7XdHnYiBE"
   },
   "source": [
    "# Set up 3 (Fast Text)"
   ]
  },
  {
   "cell_type": "code",
   "execution_count": 36,
   "metadata": {
    "colab": {
     "base_uri": "https://localhost:8080/"
    },
    "id": "UKaTDzcpIF8U",
    "outputId": "5d0d50e7-2889-46e0-8492-2d2e4259fad9"
   },
   "outputs": [
    {
     "name": "stderr",
     "output_type": "stream",
     "text": [
      ".vector_cache/wiki.en.vec: 6.60GB [18:06, 6.07MB/s]                             \n",
      "  0%|                                               | 0/2519370 [00:00<?, ?it/s]Skipping token b'2519370' with 1-dimensional vector [b'300']; likely a header\n",
      "100%|██████████████████████████████| 2519370/2519370 [01:54<00:00, 21954.82it/s]\n"
     ]
    }
   ],
   "source": [
    "from torchtext.vocab import FastText\n",
    "\n",
    "fasttext = FastText(language='en')"
   ]
  },
  {
   "cell_type": "code",
   "execution_count": 37,
   "metadata": {
    "colab": {
     "base_uri": "https://localhost:8080/"
    },
    "id": "oHR2mJnVUzvW",
    "outputId": "d67d4bec-0ea2-4143-a6f5-c691f8ee058c"
   },
   "outputs": [
    {
     "name": "stdout",
     "output_type": "stream",
     "text": [
      "DatasetDict({\n",
      "    train: Dataset({\n",
      "        features: ['tokens', 'pos_tags', 'ner_tags'],\n",
      "        num_rows: 2000\n",
      "    })\n",
      "    test: Dataset({\n",
      "        features: ['tokens', 'pos_tags', 'ner_tags'],\n",
      "        num_rows: 250\n",
      "    })\n",
      "    validation: Dataset({\n",
      "        features: ['tokens', 'pos_tags', 'ner_tags'],\n",
      "        num_rows: 150\n",
      "    })\n",
      "})\n"
     ]
    }
   ],
   "source": [
    "dataset = load_dataset(\"surrey-nlp/PLOD-CW-25\")\n",
    "\n",
    "print(dataset)"
   ]
  },
  {
   "cell_type": "code",
   "execution_count": 38,
   "metadata": {
    "id": "tPuzQBy0U1gZ"
   },
   "outputs": [],
   "source": [
    "df_train = pd.DataFrame(dataset[\"train\"])\n",
    "df_val = pd.DataFrame(dataset[\"validation\"])\n",
    "df_test = pd.DataFrame(dataset[\"test\"])"
   ]
  },
  {
   "cell_type": "code",
   "execution_count": 39,
   "metadata": {
    "id": "FrQ2V7HGVDnH"
   },
   "outputs": [],
   "source": [
    "#To combine train,test,split for vectorisation to build a rich embedding space\n",
    "\n",
    "def safe_parse(col):\n",
    "    return [ast.literal_eval(row) if isinstance(row, str) else row for row in col]\n",
    "\n",
    "train_tokens = safe_parse(df_train[\"tokens\"])\n",
    "val_tokens = safe_parse(df_val[\"tokens\"])\n",
    "test_tokens = safe_parse(df_test[\"tokens\"])\n",
    "\n",
    "all_tokens = train_tokens + val_tokens + test_tokens"
   ]
  },
  {
   "cell_type": "markdown",
   "metadata": {
    "id": "SHmO8pSxQoOB"
   },
   "source": [
    "Preparation of data (Creating vocab + embeding matrix from model itself)"
   ]
  },
  {
   "cell_type": "code",
   "execution_count": 40,
   "metadata": {
    "id": "XBdjOnXZNqib"
   },
   "outputs": [],
   "source": [
    "vocab = set(token for sentence in train_tokens + val_tokens + test_tokens for token in sentence)\n",
    "word_index = {word: i + 1 for i, word in enumerate(vocab)}\n",
    "\n",
    "embedding_dim = fasttext.dim\n",
    "embedding_matrix = np.zeros((len(word_index) + 1, embedding_dim))\n",
    "\n",
    "for word, i in word_index.items():\n",
    "    if word in fasttext.stoi:\n",
    "        embedding_matrix[i] = fasttext[word].numpy()"
   ]
  },
  {
   "cell_type": "code",
   "execution_count": 41,
   "metadata": {
    "id": "iOA4grAPQk9z"
   },
   "outputs": [],
   "source": [
    "embedding_layer = Embedding(\n",
    "    input_dim=embedding_matrix.shape[0],\n",
    "    output_dim=embedding_dim,\n",
    "    weights=[embedding_matrix],\n",
    "    mask_zero=True,\n",
    "    trainable=True\n",
    ")\n"
   ]
  },
  {
   "cell_type": "code",
   "execution_count": 42,
   "metadata": {
    "id": "uUrY8y_TRGG-"
   },
   "outputs": [],
   "source": [
    "# Encode as Bi-LSTM requires numbers to process\n",
    "def encode_sentences(token_lists, word_index, max_len):\n",
    "    sequences = [[word_index.get(token, 0) for token in tokens] for tokens in token_lists]\n",
    "    return pad_sequences(sequences, maxlen=max_len, padding=\"post\", truncating=\"post\")\n",
    "\n",
    "#using 90th percentile first\n",
    "max_len = 76\n",
    "\n",
    "X_train = encode_sentences(train_tokens, word_index, max_len)\n",
    "X_val = encode_sentences(val_tokens, word_index, max_len)\n",
    "X_test = encode_sentences(test_tokens, word_index, max_len)"
   ]
  },
  {
   "cell_type": "code",
   "execution_count": 43,
   "metadata": {
    "id": "QwbIHvKHRfx6"
   },
   "outputs": [],
   "source": [
    "all_tags = df_train[\"ner_tags\"].tolist() + df_val[\"ner_tags\"].tolist() + df_test[\"ner_tags\"].tolist()\n",
    "\n",
    "tag_encoder = LabelEncoder()\n",
    "tag_encoder.fit([tag for seq in all_tags for tag in seq])\n",
    "num_classes = len(tag_encoder.classes_)\n",
    "\n",
    "def encode_tags(tag_lists, max_len):\n",
    "    encoded = [tag_encoder.transform(tags) for tags in tag_lists]\n",
    "    padded = pad_sequences(encoded, maxlen=max_len, padding=\"post\", truncating=\"post\", value=-1)  # -1 for masking\n",
    "    return padded\n",
    "\n",
    "y_train = encode_tags(df_train[\"ner_tags\"].tolist(), max_len)\n",
    "y_val = encode_tags(df_val[\"ner_tags\"].tolist(), max_len)\n",
    "y_test = encode_tags(df_test[\"ner_tags\"].tolist(), max_len)"
   ]
  },
  {
   "cell_type": "code",
   "execution_count": 44,
   "metadata": {
    "colab": {
     "base_uri": "https://localhost:8080/",
     "height": 399
    },
    "id": "zgdLcOTqSTcg",
    "outputId": "336f6409-eafd-4182-ffb5-a88bea9e1ca3"
   },
   "outputs": [
    {
     "name": "stderr",
     "output_type": "stream",
     "text": [
      "/Users/darren/anaconda3/lib/python3.11/site-packages/keras/src/layers/core/embedding.py:90: UserWarning: Argument `input_length` is deprecated. Just remove it.\n",
      "  warnings.warn(\n"
     ]
    },
    {
     "data": {
      "text/html": [
       "<pre style=\"white-space:pre;overflow-x:auto;line-height:normal;font-family:Menlo,'DejaVu Sans Mono',consolas,'Courier New',monospace\"><span style=\"font-weight: bold\">Model: \"functional_2\"</span>\n",
       "</pre>\n"
      ],
      "text/plain": [
       "\u001b[1mModel: \"functional_2\"\u001b[0m\n"
      ]
     },
     "metadata": {},
     "output_type": "display_data"
    },
    {
     "data": {
      "text/html": [
       "<pre style=\"white-space:pre;overflow-x:auto;line-height:normal;font-family:Menlo,'DejaVu Sans Mono',consolas,'Courier New',monospace\">┏━━━━━━━━━━━━━━━━━━━━━┳━━━━━━━━━━━━━━━━━━━┳━━━━━━━━━━━━┳━━━━━━━━━━━━━━━━━━━┓\n",
       "┃<span style=\"font-weight: bold\"> Layer (type)        </span>┃<span style=\"font-weight: bold\"> Output Shape      </span>┃<span style=\"font-weight: bold\">    Param # </span>┃<span style=\"font-weight: bold\"> Connected to      </span>┃\n",
       "┡━━━━━━━━━━━━━━━━━━━━━╇━━━━━━━━━━━━━━━━━━━╇━━━━━━━━━━━━╇━━━━━━━━━━━━━━━━━━━┩\n",
       "│ input_layer_2       │ (<span style=\"color: #00d7ff; text-decoration-color: #00d7ff\">None</span>, <span style=\"color: #00af00; text-decoration-color: #00af00\">76</span>)        │          <span style=\"color: #00af00; text-decoration-color: #00af00\">0</span> │ -                 │\n",
       "│ (<span style=\"color: #0087ff; text-decoration-color: #0087ff\">InputLayer</span>)        │                   │            │                   │\n",
       "├─────────────────────┼───────────────────┼────────────┼───────────────────┤\n",
       "│ embedding_4         │ (<span style=\"color: #00d7ff; text-decoration-color: #00d7ff\">None</span>, <span style=\"color: #00af00; text-decoration-color: #00af00\">76</span>, <span style=\"color: #00af00; text-decoration-color: #00af00\">300</span>)   │  <span style=\"color: #00af00; text-decoration-color: #00af00\">4,947,600</span> │ input_layer_2[<span style=\"color: #00af00; text-decoration-color: #00af00\">0</span>]… │\n",
       "│ (<span style=\"color: #0087ff; text-decoration-color: #0087ff\">Embedding</span>)         │                   │            │                   │\n",
       "├─────────────────────┼───────────────────┼────────────┼───────────────────┤\n",
       "│ not_equal_2         │ (<span style=\"color: #00d7ff; text-decoration-color: #00d7ff\">None</span>, <span style=\"color: #00af00; text-decoration-color: #00af00\">76</span>)        │          <span style=\"color: #00af00; text-decoration-color: #00af00\">0</span> │ input_layer_2[<span style=\"color: #00af00; text-decoration-color: #00af00\">0</span>]… │\n",
       "│ (<span style=\"color: #0087ff; text-decoration-color: #0087ff\">NotEqual</span>)          │                   │            │                   │\n",
       "├─────────────────────┼───────────────────┼────────────┼───────────────────┤\n",
       "│ bidirectional_2     │ (<span style=\"color: #00d7ff; text-decoration-color: #00d7ff\">None</span>, <span style=\"color: #00af00; text-decoration-color: #00af00\">76</span>, <span style=\"color: #00af00; text-decoration-color: #00af00\">256</span>)   │    <span style=\"color: #00af00; text-decoration-color: #00af00\">439,296</span> │ embedding_4[<span style=\"color: #00af00; text-decoration-color: #00af00\">0</span>][<span style=\"color: #00af00; text-decoration-color: #00af00\">0</span>… │\n",
       "│ (<span style=\"color: #0087ff; text-decoration-color: #0087ff\">Bidirectional</span>)     │                   │            │ not_equal_2[<span style=\"color: #00af00; text-decoration-color: #00af00\">0</span>][<span style=\"color: #00af00; text-decoration-color: #00af00\">0</span>] │\n",
       "├─────────────────────┼───────────────────┼────────────┼───────────────────┤\n",
       "│ dense_2 (<span style=\"color: #0087ff; text-decoration-color: #0087ff\">Dense</span>)     │ (<span style=\"color: #00d7ff; text-decoration-color: #00d7ff\">None</span>, <span style=\"color: #00af00; text-decoration-color: #00af00\">76</span>, <span style=\"color: #00af00; text-decoration-color: #00af00\">4</span>)     │      <span style=\"color: #00af00; text-decoration-color: #00af00\">1,028</span> │ bidirectional_2[<span style=\"color: #00af00; text-decoration-color: #00af00\">…</span> │\n",
       "└─────────────────────┴───────────────────┴────────────┴───────────────────┘\n",
       "</pre>\n"
      ],
      "text/plain": [
       "┏━━━━━━━━━━━━━━━━━━━━━┳━━━━━━━━━━━━━━━━━━━┳━━━━━━━━━━━━┳━━━━━━━━━━━━━━━━━━━┓\n",
       "┃\u001b[1m \u001b[0m\u001b[1mLayer (type)       \u001b[0m\u001b[1m \u001b[0m┃\u001b[1m \u001b[0m\u001b[1mOutput Shape     \u001b[0m\u001b[1m \u001b[0m┃\u001b[1m \u001b[0m\u001b[1m   Param #\u001b[0m\u001b[1m \u001b[0m┃\u001b[1m \u001b[0m\u001b[1mConnected to     \u001b[0m\u001b[1m \u001b[0m┃\n",
       "┡━━━━━━━━━━━━━━━━━━━━━╇━━━━━━━━━━━━━━━━━━━╇━━━━━━━━━━━━╇━━━━━━━━━━━━━━━━━━━┩\n",
       "│ input_layer_2       │ (\u001b[38;5;45mNone\u001b[0m, \u001b[38;5;34m76\u001b[0m)        │          \u001b[38;5;34m0\u001b[0m │ -                 │\n",
       "│ (\u001b[38;5;33mInputLayer\u001b[0m)        │                   │            │                   │\n",
       "├─────────────────────┼───────────────────┼────────────┼───────────────────┤\n",
       "│ embedding_4         │ (\u001b[38;5;45mNone\u001b[0m, \u001b[38;5;34m76\u001b[0m, \u001b[38;5;34m300\u001b[0m)   │  \u001b[38;5;34m4,947,600\u001b[0m │ input_layer_2[\u001b[38;5;34m0\u001b[0m]… │\n",
       "│ (\u001b[38;5;33mEmbedding\u001b[0m)         │                   │            │                   │\n",
       "├─────────────────────┼───────────────────┼────────────┼───────────────────┤\n",
       "│ not_equal_2         │ (\u001b[38;5;45mNone\u001b[0m, \u001b[38;5;34m76\u001b[0m)        │          \u001b[38;5;34m0\u001b[0m │ input_layer_2[\u001b[38;5;34m0\u001b[0m]… │\n",
       "│ (\u001b[38;5;33mNotEqual\u001b[0m)          │                   │            │                   │\n",
       "├─────────────────────┼───────────────────┼────────────┼───────────────────┤\n",
       "│ bidirectional_2     │ (\u001b[38;5;45mNone\u001b[0m, \u001b[38;5;34m76\u001b[0m, \u001b[38;5;34m256\u001b[0m)   │    \u001b[38;5;34m439,296\u001b[0m │ embedding_4[\u001b[38;5;34m0\u001b[0m][\u001b[38;5;34m0\u001b[0m… │\n",
       "│ (\u001b[38;5;33mBidirectional\u001b[0m)     │                   │            │ not_equal_2[\u001b[38;5;34m0\u001b[0m][\u001b[38;5;34m0\u001b[0m] │\n",
       "├─────────────────────┼───────────────────┼────────────┼───────────────────┤\n",
       "│ dense_2 (\u001b[38;5;33mDense\u001b[0m)     │ (\u001b[38;5;45mNone\u001b[0m, \u001b[38;5;34m76\u001b[0m, \u001b[38;5;34m4\u001b[0m)     │      \u001b[38;5;34m1,028\u001b[0m │ bidirectional_2[\u001b[38;5;34m…\u001b[0m │\n",
       "└─────────────────────┴───────────────────┴────────────┴───────────────────┘\n"
      ]
     },
     "metadata": {},
     "output_type": "display_data"
    },
    {
     "data": {
      "text/html": [
       "<pre style=\"white-space:pre;overflow-x:auto;line-height:normal;font-family:Menlo,'DejaVu Sans Mono',consolas,'Courier New',monospace\"><span style=\"font-weight: bold\"> Total params: </span><span style=\"color: #00af00; text-decoration-color: #00af00\">5,387,924</span> (20.55 MB)\n",
       "</pre>\n"
      ],
      "text/plain": [
       "\u001b[1m Total params: \u001b[0m\u001b[38;5;34m5,387,924\u001b[0m (20.55 MB)\n"
      ]
     },
     "metadata": {},
     "output_type": "display_data"
    },
    {
     "data": {
      "text/html": [
       "<pre style=\"white-space:pre;overflow-x:auto;line-height:normal;font-family:Menlo,'DejaVu Sans Mono',consolas,'Courier New',monospace\"><span style=\"font-weight: bold\"> Trainable params: </span><span style=\"color: #00af00; text-decoration-color: #00af00\">5,387,924</span> (20.55 MB)\n",
       "</pre>\n"
      ],
      "text/plain": [
       "\u001b[1m Trainable params: \u001b[0m\u001b[38;5;34m5,387,924\u001b[0m (20.55 MB)\n"
      ]
     },
     "metadata": {},
     "output_type": "display_data"
    },
    {
     "data": {
      "text/html": [
       "<pre style=\"white-space:pre;overflow-x:auto;line-height:normal;font-family:Menlo,'DejaVu Sans Mono',consolas,'Courier New',monospace\"><span style=\"font-weight: bold\"> Non-trainable params: </span><span style=\"color: #00af00; text-decoration-color: #00af00\">0</span> (0.00 B)\n",
       "</pre>\n"
      ],
      "text/plain": [
       "\u001b[1m Non-trainable params: \u001b[0m\u001b[38;5;34m0\u001b[0m (0.00 B)\n"
      ]
     },
     "metadata": {},
     "output_type": "display_data"
    }
   ],
   "source": [
    "input = Input(shape=(max_len,))\n",
    "model = Embedding(input_dim=embedding_matrix.shape[0],\n",
    "                  output_dim=embedding_matrix.shape[1],\n",
    "                  weights=[embedding_matrix],\n",
    "                  input_length=max_len,\n",
    "                  mask_zero=True,\n",
    "                  trainable=True)(input)\n",
    "model = Bidirectional(LSTM(units=128, return_sequences=True))(model)\n",
    "model = Dense(num_classes, activation=\"softmax\")(model)\n",
    "\n",
    "model = Model(input, model)\n",
    "model.summary()\n"
   ]
  },
  {
   "cell_type": "code",
   "execution_count": 45,
   "metadata": {
    "id": "6ZYZOGfzWcgc"
   },
   "outputs": [],
   "source": [
    "def create_sample_weights(y_padded):\n",
    "    return (y_padded != -1).astype(\"float32\")\n",
    "\n",
    "sample_weights_train = create_sample_weights(y_train)\n",
    "sample_weights_val = create_sample_weights(y_val)\n",
    "\n",
    "y_train = np.where(y_train == -1, 0, y_train)\n",
    "y_val = np.where(y_val == -1, 0, y_val)\n",
    "\n"
   ]
  },
  {
   "cell_type": "code",
   "execution_count": 46,
   "metadata": {
    "colab": {
     "base_uri": "https://localhost:8080/"
    },
    "id": "Gyqj5a5-Uc_y",
    "outputId": "2329c779-fd5d-46e1-9cd0-4d049f2fb0b5"
   },
   "outputs": [
    {
     "name": "stdout",
     "output_type": "stream",
     "text": [
      "Epoch 1/15\n",
      "\u001b[1m63/63\u001b[0m \u001b[32m━━━━━━━━━━━━━━━━━━━━\u001b[0m\u001b[37m\u001b[0m \u001b[1m8s\u001b[0m 98ms/step - accuracy: 0.3889 - loss: 0.8005 - val_accuracy: 0.4154 - val_loss: 0.4243\n",
      "Epoch 2/15\n",
      "\u001b[1m63/63\u001b[0m \u001b[32m━━━━━━━━━━━━━━━━━━━━\u001b[0m\u001b[37m\u001b[0m \u001b[1m7s\u001b[0m 118ms/step - accuracy: 0.4265 - loss: 0.3423 - val_accuracy: 0.4305 - val_loss: 0.3468\n",
      "Epoch 3/15\n",
      "\u001b[1m63/63\u001b[0m \u001b[32m━━━━━━━━━━━━━━━━━━━━\u001b[0m\u001b[37m\u001b[0m \u001b[1m10s\u001b[0m 161ms/step - accuracy: 0.4630 - loss: 0.2141 - val_accuracy: 0.4332 - val_loss: 0.3445\n",
      "Epoch 4/15\n",
      "\u001b[1m63/63\u001b[0m \u001b[32m━━━━━━━━━━━━━━━━━━━━\u001b[0m\u001b[37m\u001b[0m \u001b[1m10s\u001b[0m 163ms/step - accuracy: 0.4729 - loss: 0.1284 - val_accuracy: 0.4329 - val_loss: 0.3567\n",
      "Epoch 5/15\n",
      "\u001b[1m63/63\u001b[0m \u001b[32m━━━━━━━━━━━━━━━━━━━━\u001b[0m\u001b[37m\u001b[0m \u001b[1m10s\u001b[0m 163ms/step - accuracy: 0.4928 - loss: 0.0795 - val_accuracy: 0.4360 - val_loss: 0.3740\n",
      "Epoch 6/15\n",
      "\u001b[1m63/63\u001b[0m \u001b[32m━━━━━━━━━━━━━━━━━━━━\u001b[0m\u001b[37m\u001b[0m \u001b[1m10s\u001b[0m 167ms/step - accuracy: 0.4882 - loss: 0.0515 - val_accuracy: 0.4342 - val_loss: 0.4282\n",
      "Epoch 7/15\n",
      "\u001b[1m63/63\u001b[0m \u001b[32m━━━━━━━━━━━━━━━━━━━━\u001b[0m\u001b[37m\u001b[0m \u001b[1m10s\u001b[0m 160ms/step - accuracy: 0.5005 - loss: 0.0372 - val_accuracy: 0.4343 - val_loss: 0.4523\n",
      "Epoch 8/15\n",
      "\u001b[1m63/63\u001b[0m \u001b[32m━━━━━━━━━━━━━━━━━━━━\u001b[0m\u001b[37m\u001b[0m \u001b[1m10s\u001b[0m 159ms/step - accuracy: 0.4920 - loss: 0.0256 - val_accuracy: 0.4346 - val_loss: 0.4776\n",
      "Epoch 9/15\n",
      "\u001b[1m63/63\u001b[0m \u001b[32m━━━━━━━━━━━━━━━━━━━━\u001b[0m\u001b[37m\u001b[0m \u001b[1m10s\u001b[0m 159ms/step - accuracy: 0.4904 - loss: 0.0169 - val_accuracy: 0.4332 - val_loss: 0.5132\n",
      "Epoch 10/15\n",
      "\u001b[1m63/63\u001b[0m \u001b[32m━━━━━━━━━━━━━━━━━━━━\u001b[0m\u001b[37m\u001b[0m \u001b[1m10s\u001b[0m 166ms/step - accuracy: 0.5027 - loss: 0.0098 - val_accuracy: 0.4333 - val_loss: 0.5528\n",
      "Epoch 11/15\n",
      "\u001b[1m63/63\u001b[0m \u001b[32m━━━━━━━━━━━━━━━━━━━━\u001b[0m\u001b[37m\u001b[0m \u001b[1m10s\u001b[0m 165ms/step - accuracy: 0.4968 - loss: 0.0072 - val_accuracy: 0.4334 - val_loss: 0.5503\n",
      "Epoch 12/15\n",
      "\u001b[1m63/63\u001b[0m \u001b[32m━━━━━━━━━━━━━━━━━━━━\u001b[0m\u001b[37m\u001b[0m \u001b[1m10s\u001b[0m 167ms/step - accuracy: 0.5226 - loss: 0.0052 - val_accuracy: 0.4324 - val_loss: 0.5909\n",
      "Epoch 13/15\n",
      "\u001b[1m63/63\u001b[0m \u001b[32m━━━━━━━━━━━━━━━━━━━━\u001b[0m\u001b[37m\u001b[0m \u001b[1m11s\u001b[0m 167ms/step - accuracy: 0.4966 - loss: 0.0047 - val_accuracy: 0.4302 - val_loss: 0.6264\n",
      "Epoch 14/15\n",
      "\u001b[1m63/63\u001b[0m \u001b[32m━━━━━━━━━━━━━━━━━━━━\u001b[0m\u001b[37m\u001b[0m \u001b[1m11s\u001b[0m 168ms/step - accuracy: 0.5038 - loss: 0.0051 - val_accuracy: 0.4328 - val_loss: 0.6257\n",
      "Epoch 15/15\n",
      "\u001b[1m63/63\u001b[0m \u001b[32m━━━━━━━━━━━━━━━━━━━━\u001b[0m\u001b[37m\u001b[0m \u001b[1m10s\u001b[0m 163ms/step - accuracy: 0.4989 - loss: 0.0044 - val_accuracy: 0.4310 - val_loss: 0.6475\n"
     ]
    }
   ],
   "source": [
    "#Training of model (using Adam as a baseline optimiser)\n",
    "model.compile(\n",
    "    optimizer=Adam(learning_rate=0.001),\n",
    "    loss=\"sparse_categorical_crossentropy\",\n",
    "    metrics=[\"accuracy\"]\n",
    ")\n",
    "\n",
    "\n",
    "history = model.fit(\n",
    "    X_train, y_train[..., np.newaxis],\n",
    "    validation_data=(X_val, y_val[..., np.newaxis], sample_weights_val),\n",
    "    sample_weight=sample_weights_train,\n",
    "    batch_size=32,\n",
    "    epochs=15\n",
    ")\n"
   ]
  },
  {
   "cell_type": "code",
   "execution_count": 47,
   "metadata": {
    "colab": {
     "base_uri": "https://localhost:8080/"
    },
    "id": "Bxj2SSA8Sypt",
    "outputId": "2fa71c50-b90a-493f-da02-b8c97f7e45b0"
   },
   "outputs": [
    {
     "name": "stdout",
     "output_type": "stream",
     "text": [
      "WARNING:tensorflow:5 out of the last 17 calls to <function TensorFlowTrainer.make_predict_function.<locals>.one_step_on_data_distributed at 0x3190fde40> triggered tf.function retracing. Tracing is expensive and the excessive number of tracings could be due to (1) creating @tf.function repeatedly in a loop, (2) passing tensors with different shapes, (3) passing Python objects instead of tensors. For (1), please define your @tf.function outside of the loop. For (2), @tf.function has reduce_retracing=True option that can avoid unnecessary retracing. For (3), please refer to https://www.tensorflow.org/guide/function#controlling_retracing and https://www.tensorflow.org/api_docs/python/tf/function for  more details.\n",
      "\u001b[1m8/8\u001b[0m \u001b[32m━━━━━━━━━━━━━━━━━━━━\u001b[0m\u001b[37m\u001b[0m \u001b[1m0s\u001b[0m 42ms/step\n",
      "F1 Score: 0.6740924092409241\n",
      "              precision    recall  f1-score   support\n",
      "\n",
      "          AC       0.79      0.77      0.78       741\n",
      "          LF       0.49      0.55      0.52       455\n",
      "\n",
      "   micro avg       0.67      0.68      0.67      1196\n",
      "   macro avg       0.64      0.66      0.65      1196\n",
      "weighted avg       0.67      0.68      0.68      1196\n",
      "\n"
     ]
    }
   ],
   "source": [
    "y_pred = model.predict(X_test)\n",
    "y_pred_labels = np.argmax(y_pred, axis=-1)\n",
    "\n",
    "idx2tag = {i: t for i, t in enumerate(tag_encoder.classes_)}\n",
    "\n",
    "true_labels = [[idx2tag[idx] for idx in row if idx != -1] for row in y_test]\n",
    "pred_labels = [[idx2tag[idx] for idx in row[:len(true_labels[i])]] for i, row in enumerate(y_pred_labels)]\n",
    "\n",
    "print(\"F1 Score:\", f1_score(true_labels, pred_labels))\n",
    "print(classification_report(true_labels, pred_labels))"
   ]
  },
  {
   "cell_type": "code",
   "execution_count": 48,
   "metadata": {
    "id": "mRLh79PeXcUU"
   },
   "outputs": [
    {
     "data": {
      "image/png": "[encoded data removed]",
      "text/plain": [
       "<Figure size 1000x800 with 2 Axes>"
      ]
     },
     "metadata": {},
     "output_type": "display_data"
    }
   ],
   "source": [
    "report_dict = classification_report(true_labels, pred_labels,output_dict=True)\n",
    "class_keys = [key for key in report_dict.keys() if key not in ['accuracy', 'macro avg', 'weighted avg']]\n",
    "\n",
    "flat_true = [tag for seq in true_labels for tag in seq]\n",
    "flat_pred = [tag for seq in pred_labels for tag in seq]\n",
    "\n",
    "flat_pred = flat_pred[:len(flat_true)]\n",
    "\n",
    "unique_tags = sorted(set(flat_true + flat_pred))\n",
    "\n",
    "from sklearn.preprocessing import LabelEncoder\n",
    "le = LabelEncoder()\n",
    "le.fit(unique_tags)\n",
    "\n",
    "y_true_encoded = le.transform(flat_true)\n",
    "y_pred_encoded = le.transform(flat_pred)\n",
    "\n",
    "cm = confusion_matrix(y_true_encoded, y_pred_encoded)\n",
    "disp = ConfusionMatrixDisplay(confusion_matrix=cm, display_labels=le.classes_)\n",
    "\n",
    "fig, ax = plt.subplots(figsize=(10, 8))\n",
    "disp.plot(include_values=True, cmap='Blues', ax=ax, xticks_rotation=45)\n",
    "plt.title(\"Confusion Matrix of NER Tags\")\n",
    "plt.tight_layout()\n",
    "plt.show()"
   ]
  },
  {
   "cell_type": "code",
   "execution_count": 50,
   "metadata": {},
   "outputs": [
    {
     "data": {
      "image/png": "[encoded data removed]",
      "text/plain": [
       "<Figure size 800x600 with 2 Axes>"
      ]
     },
     "metadata": {},
     "output_type": "display_data"
    }
   ],
   "source": [
    "import matplotlib.pyplot as plt\n",
    "from sklearn.metrics import confusion_matrix, ConfusionMatrixDisplay\n",
    "from sklearn.preprocessing import LabelEncoder\n",
    "\n",
    "flat_true = [label for seq in true_labels for label in seq]\n",
    "flat_pred = [label for seq in pred_labels for label in seq]\n",
    "\n",
    "def simplify(tag):\n",
    "    if tag == \"B-AC\":\n",
    "        return \"A\"\n",
    "    elif tag in (\"B-LF\", \"I-LF\"):\n",
    "        return \"LF\"\n",
    "    else:\n",
    "        return \"O\"\n",
    "\n",
    "flat_true_simplified = [simplify(tag) for tag in flat_true]\n",
    "flat_pred_simplified = [simplify(tag) for tag in flat_pred]\n",
    "\n",
    "le = LabelEncoder()\n",
    "le.fit([\"A\", \"LF\", \"O\"])\n",
    "y_true_encoded = le.transform(flat_true_simplified)\n",
    "y_pred_encoded = le.transform(flat_pred_simplified)\n",
    "\n",
    "cm = confusion_matrix(y_true_encoded, y_pred_encoded, normalize='true') * 100\n",
    "\n",
    "fig, ax = plt.subplots(figsize=(8, 6))\n",
    "disp = ConfusionMatrixDisplay(confusion_matrix=cm, display_labels=le.classes_)\n",
    "disp.plot(cmap=\"Blues\", ax=ax, values_format=\".3f\", xticks_rotation=45)\n",
    "plt.title(\"Normalized Confusion Matrix of Simplified NER Tags [%]\")\n",
    "plt.tight_layout()\n",
    "plt.show()\n"
   ]
  },
  {
   "cell_type": "code",
   "execution_count": null,
   "metadata": {},
   "outputs": [],
   "source": []
  }
 ],
 "metadata": {
  "colab": {
   "include_colab_link": true,
   "provenance": []
  },
  "kernelspec": {
   "display_name": "Python 3 (ipykernel)",
   "language": "python",
   "name": "python3"
  },
  "language_info": {
   "codemirror_mode": {
    "name": "ipython",
    "version": 3
   },
   "file_extension": ".py",
   "mimetype": "text/x-python",
   "name": "python",
   "nbconvert_exporter": "python",
   "pygments_lexer": "ipython3",
   "version": "3.11.7"
  }
 },
 "nbformat": 4,
 "nbformat_minor": 1
}
