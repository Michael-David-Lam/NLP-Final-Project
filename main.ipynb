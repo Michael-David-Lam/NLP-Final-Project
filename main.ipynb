{
 "cells": [
  {
   "cell_type": "markdown",
   "metadata": {
    "colab_type": "text",
    "id": "view-in-github"
   },
   "source": [
    "<a href=\"https://colab.research.google.com/github/Michael-David-Lam/NLP-Final-Project/blob/main/main.ipynb\" target=\"_parent\"><img src=\"https://colab.research.google.com/assets/colab-badge.svg\" alt=\"Open In Colab\"/></a>"
   ]
  },
  {
   "cell_type": "markdown",
   "metadata": {
    "id": "uTiJ5gIWRCP0"
   },
   "source": [
    "# Libraries/Dependencies Installation"
   ]
  },
  {
   "cell_type": "code",
   "execution_count": 2,
   "metadata": {
    "colab": {
     "base_uri": "https://localhost:8080/"
    },
    "id": "jWKCC-_gXWtc",
    "outputId": "947415fa-f7c4-4678-cafd-5c86bc3947d7"
   },
   "outputs": [
    {
     "name": "stdout",
     "output_type": "stream",
     "text": [
      "Collecting seqeval\n",
      "  Downloading seqeval-1.2.2.tar.gz (43 kB)\n",
      "\u001b[2K     \u001b[90m━━━━━━━━━━━━━━━━━━━━━━━━━━━━━━━━━━━━━━━━\u001b[0m \u001b[32m43.6/43.6 kB\u001b[0m \u001b[31m2.7 MB/s\u001b[0m eta \u001b[36m0:00:00\u001b[0m\n",
      "\u001b[?25h  Preparing metadata (setup.py) ... \u001b[?25l-\b \b\\\b \bdone\n",
      "\u001b[?25hRequirement already satisfied: numpy>=1.14.0 in ./anaconda3/lib/python3.11/site-packages (from seqeval) (1.26.3)\n",
      "Requirement already satisfied: scikit-learn>=0.21.3 in ./anaconda3/lib/python3.11/site-packages (from seqeval) (1.2.2)\n",
      "Requirement already satisfied: scipy>=1.3.2 in ./anaconda3/lib/python3.11/site-packages (from scikit-learn>=0.21.3->seqeval) (1.11.4)\n",
      "Requirement already satisfied: joblib>=1.1.1 in ./anaconda3/lib/python3.11/site-packages (from scikit-learn>=0.21.3->seqeval) (1.2.0)\n",
      "Requirement already satisfied: threadpoolctl>=2.0.0 in ./anaconda3/lib/python3.11/site-packages (from scikit-learn>=0.21.3->seqeval) (2.2.0)\n",
      "Building wheels for collected packages: seqeval\n",
      "  Building wheel for seqeval (setup.py) ... \u001b[?25l-\b \b\\\b \b|\b \bdone\n",
      "\u001b[?25h  Created wheel for seqeval: filename=seqeval-1.2.2-py3-none-any.whl size=16164 sha256=f8c06d192c4f10aaa33bb3b3e09219b34337b44f536610895574e15195570b89\n",
      "  Stored in directory: /Users/darren/Library/Caches/pip/wheels/bc/92/f0/243288f899c2eacdfa8c5f9aede4c71a9bad0ee26a01dc5ead\n",
      "Successfully built seqeval\n",
      "Installing collected packages: seqeval\n",
      "Successfully installed seqeval-1.2.2\n",
      "Found existing installation: torch 2.4.1\n",
      "Uninstalling torch-2.4.1:\n",
      "  Successfully uninstalled torch-2.4.1\n",
      "\u001b[33mWARNING: Skipping torchtext as it is not installed.\u001b[0m\u001b[33m\n",
      "\u001b[0mCollecting torch==2.0.1\n",
      "  Obtaining dependency information for torch==2.0.1 from https://files.pythonhosted.org/packages/85/68/f901437d3e3ef6fe97adb1f372479626d994185b8fa06803f5bdf3bb90fd/torch-2.0.1-cp311-none-macosx_11_0_arm64.whl.metadata\n",
      "  Downloading torch-2.0.1-cp311-none-macosx_11_0_arm64.whl.metadata (23 kB)\n",
      "Collecting torchtext==0.15.2\n",
      "  Obtaining dependency information for torchtext==0.15.2 from https://files.pythonhosted.org/packages/59/e9/1d3ecd04ef057277ba7e3ad0b8793f0d161b60a4ba7fe0b9aa6870a498e4/torchtext-0.15.2-cp311-cp311-macosx_11_0_arm64.whl.metadata\n",
      "  Downloading torchtext-0.15.2-cp311-cp311-macosx_11_0_arm64.whl.metadata (7.4 kB)\n",
      "Requirement already satisfied: filelock in ./anaconda3/lib/python3.11/site-packages (from torch==2.0.1) (3.13.1)\n",
      "Requirement already satisfied: typing-extensions in ./anaconda3/lib/python3.11/site-packages (from torch==2.0.1) (4.9.0)\n",
      "Requirement already satisfied: sympy in ./anaconda3/lib/python3.11/site-packages (from torch==2.0.1) (1.12)\n",
      "Requirement already satisfied: networkx in ./anaconda3/lib/python3.11/site-packages (from torch==2.0.1) (3.1)\n",
      "Requirement already satisfied: jinja2 in ./anaconda3/lib/python3.11/site-packages (from torch==2.0.1) (3.1.2)\n",
      "Requirement already satisfied: tqdm in ./anaconda3/lib/python3.11/site-packages (from torchtext==0.15.2) (4.67.1)\n",
      "Requirement already satisfied: requests in ./anaconda3/lib/python3.11/site-packages (from torchtext==0.15.2) (2.32.3)\n",
      "Requirement already satisfied: numpy in ./anaconda3/lib/python3.11/site-packages (from torchtext==0.15.2) (1.26.3)\n",
      "Collecting torchdata==0.6.1 (from torchtext==0.15.2)\n",
      "  Obtaining dependency information for torchdata==0.6.1 from https://files.pythonhosted.org/packages/13/53/55bf15592605643e9ab1e612814ddd360f008b78142eb5782b12be63389a/torchdata-0.6.1-cp311-cp311-macosx_11_0_arm64.whl.metadata\n",
      "  Downloading torchdata-0.6.1-cp311-cp311-macosx_11_0_arm64.whl.metadata (13 kB)\n",
      "Requirement already satisfied: urllib3>=1.25 in ./anaconda3/lib/python3.11/site-packages (from torchdata==0.6.1->torchtext==0.15.2) (1.26.18)\n",
      "Requirement already satisfied: MarkupSafe>=2.0 in ./anaconda3/lib/python3.11/site-packages (from jinja2->torch==2.0.1) (2.1.3)\n",
      "Requirement already satisfied: charset-normalizer<4,>=2 in ./anaconda3/lib/python3.11/site-packages (from requests->torchtext==0.15.2) (2.0.4)\n",
      "Requirement already satisfied: idna<4,>=2.5 in ./anaconda3/lib/python3.11/site-packages (from requests->torchtext==0.15.2) (3.4)\n",
      "Requirement already satisfied: certifi>=2017.4.17 in ./anaconda3/lib/python3.11/site-packages (from requests->torchtext==0.15.2) (2023.11.17)\n",
      "Requirement already satisfied: mpmath>=0.19 in ./anaconda3/lib/python3.11/site-packages (from sympy->torch==2.0.1) (1.3.0)\n",
      "Downloading torch-2.0.1-cp311-none-macosx_11_0_arm64.whl (55.8 MB)\n",
      "\u001b[2K   \u001b[90m━━━━━━━━━━━━━━━━━━━━━━━━━━━━━━━━━━━━━━━━\u001b[0m \u001b[32m55.8/55.8 MB\u001b[0m \u001b[31m18.4 MB/s\u001b[0m eta \u001b[36m0:00:00\u001b[0m\n",
      "\u001b[?25hDownloading torchtext-0.15.2-cp311-cp311-macosx_11_0_arm64.whl (2.1 MB)\n",
      "\u001b[2K   \u001b[90m━━━━━━━━━━━━━━━━━━━━━━━━━━━━━━━━━━━━━━━━\u001b[0m \u001b[32m2.1/2.1 MB\u001b[0m \u001b[31m11.2 MB/s\u001b[0m eta \u001b[36m0:00:00\u001b[0m\n",
      "\u001b[?25hDownloading torchdata-0.6.1-cp311-cp311-macosx_11_0_arm64.whl (1.7 MB)\n",
      "\u001b[2K   \u001b[90m━━━━━━━━━━━━━━━━━━━━━━━━━━━━━━━━━━━━━━━━\u001b[0m \u001b[32m1.7/1.7 MB\u001b[0m \u001b[31m11.8 MB/s\u001b[0m eta \u001b[36m0:00:00\u001b[0m\n",
      "\u001b[?25hInstalling collected packages: torch, torchdata, torchtext\n",
      "Successfully installed torch-2.0.1 torchdata-0.6.1 torchtext-0.15.2\n"
     ]
    }
   ],
   "source": [
    "# !pip install datasets\n",
    "# !pip install gensim\n",
    "# !pip install --upgrade numpy gensim\n",
    "# !pip install tensorflow\n",
    "# !pip install seqeval\n",
    "# !pip uninstall -y torch torchtext\n",
    "# !pip install torch==2.0.1 torchtext==0.15.2"
   ]
  },
  {
   "cell_type": "markdown",
   "metadata": {
    "id": "Uui459BGO23m"
   },
   "source": [
    "# Setup 1 (Word2Vec)"
   ]
  },
  {
   "cell_type": "code",
   "execution_count": 32,
   "metadata": {
    "id": "06GTRetkG1bS"
   },
   "outputs": [],
   "source": [
    "import pandas as pd\n",
    "import numpy as np\n",
    "import ast\n",
    "import string\n",
    "from itertools import chain\n",
    "from collections import Counter\n",
    "\n",
    "from datasets import load_dataset\n",
    "import evaluate\n",
    "from seqeval.metrics import classification_report, f1_score\n",
    "from sklearn.metrics import confusion_matrix, ConfusionMatrixDisplay\n",
    "from sklearn.preprocessing import LabelEncoder\n",
    "\n",
    "from gensim.models import Word2Vec, KeyedVectors\n",
    "\n",
    "from tensorflow.keras.models import Model\n",
    "from tensorflow.keras.layers import Input, Embedding, Bidirectional, LSTM, TimeDistributed, Dense, Masking\n",
    "from tensorflow.keras.preprocessing.text import Tokenizer\n",
    "from tensorflow.keras.preprocessing.sequence import pad_sequences\n",
    "from tensorflow.keras.utils import to_categorical\n",
    "from tensorflow.keras.optimizers import Adam\n",
    "\n",
    "from transformers import AutoTokenizer, AutoModelForTokenClassification, TrainingArguments, Trainer\n",
    "\n",
    "import matplotlib.pyplot as plt\n",
    "import seaborn as sns\n"
   ]
  },
  {
   "cell_type": "code",
   "execution_count": 52,
   "metadata": {
    "colab": {
     "base_uri": "https://localhost:8080/"
    },
    "id": "GUG9YpxlDAIJ",
    "outputId": "641835f6-57e1-4d12-e58c-40bb63fdb7f8"
   },
   "outputs": [
    {
     "name": "stdout",
     "output_type": "stream",
     "text": [
      "DatasetDict({\n",
      "    train: Dataset({\n",
      "        features: ['tokens', 'pos_tags', 'ner_tags'],\n",
      "        num_rows: 2000\n",
      "    })\n",
      "    test: Dataset({\n",
      "        features: ['tokens', 'pos_tags', 'ner_tags'],\n",
      "        num_rows: 250\n",
      "    })\n",
      "    validation: Dataset({\n",
      "        features: ['tokens', 'pos_tags', 'ner_tags'],\n",
      "        num_rows: 150\n",
      "    })\n",
      "})\n"
     ]
    }
   ],
   "source": [
    "dataset = load_dataset(\"surrey-nlp/PLOD-CW-25\")\n",
    "print(dataset)"
   ]
  },
  {
   "cell_type": "code",
   "execution_count": 53,
   "metadata": {
    "id": "PvGTSh7QGtXH"
   },
   "outputs": [],
   "source": [
    "df_train = pd.DataFrame(dataset[\"train\"])\n",
    "df_val = pd.DataFrame(dataset[\"validation\"])\n",
    "df_test = pd.DataFrame(dataset[\"test\"])"
   ]
  },
  {
   "cell_type": "code",
   "execution_count": 54,
   "metadata": {
    "id": "bWoGJ6j2Ngdh"
   },
   "outputs": [],
   "source": [
    "#To combine train,test,split for vectorisation to build a rich embedding space\n",
    "\n",
    "import ast\n",
    "\n",
    "def safe_parse(col):\n",
    "    return [ast.literal_eval(row) if isinstance(row, str) else row for row in col]\n",
    "\n",
    "train_tokens = safe_parse(df_train[\"tokens\"])\n",
    "val_tokens = safe_parse(df_val[\"tokens\"])\n",
    "test_tokens = safe_parse(df_test[\"tokens\"])\n",
    "\n",
    "all_tokens = train_tokens + val_tokens + test_tokens"
   ]
  },
  {
   "cell_type": "code",
   "execution_count": 55,
   "metadata": {
    "id": "szJampFkSKhQ"
   },
   "outputs": [],
   "source": [
    "#List of Parameters (Just using Lab as reference)\n",
    "num_features = 300\n",
    "min_word_count = 1\n",
    "num_workers = 2\n",
    "window_size = 3\n",
    "subsampling = 1e-3"
   ]
  },
  {
   "cell_type": "code",
   "execution_count": 56,
   "metadata": {
    "id": "POZaiqLzSNRn"
   },
   "outputs": [],
   "source": [
    "w2v_model = Word2Vec(\n",
    "    sentences=all_tokens,\n",
    "    vector_size=num_features,\n",
    "    window=window_size,\n",
    "    min_count=min_word_count,\n",
    "    workers=num_workers,\n",
    "    sample=subsampling\n",
    ")"
   ]
  },
  {
   "cell_type": "code",
   "execution_count": 57,
   "metadata": {
    "id": "BoE-4X22RaGk"
   },
   "outputs": [],
   "source": [
    "vocab = w2v_model.wv.index_to_key\n",
    "word_index = {word: idx + 1 for idx, word in enumerate(vocab)}\n",
    "\n",
    "embedding_dim = w2v_model.vector_size\n",
    "embedding_matrix = np.zeros((len(word_index) + 1, embedding_dim))\n",
    "for word, i in word_index.items():\n",
    "    embedding_matrix[i] = w2v_model.wv[word]"
   ]
  },
  {
   "cell_type": "code",
   "execution_count": 58,
   "metadata": {
    "colab": {
     "base_uri": "https://localhost:8080/"
    },
    "id": "nHg88SqASwnu",
    "outputId": "3d0f8afd-5a53-48ca-c007-ec9c64516ace"
   },
   "outputs": [
    {
     "name": "stdout",
     "output_type": "stream",
     "text": [
      "371\n",
      "41.17041666666667\n",
      "76.0\n"
     ]
    }
   ],
   "source": [
    "all_lengths = [len(seq) for seq in train_tokens + val_tokens + test_tokens]\n",
    "\n",
    "print(max(all_lengths))\n",
    "print(np.mean(all_lengths))\n",
    "print(np.percentile(all_lengths, 90))\n",
    "#likelihood to chose 76 to get the best balance of computational power + covers 90% of sequence"
   ]
  },
  {
   "cell_type": "code",
   "execution_count": 59,
   "metadata": {
    "id": "Yj8hDcfLTdVX"
   },
   "outputs": [],
   "source": [
    "# Encode as Bi-LSTM requires numbers to process\n",
    "\n",
    "def encode_sentences(token_lists, word_index, max_len):\n",
    "    sequences = [[word_index.get(token, 0) for token in tokens] for tokens in token_lists]\n",
    "    return pad_sequences(sequences, maxlen=max_len, padding=\"post\", truncating=\"post\")\n",
    "\n",
    "#using 90th percentile first\n",
    "max_len = 76\n",
    "\n",
    "X_train = encode_sentences(train_tokens, word_index, max_len)\n",
    "X_val = encode_sentences(val_tokens, word_index, max_len)\n",
    "X_test = encode_sentences(test_tokens, word_index, max_len)"
   ]
  },
  {
   "cell_type": "code",
   "execution_count": 60,
   "metadata": {
    "id": "JsH1nvzeTi1W"
   },
   "outputs": [],
   "source": [
    "all_tags = df_train[\"ner_tags\"].tolist() + df_val[\"ner_tags\"].tolist() + df_test[\"ner_tags\"].tolist()\n",
    "\n",
    "tag_encoder = LabelEncoder()\n",
    "tag_encoder.fit([tag for seq in all_tags for tag in seq])\n",
    "num_classes = len(tag_encoder.classes_)\n",
    "\n",
    "def encode_tags(tag_lists, max_len):\n",
    "    encoded = [tag_encoder.transform(tags) for tags in tag_lists]\n",
    "    padded = pad_sequences(encoded, maxlen=max_len, padding=\"post\", truncating=\"post\", value=-1)  # -1 for masking\n",
    "    return padded\n",
    "\n",
    "y_train = encode_tags(df_train[\"ner_tags\"].tolist(), max_len)\n",
    "y_val = encode_tags(df_val[\"ner_tags\"].tolist(), max_len)\n",
    "y_test = encode_tags(df_test[\"ner_tags\"].tolist(), max_len)"
   ]
  },
  {
   "cell_type": "code",
   "execution_count": 61,
   "metadata": {
    "colab": {
     "base_uri": "https://localhost:8080/",
     "height": 399
    },
    "id": "yQdk7gF5TqX3",
    "outputId": "09f6615c-e1aa-49e2-ecf9-b8be4336e863"
   },
   "outputs": [
    {
     "name": "stderr",
     "output_type": "stream",
     "text": [
      "/Users/darren/anaconda3/lib/python3.11/site-packages/keras/src/layers/core/embedding.py:90: UserWarning: Argument `input_length` is deprecated. Just remove it.\n",
      "  warnings.warn(\n"
     ]
    },
    {
     "data": {
      "text/html": [
       "<pre style=\"white-space:pre;overflow-x:auto;line-height:normal;font-family:Menlo,'DejaVu Sans Mono',consolas,'Courier New',monospace\"><span style=\"font-weight: bold\">Model: \"functional_3\"</span>\n",
       "</pre>\n"
      ],
      "text/plain": [
       "\u001b[1mModel: \"functional_3\"\u001b[0m\n"
      ]
     },
     "metadata": {},
     "output_type": "display_data"
    },
    {
     "data": {
      "text/html": [
       "<pre style=\"white-space:pre;overflow-x:auto;line-height:normal;font-family:Menlo,'DejaVu Sans Mono',consolas,'Courier New',monospace\">┏━━━━━━━━━━━━━━━━━━━━━┳━━━━━━━━━━━━━━━━━━━┳━━━━━━━━━━━━┳━━━━━━━━━━━━━━━━━━━┓\n",
       "┃<span style=\"font-weight: bold\"> Layer (type)        </span>┃<span style=\"font-weight: bold\"> Output Shape      </span>┃<span style=\"font-weight: bold\">    Param # </span>┃<span style=\"font-weight: bold\"> Connected to      </span>┃\n",
       "┡━━━━━━━━━━━━━━━━━━━━━╇━━━━━━━━━━━━━━━━━━━╇━━━━━━━━━━━━╇━━━━━━━━━━━━━━━━━━━┩\n",
       "│ input_layer_3       │ (<span style=\"color: #00d7ff; text-decoration-color: #00d7ff\">None</span>, <span style=\"color: #00af00; text-decoration-color: #00af00\">76</span>)        │          <span style=\"color: #00af00; text-decoration-color: #00af00\">0</span> │ -                 │\n",
       "│ (<span style=\"color: #0087ff; text-decoration-color: #0087ff\">InputLayer</span>)        │                   │            │                   │\n",
       "├─────────────────────┼───────────────────┼────────────┼───────────────────┤\n",
       "│ embedding_5         │ (<span style=\"color: #00d7ff; text-decoration-color: #00d7ff\">None</span>, <span style=\"color: #00af00; text-decoration-color: #00af00\">76</span>, <span style=\"color: #00af00; text-decoration-color: #00af00\">300</span>)   │  <span style=\"color: #00af00; text-decoration-color: #00af00\">4,947,600</span> │ input_layer_3[<span style=\"color: #00af00; text-decoration-color: #00af00\">0</span>]… │\n",
       "│ (<span style=\"color: #0087ff; text-decoration-color: #0087ff\">Embedding</span>)         │                   │            │                   │\n",
       "├─────────────────────┼───────────────────┼────────────┼───────────────────┤\n",
       "│ not_equal_3         │ (<span style=\"color: #00d7ff; text-decoration-color: #00d7ff\">None</span>, <span style=\"color: #00af00; text-decoration-color: #00af00\">76</span>)        │          <span style=\"color: #00af00; text-decoration-color: #00af00\">0</span> │ input_layer_3[<span style=\"color: #00af00; text-decoration-color: #00af00\">0</span>]… │\n",
       "│ (<span style=\"color: #0087ff; text-decoration-color: #0087ff\">NotEqual</span>)          │                   │            │                   │\n",
       "├─────────────────────┼───────────────────┼────────────┼───────────────────┤\n",
       "│ bidirectional_3     │ (<span style=\"color: #00d7ff; text-decoration-color: #00d7ff\">None</span>, <span style=\"color: #00af00; text-decoration-color: #00af00\">76</span>, <span style=\"color: #00af00; text-decoration-color: #00af00\">256</span>)   │    <span style=\"color: #00af00; text-decoration-color: #00af00\">439,296</span> │ embedding_5[<span style=\"color: #00af00; text-decoration-color: #00af00\">0</span>][<span style=\"color: #00af00; text-decoration-color: #00af00\">0</span>… │\n",
       "│ (<span style=\"color: #0087ff; text-decoration-color: #0087ff\">Bidirectional</span>)     │                   │            │ not_equal_3[<span style=\"color: #00af00; text-decoration-color: #00af00\">0</span>][<span style=\"color: #00af00; text-decoration-color: #00af00\">0</span>] │\n",
       "├─────────────────────┼───────────────────┼────────────┼───────────────────┤\n",
       "│ dense_3 (<span style=\"color: #0087ff; text-decoration-color: #0087ff\">Dense</span>)     │ (<span style=\"color: #00d7ff; text-decoration-color: #00d7ff\">None</span>, <span style=\"color: #00af00; text-decoration-color: #00af00\">76</span>, <span style=\"color: #00af00; text-decoration-color: #00af00\">4</span>)     │      <span style=\"color: #00af00; text-decoration-color: #00af00\">1,028</span> │ bidirectional_3[<span style=\"color: #00af00; text-decoration-color: #00af00\">…</span> │\n",
       "└─────────────────────┴───────────────────┴────────────┴───────────────────┘\n",
       "</pre>\n"
      ],
      "text/plain": [
       "┏━━━━━━━━━━━━━━━━━━━━━┳━━━━━━━━━━━━━━━━━━━┳━━━━━━━━━━━━┳━━━━━━━━━━━━━━━━━━━┓\n",
       "┃\u001b[1m \u001b[0m\u001b[1mLayer (type)       \u001b[0m\u001b[1m \u001b[0m┃\u001b[1m \u001b[0m\u001b[1mOutput Shape     \u001b[0m\u001b[1m \u001b[0m┃\u001b[1m \u001b[0m\u001b[1m   Param #\u001b[0m\u001b[1m \u001b[0m┃\u001b[1m \u001b[0m\u001b[1mConnected to     \u001b[0m\u001b[1m \u001b[0m┃\n",
       "┡━━━━━━━━━━━━━━━━━━━━━╇━━━━━━━━━━━━━━━━━━━╇━━━━━━━━━━━━╇━━━━━━━━━━━━━━━━━━━┩\n",
       "│ input_layer_3       │ (\u001b[38;5;45mNone\u001b[0m, \u001b[38;5;34m76\u001b[0m)        │          \u001b[38;5;34m0\u001b[0m │ -                 │\n",
       "│ (\u001b[38;5;33mInputLayer\u001b[0m)        │                   │            │                   │\n",
       "├─────────────────────┼───────────────────┼────────────┼───────────────────┤\n",
       "│ embedding_5         │ (\u001b[38;5;45mNone\u001b[0m, \u001b[38;5;34m76\u001b[0m, \u001b[38;5;34m300\u001b[0m)   │  \u001b[38;5;34m4,947,600\u001b[0m │ input_layer_3[\u001b[38;5;34m0\u001b[0m]… │\n",
       "│ (\u001b[38;5;33mEmbedding\u001b[0m)         │                   │            │                   │\n",
       "├─────────────────────┼───────────────────┼────────────┼───────────────────┤\n",
       "│ not_equal_3         │ (\u001b[38;5;45mNone\u001b[0m, \u001b[38;5;34m76\u001b[0m)        │          \u001b[38;5;34m0\u001b[0m │ input_layer_3[\u001b[38;5;34m0\u001b[0m]… │\n",
       "│ (\u001b[38;5;33mNotEqual\u001b[0m)          │                   │            │                   │\n",
       "├─────────────────────┼───────────────────┼────────────┼───────────────────┤\n",
       "│ bidirectional_3     │ (\u001b[38;5;45mNone\u001b[0m, \u001b[38;5;34m76\u001b[0m, \u001b[38;5;34m256\u001b[0m)   │    \u001b[38;5;34m439,296\u001b[0m │ embedding_5[\u001b[38;5;34m0\u001b[0m][\u001b[38;5;34m0\u001b[0m… │\n",
       "│ (\u001b[38;5;33mBidirectional\u001b[0m)     │                   │            │ not_equal_3[\u001b[38;5;34m0\u001b[0m][\u001b[38;5;34m0\u001b[0m] │\n",
       "├─────────────────────┼───────────────────┼────────────┼───────────────────┤\n",
       "│ dense_3 (\u001b[38;5;33mDense\u001b[0m)     │ (\u001b[38;5;45mNone\u001b[0m, \u001b[38;5;34m76\u001b[0m, \u001b[38;5;34m4\u001b[0m)     │      \u001b[38;5;34m1,028\u001b[0m │ bidirectional_3[\u001b[38;5;34m…\u001b[0m │\n",
       "└─────────────────────┴───────────────────┴────────────┴───────────────────┘\n"
      ]
     },
     "metadata": {},
     "output_type": "display_data"
    },
    {
     "data": {
      "text/html": [
       "<pre style=\"white-space:pre;overflow-x:auto;line-height:normal;font-family:Menlo,'DejaVu Sans Mono',consolas,'Courier New',monospace\"><span style=\"font-weight: bold\"> Total params: </span><span style=\"color: #00af00; text-decoration-color: #00af00\">5,387,924</span> (20.55 MB)\n",
       "</pre>\n"
      ],
      "text/plain": [
       "\u001b[1m Total params: \u001b[0m\u001b[38;5;34m5,387,924\u001b[0m (20.55 MB)\n"
      ]
     },
     "metadata": {},
     "output_type": "display_data"
    },
    {
     "data": {
      "text/html": [
       "<pre style=\"white-space:pre;overflow-x:auto;line-height:normal;font-family:Menlo,'DejaVu Sans Mono',consolas,'Courier New',monospace\"><span style=\"font-weight: bold\"> Trainable params: </span><span style=\"color: #00af00; text-decoration-color: #00af00\">5,387,924</span> (20.55 MB)\n",
       "</pre>\n"
      ],
      "text/plain": [
       "\u001b[1m Trainable params: \u001b[0m\u001b[38;5;34m5,387,924\u001b[0m (20.55 MB)\n"
      ]
     },
     "metadata": {},
     "output_type": "display_data"
    },
    {
     "data": {
      "text/html": [
       "<pre style=\"white-space:pre;overflow-x:auto;line-height:normal;font-family:Menlo,'DejaVu Sans Mono',consolas,'Courier New',monospace\"><span style=\"font-weight: bold\"> Non-trainable params: </span><span style=\"color: #00af00; text-decoration-color: #00af00\">0</span> (0.00 B)\n",
       "</pre>\n"
      ],
      "text/plain": [
       "\u001b[1m Non-trainable params: \u001b[0m\u001b[38;5;34m0\u001b[0m (0.00 B)\n"
      ]
     },
     "metadata": {},
     "output_type": "display_data"
    }
   ],
   "source": [
    "input = Input(shape=(max_len,))\n",
    "model = Embedding(input_dim=embedding_matrix.shape[0],\n",
    "                  output_dim=embedding_matrix.shape[1],\n",
    "                  weights=[embedding_matrix],\n",
    "                  input_length=max_len,\n",
    "                  mask_zero=True,\n",
    "                  trainable=True)(input)\n",
    "model = Bidirectional(LSTM(units=128, return_sequences=True))(model)\n",
    "model = Dense(num_classes, activation=\"softmax\")(model)\n",
    "\n",
    "model = Model(input, model)\n",
    "model.summary()"
   ]
  },
  {
   "cell_type": "code",
   "execution_count": 62,
   "metadata": {
    "id": "iOnwb92DT0_V"
   },
   "outputs": [],
   "source": [
    "def create_sample_weights(y_padded):\n",
    "    return (y_padded != -1).astype(\"float32\")\n",
    "\n",
    "sample_weights_train = create_sample_weights(y_train)\n",
    "sample_weights_val = create_sample_weights(y_val)\n",
    "\n",
    "y_train = np.where(y_train == -1, 0, y_train)\n",
    "y_val = np.where(y_val == -1, 0, y_val)"
   ]
  },
  {
   "cell_type": "code",
   "execution_count": 63,
   "metadata": {
    "colab": {
     "base_uri": "https://localhost:8080/"
    },
    "id": "_sv64A07T3g-",
    "outputId": "8dc414ec-ab4f-402f-8b78-49ce776e7756"
   },
   "outputs": [
    {
     "name": "stdout",
     "output_type": "stream",
     "text": [
      "Epoch 1/15\n",
      "\u001b[1m63/63\u001b[0m \u001b[32m━━━━━━━━━━━━━━━━━━━━\u001b[0m\u001b[37m\u001b[0m \u001b[1m7s\u001b[0m 93ms/step - accuracy: 0.3890 - loss: 0.8189 - val_accuracy: 0.4096 - val_loss: 0.4819\n",
      "Epoch 2/15\n",
      "\u001b[1m63/63\u001b[0m \u001b[32m━━━━━━━━━━━━━━━━━━━━\u001b[0m\u001b[37m\u001b[0m \u001b[1m8s\u001b[0m 122ms/step - accuracy: 0.4221 - loss: 0.4087 - val_accuracy: 0.4260 - val_loss: 0.3924\n",
      "Epoch 3/15\n",
      "\u001b[1m63/63\u001b[0m \u001b[32m━━━━━━━━━━━━━━━━━━━━\u001b[0m\u001b[37m\u001b[0m \u001b[1m10s\u001b[0m 154ms/step - accuracy: 0.4590 - loss: 0.2478 - val_accuracy: 0.4327 - val_loss: 0.3628\n",
      "Epoch 4/15\n",
      "\u001b[1m63/63\u001b[0m \u001b[32m━━━━━━━━━━━━━━━━━━━━\u001b[0m\u001b[37m\u001b[0m \u001b[1m10s\u001b[0m 151ms/step - accuracy: 0.4738 - loss: 0.1461 - val_accuracy: 0.4346 - val_loss: 0.3708\n",
      "Epoch 5/15\n",
      "\u001b[1m63/63\u001b[0m \u001b[32m━━━━━━━━━━━━━━━━━━━━\u001b[0m\u001b[37m\u001b[0m \u001b[1m10s\u001b[0m 153ms/step - accuracy: 0.4889 - loss: 0.0862 - val_accuracy: 0.4306 - val_loss: 0.4168\n",
      "Epoch 6/15\n",
      "\u001b[1m63/63\u001b[0m \u001b[32m━━━━━━━━━━━━━━━━━━━━\u001b[0m\u001b[37m\u001b[0m \u001b[1m10s\u001b[0m 164ms/step - accuracy: 0.4920 - loss: 0.0568 - val_accuracy: 0.4254 - val_loss: 0.4991\n",
      "Epoch 7/15\n",
      "\u001b[1m63/63\u001b[0m \u001b[32m━━━━━━━━━━━━━━━━━━━━\u001b[0m\u001b[37m\u001b[0m \u001b[1m10s\u001b[0m 153ms/step - accuracy: 0.4908 - loss: 0.0387 - val_accuracy: 0.4277 - val_loss: 0.4985\n",
      "Epoch 8/15\n",
      "\u001b[1m63/63\u001b[0m \u001b[32m━━━━━━━━━━━━━━━━━━━━\u001b[0m\u001b[37m\u001b[0m \u001b[1m10s\u001b[0m 161ms/step - accuracy: 0.5001 - loss: 0.0277 - val_accuracy: 0.4312 - val_loss: 0.5083\n",
      "Epoch 9/15\n",
      "\u001b[1m63/63\u001b[0m \u001b[32m━━━━━━━━━━━━━━━━━━━━\u001b[0m\u001b[37m\u001b[0m \u001b[1m10s\u001b[0m 154ms/step - accuracy: 0.4969 - loss: 0.0178 - val_accuracy: 0.4280 - val_loss: 0.5578\n",
      "Epoch 10/15\n",
      "\u001b[1m63/63\u001b[0m \u001b[32m━━━━━━━━━━━━━━━━━━━━\u001b[0m\u001b[37m\u001b[0m \u001b[1m10s\u001b[0m 156ms/step - accuracy: 0.4890 - loss: 0.0157 - val_accuracy: 0.4254 - val_loss: 0.5972\n",
      "Epoch 11/15\n",
      "\u001b[1m63/63\u001b[0m \u001b[32m━━━━━━━━━━━━━━━━━━━━\u001b[0m\u001b[37m\u001b[0m \u001b[1m10s\u001b[0m 154ms/step - accuracy: 0.5026 - loss: 0.0121 - val_accuracy: 0.4273 - val_loss: 0.5884\n",
      "Epoch 12/15\n",
      "\u001b[1m63/63\u001b[0m \u001b[32m━━━━━━━━━━━━━━━━━━━━\u001b[0m\u001b[37m\u001b[0m \u001b[1m10s\u001b[0m 159ms/step - accuracy: 0.4897 - loss: 0.0092 - val_accuracy: 0.4287 - val_loss: 0.6036\n",
      "Epoch 13/15\n",
      "\u001b[1m63/63\u001b[0m \u001b[32m━━━━━━━━━━━━━━━━━━━━\u001b[0m\u001b[37m\u001b[0m \u001b[1m10s\u001b[0m 163ms/step - accuracy: 0.4924 - loss: 0.0063 - val_accuracy: 0.4274 - val_loss: 0.6284\n",
      "Epoch 14/15\n",
      "\u001b[1m63/63\u001b[0m \u001b[32m━━━━━━━━━━━━━━━━━━━━\u001b[0m\u001b[37m\u001b[0m \u001b[1m10s\u001b[0m 158ms/step - accuracy: 0.5035 - loss: 0.0043 - val_accuracy: 0.4273 - val_loss: 0.6450\n",
      "Epoch 15/15\n",
      "\u001b[1m63/63\u001b[0m \u001b[32m━━━━━━━━━━━━━━━━━━━━\u001b[0m\u001b[37m\u001b[0m \u001b[1m10s\u001b[0m 162ms/step - accuracy: 0.5045 - loss: 0.0034 - val_accuracy: 0.4270 - val_loss: 0.6751\n"
     ]
    }
   ],
   "source": [
    "#Training of model (using Adam as a baseline optimiser)\n",
    "model.compile(\n",
    "    optimizer=Adam(learning_rate=0.001),\n",
    "    loss=\"sparse_categorical_crossentropy\",\n",
    "    metrics=[\"accuracy\"]\n",
    ")\n",
    "\n",
    "\n",
    "history = model.fit(\n",
    "    X_train, y_train[..., np.newaxis],\n",
    "    validation_data=(X_val, y_val[..., np.newaxis], sample_weights_val),\n",
    "    sample_weight=sample_weights_train,\n",
    "    batch_size=32,\n",
    "    epochs=15\n",
    ")"
   ]
  },
  {
   "cell_type": "code",
   "execution_count": 64,
   "metadata": {
    "colab": {
     "base_uri": "https://localhost:8080/"
    },
    "id": "B5s8ak6yT5wO",
    "outputId": "2bdf509f-571d-4992-cc62-df8cfbfdfa24"
   },
   "outputs": [
    {
     "name": "stdout",
     "output_type": "stream",
     "text": [
      "WARNING:tensorflow:5 out of the last 17 calls to <function TensorFlowTrainer.make_predict_function.<locals>.one_step_on_data_distributed at 0x38b06e700> triggered tf.function retracing. Tracing is expensive and the excessive number of tracings could be due to (1) creating @tf.function repeatedly in a loop, (2) passing tensors with different shapes, (3) passing Python objects instead of tensors. For (1), please define your @tf.function outside of the loop. For (2), @tf.function has reduce_retracing=True option that can avoid unnecessary retracing. For (3), please refer to https://www.tensorflow.org/guide/function#controlling_retracing and https://www.tensorflow.org/api_docs/python/tf/function for  more details.\n",
      "\u001b[1m8/8\u001b[0m \u001b[32m━━━━━━━━━━━━━━━━━━━━\u001b[0m\u001b[37m\u001b[0m \u001b[1m0s\u001b[0m 44ms/step\n",
      "F1 Score: 0.6437908496732027\n",
      "              precision    recall  f1-score   support\n",
      "\n",
      "          AC       0.74      0.72      0.73       741\n",
      "          LF       0.48      0.56      0.52       455\n",
      "\n",
      "   micro avg       0.63      0.66      0.64      1196\n",
      "   macro avg       0.61      0.64      0.62      1196\n",
      "weighted avg       0.64      0.66      0.65      1196\n",
      "\n"
     ]
    }
   ],
   "source": [
    "y_pred = model.predict(X_test)\n",
    "y_pred_labels = np.argmax(y_pred, axis=-1)\n",
    "\n",
    "idx2tag = {i: t for i, t in enumerate(tag_encoder.classes_)}\n",
    "\n",
    "true_labels = [[idx2tag[idx] for idx in row if idx != -1] for row in y_test]\n",
    "pred_labels = [[idx2tag[idx] for idx in row[:len(true_labels[i])]] for i, row in enumerate(y_pred_labels)]\n",
    "\n",
    "print(\"F1 Score:\", f1_score(true_labels, pred_labels))\n",
    "print(classification_report(true_labels, pred_labels))"
   ]
  },
  {
   "cell_type": "code",
   "execution_count": 65,
   "metadata": {},
   "outputs": [
    {
     "data": {
      "image/png": "[encoded data removed]",
      "text/plain": [
       "<Figure size 800x600 with 2 Axes>"
      ]
     },
     "metadata": {},
     "output_type": "display_data"
    }
   ],
   "source": [
    "\n",
    "flat_true = [label for seq in true_labels for label in seq]\n",
    "flat_pred = [label for seq in pred_labels for label in seq]\n",
    "\n",
    "def simplify(tag):\n",
    "    if tag == \"B-AC\":\n",
    "        return \"A\"\n",
    "    elif tag in (\"B-LF\", \"I-LF\"):\n",
    "        return \"LF\"\n",
    "    else:\n",
    "        return \"O\"\n",
    "\n",
    "flat_true_simplified = [simplify(tag) for tag in flat_true]\n",
    "flat_pred_simplified = [simplify(tag) for tag in flat_pred]\n",
    "\n",
    "le = LabelEncoder()\n",
    "le.fit([\"A\", \"LF\", \"O\"])\n",
    "y_true_encoded = le.transform(flat_true_simplified)\n",
    "y_pred_encoded = le.transform(flat_pred_simplified)\n",
    "\n",
    "cm = confusion_matrix(y_true_encoded, y_pred_encoded, normalize='true') * 100\n",
    "\n",
    "fig, ax = plt.subplots(figsize=(8, 6))\n",
    "disp = ConfusionMatrixDisplay(confusion_matrix=cm, display_labels=le.classes_)\n",
    "disp.plot(cmap=\"Blues\", ax=ax, values_format=\".3f\", xticks_rotation=45)\n",
    "plt.title(\"Normalized Confusion Matrix of Simplified NER Tags [%]\")\n",
    "plt.tight_layout()\n",
    "plt.show()\n"
   ]
  },
  {
   "cell_type": "markdown",
   "metadata": {
    "id": "L4-I8pHaZDIb"
   },
   "source": [
    "# Set up 2 (Glove)"
   ]
  },
  {
   "cell_type": "code",
   "execution_count": 66,
   "metadata": {
    "colab": {
     "base_uri": "https://localhost:8080/"
    },
    "id": "5Sc7g6RKZVVO",
    "outputId": "38865f67-91bd-495a-f64e-9a8e49ef845b"
   },
   "outputs": [
    {
     "name": "stdout",
     "output_type": "stream",
     "text": [
      "DatasetDict({\n",
      "    train: Dataset({\n",
      "        features: ['tokens', 'pos_tags', 'ner_tags'],\n",
      "        num_rows: 2000\n",
      "    })\n",
      "    test: Dataset({\n",
      "        features: ['tokens', 'pos_tags', 'ner_tags'],\n",
      "        num_rows: 250\n",
      "    })\n",
      "    validation: Dataset({\n",
      "        features: ['tokens', 'pos_tags', 'ner_tags'],\n",
      "        num_rows: 150\n",
      "    })\n",
      "})\n"
     ]
    }
   ],
   "source": [
    "dataset = load_dataset(\"surrey-nlp/PLOD-CW-25\")\n",
    "\n",
    "print(dataset)"
   ]
  },
  {
   "cell_type": "code",
   "execution_count": 67,
   "metadata": {
    "id": "3KS-HpK2bRUl"
   },
   "outputs": [],
   "source": [
    "df_train = pd.DataFrame(dataset[\"train\"])\n",
    "df_val = pd.DataFrame(dataset[\"validation\"])\n",
    "df_test = pd.DataFrame(dataset[\"test\"])"
   ]
  },
  {
   "cell_type": "code",
   "execution_count": 68,
   "metadata": {
    "id": "4gv4YxfQbTpg"
   },
   "outputs": [],
   "source": [
    "def safe_parse(col):\n",
    "    return [ast.literal_eval(row) if isinstance(row, str) else row for row in col]\n",
    "\n",
    "train_tokens = safe_parse(df_train[\"tokens\"])\n",
    "val_tokens = safe_parse(df_val[\"tokens\"])\n",
    "test_tokens = safe_parse(df_test[\"tokens\"])\n",
    "\n",
    "all_tokens = train_tokens + val_tokens + test_tokens"
   ]
  },
  {
   "cell_type": "code",
   "execution_count": 69,
   "metadata": {
    "id": "2I9oq2OhbWPX"
   },
   "outputs": [],
   "source": [
    "from torchtext.vocab import GloVe\n",
    "\n",
    "\n",
    "glove = GloVe(name='6B', dim=300)"
   ]
  },
  {
   "cell_type": "code",
   "execution_count": 70,
   "metadata": {
    "id": "bQqmAS4FbY-Q"
   },
   "outputs": [],
   "source": [
    "vocab = set(token for sentence in train_tokens + val_tokens + test_tokens for token in sentence)\n",
    "word_index = {word: i + 1 for i, word in enumerate(vocab)}\n",
    "\n",
    "embedding_dim = 300\n",
    "embedding_matrix = np.zeros((len(word_index) + 1, embedding_dim))\n",
    "\n",
    "for word, i in word_index.items():\n",
    "    if word in glove.stoi:\n",
    "        embedding_matrix[i] = glove[word].numpy()"
   ]
  },
  {
   "cell_type": "code",
   "execution_count": 71,
   "metadata": {
    "id": "C9qtpJGBbb_7"
   },
   "outputs": [],
   "source": [
    "embedding_layer = Embedding(\n",
    "    input_dim=embedding_matrix.shape[0],\n",
    "    output_dim=embedding_dim,\n",
    "    weights=[embedding_matrix],\n",
    "    mask_zero=True,\n",
    "    trainable=True\n",
    ")"
   ]
  },
  {
   "cell_type": "code",
   "execution_count": 72,
   "metadata": {
    "id": "7bpPDokibfhl"
   },
   "outputs": [],
   "source": [
    "def encode_sentences(token_lists, word_index, max_len):\n",
    "    sequences = [[word_index.get(token, 0) for token in tokens] for tokens in token_lists]\n",
    "    return pad_sequences(sequences, maxlen=max_len, padding=\"post\", truncating=\"post\")\n",
    "\n",
    "#using 90th percentile first\n",
    "max_len = 76\n",
    "\n",
    "X_train = encode_sentences(train_tokens, word_index, max_len)\n",
    "X_val = encode_sentences(val_tokens, word_index, max_len)\n",
    "X_test = encode_sentences(test_tokens, word_index, max_len)"
   ]
  },
  {
   "cell_type": "code",
   "execution_count": 73,
   "metadata": {
    "id": "R-55htcMbhpR"
   },
   "outputs": [],
   "source": [
    "all_tags = df_train[\"ner_tags\"].tolist() + df_val[\"ner_tags\"].tolist() + df_test[\"ner_tags\"].tolist()\n",
    "\n",
    "tag_encoder = LabelEncoder()\n",
    "tag_encoder.fit([tag for seq in all_tags for tag in seq])\n",
    "num_classes = len(tag_encoder.classes_)\n",
    "\n",
    "def encode_tags(tag_lists, max_len):\n",
    "    encoded = [tag_encoder.transform(tags) for tags in tag_lists]\n",
    "    padded = pad_sequences(encoded, maxlen=max_len, padding=\"post\", truncating=\"post\", value=-1)  # -1 for masking\n",
    "    return padded\n",
    "\n",
    "y_train = encode_tags(df_train[\"ner_tags\"].tolist(), max_len)\n",
    "y_val = encode_tags(df_val[\"ner_tags\"].tolist(), max_len)\n",
    "y_test = encode_tags(df_test[\"ner_tags\"].tolist(), max_len)"
   ]
  },
  {
   "cell_type": "code",
   "execution_count": 74,
   "metadata": {
    "colab": {
     "base_uri": "https://localhost:8080/",
     "height": 399
    },
    "id": "Xyym4hBTbkqt",
    "outputId": "c0b96d7e-79b4-486b-af12-8f8aebd5bb75"
   },
   "outputs": [
    {
     "name": "stderr",
     "output_type": "stream",
     "text": [
      "/Users/darren/anaconda3/lib/python3.11/site-packages/keras/src/layers/core/embedding.py:90: UserWarning: Argument `input_length` is deprecated. Just remove it.\n",
      "  warnings.warn(\n"
     ]
    },
    {
     "data": {
      "text/html": [
       "<pre style=\"white-space:pre;overflow-x:auto;line-height:normal;font-family:Menlo,'DejaVu Sans Mono',consolas,'Courier New',monospace\"><span style=\"font-weight: bold\">Model: \"functional_4\"</span>\n",
       "</pre>\n"
      ],
      "text/plain": [
       "\u001b[1mModel: \"functional_4\"\u001b[0m\n"
      ]
     },
     "metadata": {},
     "output_type": "display_data"
    },
    {
     "data": {
      "text/html": [
       "<pre style=\"white-space:pre;overflow-x:auto;line-height:normal;font-family:Menlo,'DejaVu Sans Mono',consolas,'Courier New',monospace\">┏━━━━━━━━━━━━━━━━━━━━━┳━━━━━━━━━━━━━━━━━━━┳━━━━━━━━━━━━┳━━━━━━━━━━━━━━━━━━━┓\n",
       "┃<span style=\"font-weight: bold\"> Layer (type)        </span>┃<span style=\"font-weight: bold\"> Output Shape      </span>┃<span style=\"font-weight: bold\">    Param # </span>┃<span style=\"font-weight: bold\"> Connected to      </span>┃\n",
       "┡━━━━━━━━━━━━━━━━━━━━━╇━━━━━━━━━━━━━━━━━━━╇━━━━━━━━━━━━╇━━━━━━━━━━━━━━━━━━━┩\n",
       "│ input_layer_4       │ (<span style=\"color: #00d7ff; text-decoration-color: #00d7ff\">None</span>, <span style=\"color: #00af00; text-decoration-color: #00af00\">76</span>)        │          <span style=\"color: #00af00; text-decoration-color: #00af00\">0</span> │ -                 │\n",
       "│ (<span style=\"color: #0087ff; text-decoration-color: #0087ff\">InputLayer</span>)        │                   │            │                   │\n",
       "├─────────────────────┼───────────────────┼────────────┼───────────────────┤\n",
       "│ embedding_7         │ (<span style=\"color: #00d7ff; text-decoration-color: #00d7ff\">None</span>, <span style=\"color: #00af00; text-decoration-color: #00af00\">76</span>, <span style=\"color: #00af00; text-decoration-color: #00af00\">300</span>)   │  <span style=\"color: #00af00; text-decoration-color: #00af00\">4,947,600</span> │ input_layer_4[<span style=\"color: #00af00; text-decoration-color: #00af00\">0</span>]… │\n",
       "│ (<span style=\"color: #0087ff; text-decoration-color: #0087ff\">Embedding</span>)         │                   │            │                   │\n",
       "├─────────────────────┼───────────────────┼────────────┼───────────────────┤\n",
       "│ not_equal_4         │ (<span style=\"color: #00d7ff; text-decoration-color: #00d7ff\">None</span>, <span style=\"color: #00af00; text-decoration-color: #00af00\">76</span>)        │          <span style=\"color: #00af00; text-decoration-color: #00af00\">0</span> │ input_layer_4[<span style=\"color: #00af00; text-decoration-color: #00af00\">0</span>]… │\n",
       "│ (<span style=\"color: #0087ff; text-decoration-color: #0087ff\">NotEqual</span>)          │                   │            │                   │\n",
       "├─────────────────────┼───────────────────┼────────────┼───────────────────┤\n",
       "│ bidirectional_4     │ (<span style=\"color: #00d7ff; text-decoration-color: #00d7ff\">None</span>, <span style=\"color: #00af00; text-decoration-color: #00af00\">76</span>, <span style=\"color: #00af00; text-decoration-color: #00af00\">256</span>)   │    <span style=\"color: #00af00; text-decoration-color: #00af00\">439,296</span> │ embedding_7[<span style=\"color: #00af00; text-decoration-color: #00af00\">0</span>][<span style=\"color: #00af00; text-decoration-color: #00af00\">0</span>… │\n",
       "│ (<span style=\"color: #0087ff; text-decoration-color: #0087ff\">Bidirectional</span>)     │                   │            │ not_equal_4[<span style=\"color: #00af00; text-decoration-color: #00af00\">0</span>][<span style=\"color: #00af00; text-decoration-color: #00af00\">0</span>] │\n",
       "├─────────────────────┼───────────────────┼────────────┼───────────────────┤\n",
       "│ dense_4 (<span style=\"color: #0087ff; text-decoration-color: #0087ff\">Dense</span>)     │ (<span style=\"color: #00d7ff; text-decoration-color: #00d7ff\">None</span>, <span style=\"color: #00af00; text-decoration-color: #00af00\">76</span>, <span style=\"color: #00af00; text-decoration-color: #00af00\">4</span>)     │      <span style=\"color: #00af00; text-decoration-color: #00af00\">1,028</span> │ bidirectional_4[<span style=\"color: #00af00; text-decoration-color: #00af00\">…</span> │\n",
       "└─────────────────────┴───────────────────┴────────────┴───────────────────┘\n",
       "</pre>\n"
      ],
      "text/plain": [
       "┏━━━━━━━━━━━━━━━━━━━━━┳━━━━━━━━━━━━━━━━━━━┳━━━━━━━━━━━━┳━━━━━━━━━━━━━━━━━━━┓\n",
       "┃\u001b[1m \u001b[0m\u001b[1mLayer (type)       \u001b[0m\u001b[1m \u001b[0m┃\u001b[1m \u001b[0m\u001b[1mOutput Shape     \u001b[0m\u001b[1m \u001b[0m┃\u001b[1m \u001b[0m\u001b[1m   Param #\u001b[0m\u001b[1m \u001b[0m┃\u001b[1m \u001b[0m\u001b[1mConnected to     \u001b[0m\u001b[1m \u001b[0m┃\n",
       "┡━━━━━━━━━━━━━━━━━━━━━╇━━━━━━━━━━━━━━━━━━━╇━━━━━━━━━━━━╇━━━━━━━━━━━━━━━━━━━┩\n",
       "│ input_layer_4       │ (\u001b[38;5;45mNone\u001b[0m, \u001b[38;5;34m76\u001b[0m)        │          \u001b[38;5;34m0\u001b[0m │ -                 │\n",
       "│ (\u001b[38;5;33mInputLayer\u001b[0m)        │                   │            │                   │\n",
       "├─────────────────────┼───────────────────┼────────────┼───────────────────┤\n",
       "│ embedding_7         │ (\u001b[38;5;45mNone\u001b[0m, \u001b[38;5;34m76\u001b[0m, \u001b[38;5;34m300\u001b[0m)   │  \u001b[38;5;34m4,947,600\u001b[0m │ input_layer_4[\u001b[38;5;34m0\u001b[0m]… │\n",
       "│ (\u001b[38;5;33mEmbedding\u001b[0m)         │                   │            │                   │\n",
       "├─────────────────────┼───────────────────┼────────────┼───────────────────┤\n",
       "│ not_equal_4         │ (\u001b[38;5;45mNone\u001b[0m, \u001b[38;5;34m76\u001b[0m)        │          \u001b[38;5;34m0\u001b[0m │ input_layer_4[\u001b[38;5;34m0\u001b[0m]… │\n",
       "│ (\u001b[38;5;33mNotEqual\u001b[0m)          │                   │            │                   │\n",
       "├─────────────────────┼───────────────────┼────────────┼───────────────────┤\n",
       "│ bidirectional_4     │ (\u001b[38;5;45mNone\u001b[0m, \u001b[38;5;34m76\u001b[0m, \u001b[38;5;34m256\u001b[0m)   │    \u001b[38;5;34m439,296\u001b[0m │ embedding_7[\u001b[38;5;34m0\u001b[0m][\u001b[38;5;34m0\u001b[0m… │\n",
       "│ (\u001b[38;5;33mBidirectional\u001b[0m)     │                   │            │ not_equal_4[\u001b[38;5;34m0\u001b[0m][\u001b[38;5;34m0\u001b[0m] │\n",
       "├─────────────────────┼───────────────────┼────────────┼───────────────────┤\n",
       "│ dense_4 (\u001b[38;5;33mDense\u001b[0m)     │ (\u001b[38;5;45mNone\u001b[0m, \u001b[38;5;34m76\u001b[0m, \u001b[38;5;34m4\u001b[0m)     │      \u001b[38;5;34m1,028\u001b[0m │ bidirectional_4[\u001b[38;5;34m…\u001b[0m │\n",
       "└─────────────────────┴───────────────────┴────────────┴───────────────────┘\n"
      ]
     },
     "metadata": {},
     "output_type": "display_data"
    },
    {
     "data": {
      "text/html": [
       "<pre style=\"white-space:pre;overflow-x:auto;line-height:normal;font-family:Menlo,'DejaVu Sans Mono',consolas,'Courier New',monospace\"><span style=\"font-weight: bold\"> Total params: </span><span style=\"color: #00af00; text-decoration-color: #00af00\">5,387,924</span> (20.55 MB)\n",
       "</pre>\n"
      ],
      "text/plain": [
       "\u001b[1m Total params: \u001b[0m\u001b[38;5;34m5,387,924\u001b[0m (20.55 MB)\n"
      ]
     },
     "metadata": {},
     "output_type": "display_data"
    },
    {
     "data": {
      "text/html": [
       "<pre style=\"white-space:pre;overflow-x:auto;line-height:normal;font-family:Menlo,'DejaVu Sans Mono',consolas,'Courier New',monospace\"><span style=\"font-weight: bold\"> Trainable params: </span><span style=\"color: #00af00; text-decoration-color: #00af00\">5,387,924</span> (20.55 MB)\n",
       "</pre>\n"
      ],
      "text/plain": [
       "\u001b[1m Trainable params: \u001b[0m\u001b[38;5;34m5,387,924\u001b[0m (20.55 MB)\n"
      ]
     },
     "metadata": {},
     "output_type": "display_data"
    },
    {
     "data": {
      "text/html": [
       "<pre style=\"white-space:pre;overflow-x:auto;line-height:normal;font-family:Menlo,'DejaVu Sans Mono',consolas,'Courier New',monospace\"><span style=\"font-weight: bold\"> Non-trainable params: </span><span style=\"color: #00af00; text-decoration-color: #00af00\">0</span> (0.00 B)\n",
       "</pre>\n"
      ],
      "text/plain": [
       "\u001b[1m Non-trainable params: \u001b[0m\u001b[38;5;34m0\u001b[0m (0.00 B)\n"
      ]
     },
     "metadata": {},
     "output_type": "display_data"
    }
   ],
   "source": [
    "input = Input(shape=(max_len,))\n",
    "model = Embedding(input_dim=embedding_matrix.shape[0],\n",
    "                  output_dim=embedding_matrix.shape[1],\n",
    "                  weights=[embedding_matrix],\n",
    "                  input_length=max_len,\n",
    "                  mask_zero=True,\n",
    "                  trainable=True)(input)\n",
    "model = Bidirectional(LSTM(units=128, return_sequences=True))(model)\n",
    "model = Dense(num_classes, activation=\"softmax\")(model)\n",
    "\n",
    "model = Model(input, model)\n",
    "model.summary()"
   ]
  },
  {
   "cell_type": "code",
   "execution_count": 75,
   "metadata": {
    "id": "UkdfcgnEbouA"
   },
   "outputs": [],
   "source": [
    "def create_sample_weights(y_padded):\n",
    "    return (y_padded != -1).astype(\"float32\")\n",
    "\n",
    "sample_weights_train = create_sample_weights(y_train)\n",
    "sample_weights_val = create_sample_weights(y_val)\n",
    "\n",
    "y_train = np.where(y_train == -1, 0, y_train)\n",
    "y_val = np.where(y_val == -1, 0, y_val)"
   ]
  },
  {
   "cell_type": "code",
   "execution_count": 76,
   "metadata": {
    "colab": {
     "base_uri": "https://localhost:8080/"
    },
    "id": "fPhOuFnPbp9R",
    "outputId": "daf2070e-0028-4237-948a-0eaa21c344f0"
   },
   "outputs": [
    {
     "name": "stdout",
     "output_type": "stream",
     "text": [
      "Epoch 1/15\n",
      "\u001b[1m63/63\u001b[0m \u001b[32m━━━━━━━━━━━━━━━━━━━━\u001b[0m\u001b[37m\u001b[0m \u001b[1m7s\u001b[0m 92ms/step - accuracy: 0.4041 - loss: 0.7267 - val_accuracy: 0.4146 - val_loss: 0.4189\n",
      "Epoch 2/15\n",
      "\u001b[1m63/63\u001b[0m \u001b[32m━━━━━━━━━━━━━━━━━━━━\u001b[0m\u001b[37m\u001b[0m \u001b[1m7s\u001b[0m 119ms/step - accuracy: 0.4310 - loss: 0.3443 - val_accuracy: 0.4275 - val_loss: 0.3529\n",
      "Epoch 3/15\n",
      "\u001b[1m63/63\u001b[0m \u001b[32m━━━━━━━━━━━━━━━━━━━━\u001b[0m\u001b[37m\u001b[0m \u001b[1m9s\u001b[0m 147ms/step - accuracy: 0.4526 - loss: 0.2466 - val_accuracy: 0.4340 - val_loss: 0.3371\n",
      "Epoch 4/15\n",
      "\u001b[1m63/63\u001b[0m \u001b[32m━━━━━━━━━━━━━━━━━━━━\u001b[0m\u001b[37m\u001b[0m \u001b[1m9s\u001b[0m 150ms/step - accuracy: 0.4735 - loss: 0.1551 - val_accuracy: 0.4339 - val_loss: 0.3471\n",
      "Epoch 5/15\n",
      "\u001b[1m63/63\u001b[0m \u001b[32m━━━━━━━━━━━━━━━━━━━━\u001b[0m\u001b[37m\u001b[0m \u001b[1m9s\u001b[0m 148ms/step - accuracy: 0.4755 - loss: 0.1002 - val_accuracy: 0.4327 - val_loss: 0.3766\n",
      "Epoch 6/15\n",
      "\u001b[1m63/63\u001b[0m \u001b[32m━━━━━━━━━━━━━━━━━━━━\u001b[0m\u001b[37m\u001b[0m \u001b[1m9s\u001b[0m 147ms/step - accuracy: 0.4946 - loss: 0.0636 - val_accuracy: 0.4327 - val_loss: 0.4110\n",
      "Epoch 7/15\n",
      "\u001b[1m63/63\u001b[0m \u001b[32m━━━━━━━━━━━━━━━━━━━━\u001b[0m\u001b[37m\u001b[0m \u001b[1m10s\u001b[0m 151ms/step - accuracy: 0.4949 - loss: 0.0382 - val_accuracy: 0.4321 - val_loss: 0.4546\n",
      "Epoch 8/15\n",
      "\u001b[1m63/63\u001b[0m \u001b[32m━━━━━━━━━━━━━━━━━━━━\u001b[0m\u001b[37m\u001b[0m \u001b[1m9s\u001b[0m 149ms/step - accuracy: 0.4970 - loss: 0.0283 - val_accuracy: 0.4329 - val_loss: 0.4845\n",
      "Epoch 9/15\n",
      "\u001b[1m63/63\u001b[0m \u001b[32m━━━━━━━━━━━━━━━━━━━━\u001b[0m\u001b[37m\u001b[0m \u001b[1m10s\u001b[0m 152ms/step - accuracy: 0.5022 - loss: 0.0242 - val_accuracy: 0.4296 - val_loss: 0.4773\n",
      "Epoch 10/15\n",
      "\u001b[1m63/63\u001b[0m \u001b[32m━━━━━━━━━━━━━━━━━━━━\u001b[0m\u001b[37m\u001b[0m \u001b[1m10s\u001b[0m 155ms/step - accuracy: 0.4961 - loss: 0.0169 - val_accuracy: 0.4324 - val_loss: 0.5247\n",
      "Epoch 11/15\n",
      "\u001b[1m63/63\u001b[0m \u001b[32m━━━━━━━━━━━━━━━━━━━━\u001b[0m\u001b[37m\u001b[0m \u001b[1m10s\u001b[0m 157ms/step - accuracy: 0.5015 - loss: 0.0094 - val_accuracy: 0.4325 - val_loss: 0.5503\n",
      "Epoch 12/15\n",
      "\u001b[1m63/63\u001b[0m \u001b[32m━━━━━━━━━━━━━━━━━━━━\u001b[0m\u001b[37m\u001b[0m \u001b[1m10s\u001b[0m 151ms/step - accuracy: 0.4999 - loss: 0.0064 - val_accuracy: 0.4311 - val_loss: 0.5713\n",
      "Epoch 13/15\n",
      "\u001b[1m63/63\u001b[0m \u001b[32m━━━━━━━━━━━━━━━━━━━━\u001b[0m\u001b[37m\u001b[0m \u001b[1m10s\u001b[0m 156ms/step - accuracy: 0.4971 - loss: 0.0044 - val_accuracy: 0.4325 - val_loss: 0.5991\n",
      "Epoch 14/15\n",
      "\u001b[1m63/63\u001b[0m \u001b[32m━━━━━━━━━━━━━━━━━━━━\u001b[0m\u001b[37m\u001b[0m \u001b[1m10s\u001b[0m 158ms/step - accuracy: 0.5020 - loss: 0.0034 - val_accuracy: 0.4318 - val_loss: 0.6276\n",
      "Epoch 15/15\n",
      "\u001b[1m63/63\u001b[0m \u001b[32m━━━━━━━━━━━━━━━━━━━━\u001b[0m\u001b[37m\u001b[0m \u001b[1m10s\u001b[0m 157ms/step - accuracy: 0.5083 - loss: 0.0027 - val_accuracy: 0.4332 - val_loss: 0.6402\n"
     ]
    }
   ],
   "source": [
    "model.compile(\n",
    "    optimizer=Adam(learning_rate=0.001),\n",
    "    loss=\"sparse_categorical_crossentropy\",\n",
    "    metrics=[\"accuracy\"]\n",
    ")\n",
    "\n",
    "\n",
    "history = model.fit(\n",
    "    X_train, y_train[..., np.newaxis],\n",
    "    validation_data=(X_val, y_val[..., np.newaxis], sample_weights_val),\n",
    "    sample_weight=sample_weights_train,\n",
    "    batch_size=32,\n",
    "    epochs=15\n",
    ")"
   ]
  },
  {
   "cell_type": "code",
   "execution_count": 77,
   "metadata": {
    "colab": {
     "base_uri": "https://localhost:8080/"
    },
    "id": "LW5olq9qbp-l",
    "outputId": "e34fcbe0-1f30-459f-9b89-99554a67a73b"
   },
   "outputs": [
    {
     "name": "stdout",
     "output_type": "stream",
     "text": [
      "\u001b[1m8/8\u001b[0m \u001b[32m━━━━━━━━━━━━━━━━━━━━\u001b[0m\u001b[37m\u001b[0m \u001b[1m0s\u001b[0m 39ms/step\n",
      "F1 Score: 0.676973148901546\n",
      "              precision    recall  f1-score   support\n",
      "\n",
      "          AC       0.76      0.75      0.76       741\n",
      "          LF       0.52      0.60      0.56       455\n",
      "\n",
      "   micro avg       0.66      0.70      0.68      1196\n",
      "   macro avg       0.64      0.68      0.66      1196\n",
      "weighted avg       0.67      0.70      0.68      1196\n",
      "\n"
     ]
    }
   ],
   "source": [
    "y_pred = model.predict(X_test)\n",
    "y_pred_labels = np.argmax(y_pred, axis=-1)\n",
    "\n",
    "idx2tag = {i: t for i, t in enumerate(tag_encoder.classes_)}\n",
    "\n",
    "true_labels = [[idx2tag[idx] for idx in row if idx != -1] for row in y_test]\n",
    "pred_labels = [[idx2tag[idx] for idx in row[:len(true_labels[i])]] for i, row in enumerate(y_pred_labels)]\n",
    "\n",
    "print(\"F1 Score:\", f1_score(true_labels, pred_labels))\n",
    "print(classification_report(true_labels, pred_labels))"
   ]
  },
  {
   "cell_type": "code",
   "execution_count": 78,
   "metadata": {},
   "outputs": [
    {
     "data": {
      "image/png": "[encoded data removed]",
      "text/plain": [
       "<Figure size 800x600 with 2 Axes>"
      ]
     },
     "metadata": {},
     "output_type": "display_data"
    }
   ],
   "source": [
    "\n",
    "flat_true = [label for seq in true_labels for label in seq]\n",
    "flat_pred = [label for seq in pred_labels for label in seq]\n",
    "\n",
    "def simplify(tag):\n",
    "    if tag == \"B-AC\":\n",
    "        return \"A\"\n",
    "    elif tag in (\"B-LF\", \"I-LF\"):\n",
    "        return \"LF\"\n",
    "    else:\n",
    "        return \"O\"\n",
    "\n",
    "flat_true_simplified = [simplify(tag) for tag in flat_true]\n",
    "flat_pred_simplified = [simplify(tag) for tag in flat_pred]\n",
    "\n",
    "le = LabelEncoder()\n",
    "le.fit([\"A\", \"LF\", \"O\"])\n",
    "y_true_encoded = le.transform(flat_true_simplified)\n",
    "y_pred_encoded = le.transform(flat_pred_simplified)\n",
    "\n",
    "cm = confusion_matrix(y_true_encoded, y_pred_encoded, normalize='true') * 100\n",
    "\n",
    "fig, ax = plt.subplots(figsize=(8, 6))\n",
    "disp = ConfusionMatrixDisplay(confusion_matrix=cm, display_labels=le.classes_)\n",
    "disp.plot(cmap=\"Blues\", ax=ax, values_format=\".3f\", xticks_rotation=45)\n",
    "plt.title(\"Normalized Confusion Matrix of Simplified NER Tags [%]\")\n",
    "plt.tight_layout()\n",
    "plt.show()\n"
   ]
  },
  {
   "cell_type": "markdown",
   "metadata": {
    "id": "pt_7XdHnYiBE"
   },
   "source": [
    "# Set up 3 (Fast Text)"
   ]
  },
  {
   "cell_type": "code",
   "execution_count": 36,
   "metadata": {
    "colab": {
     "base_uri": "https://localhost:8080/"
    },
    "id": "UKaTDzcpIF8U",
    "outputId": "5d0d50e7-2889-46e0-8492-2d2e4259fad9"
   },
   "outputs": [
    {
     "name": "stderr",
     "output_type": "stream",
     "text": [
      ".vector_cache/wiki.en.vec: 6.60GB [18:06, 6.07MB/s]                             \n",
      "  0%|                                               | 0/2519370 [00:00<?, ?it/s]Skipping token b'2519370' with 1-dimensional vector [b'300']; likely a header\n",
      "100%|██████████████████████████████| 2519370/2519370 [01:54<00:00, 21954.82it/s]\n"
     ]
    }
   ],
   "source": [
    "from torchtext.vocab import FastText\n",
    "\n",
    "fasttext = FastText(language='en')"
   ]
  },
  {
   "cell_type": "code",
   "execution_count": 37,
   "metadata": {
    "colab": {
     "base_uri": "https://localhost:8080/"
    },
    "id": "oHR2mJnVUzvW",
    "outputId": "d67d4bec-0ea2-4143-a6f5-c691f8ee058c"
   },
   "outputs": [
    {
     "name": "stdout",
     "output_type": "stream",
     "text": [
      "DatasetDict({\n",
      "    train: Dataset({\n",
      "        features: ['tokens', 'pos_tags', 'ner_tags'],\n",
      "        num_rows: 2000\n",
      "    })\n",
      "    test: Dataset({\n",
      "        features: ['tokens', 'pos_tags', 'ner_tags'],\n",
      "        num_rows: 250\n",
      "    })\n",
      "    validation: Dataset({\n",
      "        features: ['tokens', 'pos_tags', 'ner_tags'],\n",
      "        num_rows: 150\n",
      "    })\n",
      "})\n"
     ]
    }
   ],
   "source": [
    "dataset = load_dataset(\"surrey-nlp/PLOD-CW-25\")\n",
    "\n",
    "print(dataset)"
   ]
  },
  {
   "cell_type": "code",
   "execution_count": 38,
   "metadata": {
    "id": "tPuzQBy0U1gZ"
   },
   "outputs": [],
   "source": [
    "df_train = pd.DataFrame(dataset[\"train\"])\n",
    "df_val = pd.DataFrame(dataset[\"validation\"])\n",
    "df_test = pd.DataFrame(dataset[\"test\"])"
   ]
  },
  {
   "cell_type": "code",
   "execution_count": 39,
   "metadata": {
    "id": "FrQ2V7HGVDnH"
   },
   "outputs": [],
   "source": [
    "#To combine train,test,split for vectorisation to build a rich embedding space\n",
    "\n",
    "def safe_parse(col):\n",
    "    return [ast.literal_eval(row) if isinstance(row, str) else row for row in col]\n",
    "\n",
    "train_tokens = safe_parse(df_train[\"tokens\"])\n",
    "val_tokens = safe_parse(df_val[\"tokens\"])\n",
    "test_tokens = safe_parse(df_test[\"tokens\"])\n",
    "\n",
    "all_tokens = train_tokens + val_tokens + test_tokens"
   ]
  },
  {
   "cell_type": "markdown",
   "metadata": {
    "id": "SHmO8pSxQoOB"
   },
   "source": [
    "Preparation of data (Creating vocab + embeding matrix from model itself)"
   ]
  },
  {
   "cell_type": "code",
   "execution_count": 40,
   "metadata": {
    "id": "XBdjOnXZNqib"
   },
   "outputs": [],
   "source": [
    "vocab = set(token for sentence in train_tokens + val_tokens + test_tokens for token in sentence)\n",
    "word_index = {word: i + 1 for i, word in enumerate(vocab)}\n",
    "\n",
    "embedding_dim = fasttext.dim\n",
    "embedding_matrix = np.zeros((len(word_index) + 1, embedding_dim))\n",
    "\n",
    "for word, i in word_index.items():\n",
    "    if word in fasttext.stoi:\n",
    "        embedding_matrix[i] = fasttext[word].numpy()"
   ]
  },
  {
   "cell_type": "code",
   "execution_count": 41,
   "metadata": {
    "id": "iOA4grAPQk9z"
   },
   "outputs": [],
   "source": [
    "embedding_layer = Embedding(\n",
    "    input_dim=embedding_matrix.shape[0],\n",
    "    output_dim=embedding_dim,\n",
    "    weights=[embedding_matrix],\n",
    "    mask_zero=True,\n",
    "    trainable=True\n",
    ")\n"
   ]
  },
  {
   "cell_type": "code",
   "execution_count": 42,
   "metadata": {
    "id": "uUrY8y_TRGG-"
   },
   "outputs": [],
   "source": [
    "# Encode as Bi-LSTM requires numbers to process\n",
    "def encode_sentences(token_lists, word_index, max_len):\n",
    "    sequences = [[word_index.get(token, 0) for token in tokens] for tokens in token_lists]\n",
    "    return pad_sequences(sequences, maxlen=max_len, padding=\"post\", truncating=\"post\")\n",
    "\n",
    "#using 90th percentile first\n",
    "max_len = 76\n",
    "\n",
    "X_train = encode_sentences(train_tokens, word_index, max_len)\n",
    "X_val = encode_sentences(val_tokens, word_index, max_len)\n",
    "X_test = encode_sentences(test_tokens, word_index, max_len)"
   ]
  },
  {
   "cell_type": "code",
   "execution_count": 43,
   "metadata": {
    "id": "QwbIHvKHRfx6"
   },
   "outputs": [],
   "source": [
    "all_tags = df_train[\"ner_tags\"].tolist() + df_val[\"ner_tags\"].tolist() + df_test[\"ner_tags\"].tolist()\n",
    "\n",
    "tag_encoder = LabelEncoder()\n",
    "tag_encoder.fit([tag for seq in all_tags for tag in seq])\n",
    "num_classes = len(tag_encoder.classes_)\n",
    "\n",
    "def encode_tags(tag_lists, max_len):\n",
    "    encoded = [tag_encoder.transform(tags) for tags in tag_lists]\n",
    "    padded = pad_sequences(encoded, maxlen=max_len, padding=\"post\", truncating=\"post\", value=-1)  # -1 for masking\n",
    "    return padded\n",
    "\n",
    "y_train = encode_tags(df_train[\"ner_tags\"].tolist(), max_len)\n",
    "y_val = encode_tags(df_val[\"ner_tags\"].tolist(), max_len)\n",
    "y_test = encode_tags(df_test[\"ner_tags\"].tolist(), max_len)"
   ]
  },
  {
   "cell_type": "code",
   "execution_count": 44,
   "metadata": {
    "colab": {
     "base_uri": "https://localhost:8080/",
     "height": 399
    },
    "id": "zgdLcOTqSTcg",
    "outputId": "336f6409-eafd-4182-ffb5-a88bea9e1ca3"
   },
   "outputs": [
    {
     "name": "stderr",
     "output_type": "stream",
     "text": [
      "/Users/darren/anaconda3/lib/python3.11/site-packages/keras/src/layers/core/embedding.py:90: UserWarning: Argument `input_length` is deprecated. Just remove it.\n",
      "  warnings.warn(\n"
     ]
    },
    {
     "data": {
      "text/html": [
       "<pre style=\"white-space:pre;overflow-x:auto;line-height:normal;font-family:Menlo,'DejaVu Sans Mono',consolas,'Courier New',monospace\"><span style=\"font-weight: bold\">Model: \"functional_2\"</span>\n",
       "</pre>\n"
      ],
      "text/plain": [
       "\u001b[1mModel: \"functional_2\"\u001b[0m\n"
      ]
     },
     "metadata": {},
     "output_type": "display_data"
    },
    {
     "data": {
      "text/html": [
       "<pre style=\"white-space:pre;overflow-x:auto;line-height:normal;font-family:Menlo,'DejaVu Sans Mono',consolas,'Courier New',monospace\">┏━━━━━━━━━━━━━━━━━━━━━┳━━━━━━━━━━━━━━━━━━━┳━━━━━━━━━━━━┳━━━━━━━━━━━━━━━━━━━┓\n",
       "┃<span style=\"font-weight: bold\"> Layer (type)        </span>┃<span style=\"font-weight: bold\"> Output Shape      </span>┃<span style=\"font-weight: bold\">    Param # </span>┃<span style=\"font-weight: bold\"> Connected to      </span>┃\n",
       "┡━━━━━━━━━━━━━━━━━━━━━╇━━━━━━━━━━━━━━━━━━━╇━━━━━━━━━━━━╇━━━━━━━━━━━━━━━━━━━┩\n",
       "│ input_layer_2       │ (<span style=\"color: #00d7ff; text-decoration-color: #00d7ff\">None</span>, <span style=\"color: #00af00; text-decoration-color: #00af00\">76</span>)        │          <span style=\"color: #00af00; text-decoration-color: #00af00\">0</span> │ -                 │\n",
       "│ (<span style=\"color: #0087ff; text-decoration-color: #0087ff\">InputLayer</span>)        │                   │            │                   │\n",
       "├─────────────────────┼───────────────────┼────────────┼───────────────────┤\n",
       "│ embedding_4         │ (<span style=\"color: #00d7ff; text-decoration-color: #00d7ff\">None</span>, <span style=\"color: #00af00; text-decoration-color: #00af00\">76</span>, <span style=\"color: #00af00; text-decoration-color: #00af00\">300</span>)   │  <span style=\"color: #00af00; text-decoration-color: #00af00\">4,947,600</span> │ input_layer_2[<span style=\"color: #00af00; text-decoration-color: #00af00\">0</span>]… │\n",
       "│ (<span style=\"color: #0087ff; text-decoration-color: #0087ff\">Embedding</span>)         │                   │            │                   │\n",
       "├─────────────────────┼───────────────────┼────────────┼───────────────────┤\n",
       "│ not_equal_2         │ (<span style=\"color: #00d7ff; text-decoration-color: #00d7ff\">None</span>, <span style=\"color: #00af00; text-decoration-color: #00af00\">76</span>)        │          <span style=\"color: #00af00; text-decoration-color: #00af00\">0</span> │ input_layer_2[<span style=\"color: #00af00; text-decoration-color: #00af00\">0</span>]… │\n",
       "│ (<span style=\"color: #0087ff; text-decoration-color: #0087ff\">NotEqual</span>)          │                   │            │                   │\n",
       "├─────────────────────┼───────────────────┼────────────┼───────────────────┤\n",
       "│ bidirectional_2     │ (<span style=\"color: #00d7ff; text-decoration-color: #00d7ff\">None</span>, <span style=\"color: #00af00; text-decoration-color: #00af00\">76</span>, <span style=\"color: #00af00; text-decoration-color: #00af00\">256</span>)   │    <span style=\"color: #00af00; text-decoration-color: #00af00\">439,296</span> │ embedding_4[<span style=\"color: #00af00; text-decoration-color: #00af00\">0</span>][<span style=\"color: #00af00; text-decoration-color: #00af00\">0</span>… │\n",
       "│ (<span style=\"color: #0087ff; text-decoration-color: #0087ff\">Bidirectional</span>)     │                   │            │ not_equal_2[<span style=\"color: #00af00; text-decoration-color: #00af00\">0</span>][<span style=\"color: #00af00; text-decoration-color: #00af00\">0</span>] │\n",
       "├─────────────────────┼───────────────────┼────────────┼───────────────────┤\n",
       "│ dense_2 (<span style=\"color: #0087ff; text-decoration-color: #0087ff\">Dense</span>)     │ (<span style=\"color: #00d7ff; text-decoration-color: #00d7ff\">None</span>, <span style=\"color: #00af00; text-decoration-color: #00af00\">76</span>, <span style=\"color: #00af00; text-decoration-color: #00af00\">4</span>)     │      <span style=\"color: #00af00; text-decoration-color: #00af00\">1,028</span> │ bidirectional_2[<span style=\"color: #00af00; text-decoration-color: #00af00\">…</span> │\n",
       "└─────────────────────┴───────────────────┴────────────┴───────────────────┘\n",
       "</pre>\n"
      ],
      "text/plain": [
       "┏━━━━━━━━━━━━━━━━━━━━━┳━━━━━━━━━━━━━━━━━━━┳━━━━━━━━━━━━┳━━━━━━━━━━━━━━━━━━━┓\n",
       "┃\u001b[1m \u001b[0m\u001b[1mLayer (type)       \u001b[0m\u001b[1m \u001b[0m┃\u001b[1m \u001b[0m\u001b[1mOutput Shape     \u001b[0m\u001b[1m \u001b[0m┃\u001b[1m \u001b[0m\u001b[1m   Param #\u001b[0m\u001b[1m \u001b[0m┃\u001b[1m \u001b[0m\u001b[1mConnected to     \u001b[0m\u001b[1m \u001b[0m┃\n",
       "┡━━━━━━━━━━━━━━━━━━━━━╇━━━━━━━━━━━━━━━━━━━╇━━━━━━━━━━━━╇━━━━━━━━━━━━━━━━━━━┩\n",
       "│ input_layer_2       │ (\u001b[38;5;45mNone\u001b[0m, \u001b[38;5;34m76\u001b[0m)        │          \u001b[38;5;34m0\u001b[0m │ -                 │\n",
       "│ (\u001b[38;5;33mInputLayer\u001b[0m)        │                   │            │                   │\n",
       "├─────────────────────┼───────────────────┼────────────┼───────────────────┤\n",
       "│ embedding_4         │ (\u001b[38;5;45mNone\u001b[0m, \u001b[38;5;34m76\u001b[0m, \u001b[38;5;34m300\u001b[0m)   │  \u001b[38;5;34m4,947,600\u001b[0m │ input_layer_2[\u001b[38;5;34m0\u001b[0m]… │\n",
       "│ (\u001b[38;5;33mEmbedding\u001b[0m)         │                   │            │                   │\n",
       "├─────────────────────┼───────────────────┼────────────┼───────────────────┤\n",
       "│ not_equal_2         │ (\u001b[38;5;45mNone\u001b[0m, \u001b[38;5;34m76\u001b[0m)        │          \u001b[38;5;34m0\u001b[0m │ input_layer_2[\u001b[38;5;34m0\u001b[0m]… │\n",
       "│ (\u001b[38;5;33mNotEqual\u001b[0m)          │                   │            │                   │\n",
       "├─────────────────────┼───────────────────┼────────────┼───────────────────┤\n",
       "│ bidirectional_2     │ (\u001b[38;5;45mNone\u001b[0m, \u001b[38;5;34m76\u001b[0m, \u001b[38;5;34m256\u001b[0m)   │    \u001b[38;5;34m439,296\u001b[0m │ embedding_4[\u001b[38;5;34m0\u001b[0m][\u001b[38;5;34m0\u001b[0m… │\n",
       "│ (\u001b[38;5;33mBidirectional\u001b[0m)     │                   │            │ not_equal_2[\u001b[38;5;34m0\u001b[0m][\u001b[38;5;34m0\u001b[0m] │\n",
       "├─────────────────────┼───────────────────┼────────────┼───────────────────┤\n",
       "│ dense_2 (\u001b[38;5;33mDense\u001b[0m)     │ (\u001b[38;5;45mNone\u001b[0m, \u001b[38;5;34m76\u001b[0m, \u001b[38;5;34m4\u001b[0m)     │      \u001b[38;5;34m1,028\u001b[0m │ bidirectional_2[\u001b[38;5;34m…\u001b[0m │\n",
       "└─────────────────────┴───────────────────┴────────────┴───────────────────┘\n"
      ]
     },
     "metadata": {},
     "output_type": "display_data"
    },
    {
     "data": {
      "text/html": [
       "<pre style=\"white-space:pre;overflow-x:auto;line-height:normal;font-family:Menlo,'DejaVu Sans Mono',consolas,'Courier New',monospace\"><span style=\"font-weight: bold\"> Total params: </span><span style=\"color: #00af00; text-decoration-color: #00af00\">5,387,924</span> (20.55 MB)\n",
       "</pre>\n"
      ],
      "text/plain": [
       "\u001b[1m Total params: \u001b[0m\u001b[38;5;34m5,387,924\u001b[0m (20.55 MB)\n"
      ]
     },
     "metadata": {},
     "output_type": "display_data"
    },
    {
     "data": {
      "text/html": [
       "<pre style=\"white-space:pre;overflow-x:auto;line-height:normal;font-family:Menlo,'DejaVu Sans Mono',consolas,'Courier New',monospace\"><span style=\"font-weight: bold\"> Trainable params: </span><span style=\"color: #00af00; text-decoration-color: #00af00\">5,387,924</span> (20.55 MB)\n",
       "</pre>\n"
      ],
      "text/plain": [
       "\u001b[1m Trainable params: \u001b[0m\u001b[38;5;34m5,387,924\u001b[0m (20.55 MB)\n"
      ]
     },
     "metadata": {},
     "output_type": "display_data"
    },
    {
     "data": {
      "text/html": [
       "<pre style=\"white-space:pre;overflow-x:auto;line-height:normal;font-family:Menlo,'DejaVu Sans Mono',consolas,'Courier New',monospace\"><span style=\"font-weight: bold\"> Non-trainable params: </span><span style=\"color: #00af00; text-decoration-color: #00af00\">0</span> (0.00 B)\n",
       "</pre>\n"
      ],
      "text/plain": [
       "\u001b[1m Non-trainable params: \u001b[0m\u001b[38;5;34m0\u001b[0m (0.00 B)\n"
      ]
     },
     "metadata": {},
     "output_type": "display_data"
    }
   ],
   "source": [
    "input = Input(shape=(max_len,))\n",
    "model = Embedding(input_dim=embedding_matrix.shape[0],\n",
    "                  output_dim=embedding_matrix.shape[1],\n",
    "                  weights=[embedding_matrix],\n",
    "                  input_length=max_len,\n",
    "                  mask_zero=True,\n",
    "                  trainable=True)(input)\n",
    "model = Bidirectional(LSTM(units=128, return_sequences=True))(model)\n",
    "model = Dense(num_classes, activation=\"softmax\")(model)\n",
    "\n",
    "model = Model(input, model)\n",
    "model.summary()\n"
   ]
  },
  {
   "cell_type": "code",
   "execution_count": 45,
   "metadata": {
    "id": "6ZYZOGfzWcgc"
   },
   "outputs": [],
   "source": [
    "def create_sample_weights(y_padded):\n",
    "    return (y_padded != -1).astype(\"float32\")\n",
    "\n",
    "sample_weights_train = create_sample_weights(y_train)\n",
    "sample_weights_val = create_sample_weights(y_val)\n",
    "\n",
    "y_train = np.where(y_train == -1, 0, y_train)\n",
    "y_val = np.where(y_val == -1, 0, y_val)\n",
    "\n"
   ]
  },
  {
   "cell_type": "code",
   "execution_count": 46,
   "metadata": {
    "colab": {
     "base_uri": "https://localhost:8080/"
    },
    "id": "Gyqj5a5-Uc_y",
    "outputId": "2329c779-fd5d-46e1-9cd0-4d049f2fb0b5"
   },
   "outputs": [
    {
     "name": "stdout",
     "output_type": "stream",
     "text": [
      "Epoch 1/15\n",
      "\u001b[1m63/63\u001b[0m \u001b[32m━━━━━━━━━━━━━━━━━━━━\u001b[0m\u001b[37m\u001b[0m \u001b[1m8s\u001b[0m 98ms/step - accuracy: 0.3889 - loss: 0.8005 - val_accuracy: 0.4154 - val_loss: 0.4243\n",
      "Epoch 2/15\n",
      "\u001b[1m63/63\u001b[0m \u001b[32m━━━━━━━━━━━━━━━━━━━━\u001b[0m\u001b[37m\u001b[0m \u001b[1m7s\u001b[0m 118ms/step - accuracy: 0.4265 - loss: 0.3423 - val_accuracy: 0.4305 - val_loss: 0.3468\n",
      "Epoch 3/15\n",
      "\u001b[1m63/63\u001b[0m \u001b[32m━━━━━━━━━━━━━━━━━━━━\u001b[0m\u001b[37m\u001b[0m \u001b[1m10s\u001b[0m 161ms/step - accuracy: 0.4630 - loss: 0.2141 - val_accuracy: 0.4332 - val_loss: 0.3445\n",
      "Epoch 4/15\n",
      "\u001b[1m63/63\u001b[0m \u001b[32m━━━━━━━━━━━━━━━━━━━━\u001b[0m\u001b[37m\u001b[0m \u001b[1m10s\u001b[0m 163ms/step - accuracy: 0.4729 - loss: 0.1284 - val_accuracy: 0.4329 - val_loss: 0.3567\n",
      "Epoch 5/15\n",
      "\u001b[1m63/63\u001b[0m \u001b[32m━━━━━━━━━━━━━━━━━━━━\u001b[0m\u001b[37m\u001b[0m \u001b[1m10s\u001b[0m 163ms/step - accuracy: 0.4928 - loss: 0.0795 - val_accuracy: 0.4360 - val_loss: 0.3740\n",
      "Epoch 6/15\n",
      "\u001b[1m63/63\u001b[0m \u001b[32m━━━━━━━━━━━━━━━━━━━━\u001b[0m\u001b[37m\u001b[0m \u001b[1m10s\u001b[0m 167ms/step - accuracy: 0.4882 - loss: 0.0515 - val_accuracy: 0.4342 - val_loss: 0.4282\n",
      "Epoch 7/15\n",
      "\u001b[1m63/63\u001b[0m \u001b[32m━━━━━━━━━━━━━━━━━━━━\u001b[0m\u001b[37m\u001b[0m \u001b[1m10s\u001b[0m 160ms/step - accuracy: 0.5005 - loss: 0.0372 - val_accuracy: 0.4343 - val_loss: 0.4523\n",
      "Epoch 8/15\n",
      "\u001b[1m63/63\u001b[0m \u001b[32m━━━━━━━━━━━━━━━━━━━━\u001b[0m\u001b[37m\u001b[0m \u001b[1m10s\u001b[0m 159ms/step - accuracy: 0.4920 - loss: 0.0256 - val_accuracy: 0.4346 - val_loss: 0.4776\n",
      "Epoch 9/15\n",
      "\u001b[1m63/63\u001b[0m \u001b[32m━━━━━━━━━━━━━━━━━━━━\u001b[0m\u001b[37m\u001b[0m \u001b[1m10s\u001b[0m 159ms/step - accuracy: 0.4904 - loss: 0.0169 - val_accuracy: 0.4332 - val_loss: 0.5132\n",
      "Epoch 10/15\n",
      "\u001b[1m63/63\u001b[0m \u001b[32m━━━━━━━━━━━━━━━━━━━━\u001b[0m\u001b[37m\u001b[0m \u001b[1m10s\u001b[0m 166ms/step - accuracy: 0.5027 - loss: 0.0098 - val_accuracy: 0.4333 - val_loss: 0.5528\n",
      "Epoch 11/15\n",
      "\u001b[1m63/63\u001b[0m \u001b[32m━━━━━━━━━━━━━━━━━━━━\u001b[0m\u001b[37m\u001b[0m \u001b[1m10s\u001b[0m 165ms/step - accuracy: 0.4968 - loss: 0.0072 - val_accuracy: 0.4334 - val_loss: 0.5503\n",
      "Epoch 12/15\n",
      "\u001b[1m63/63\u001b[0m \u001b[32m━━━━━━━━━━━━━━━━━━━━\u001b[0m\u001b[37m\u001b[0m \u001b[1m10s\u001b[0m 167ms/step - accuracy: 0.5226 - loss: 0.0052 - val_accuracy: 0.4324 - val_loss: 0.5909\n",
      "Epoch 13/15\n",
      "\u001b[1m63/63\u001b[0m \u001b[32m━━━━━━━━━━━━━━━━━━━━\u001b[0m\u001b[37m\u001b[0m \u001b[1m11s\u001b[0m 167ms/step - accuracy: 0.4966 - loss: 0.0047 - val_accuracy: 0.4302 - val_loss: 0.6264\n",
      "Epoch 14/15\n",
      "\u001b[1m63/63\u001b[0m \u001b[32m━━━━━━━━━━━━━━━━━━━━\u001b[0m\u001b[37m\u001b[0m \u001b[1m11s\u001b[0m 168ms/step - accuracy: 0.5038 - loss: 0.0051 - val_accuracy: 0.4328 - val_loss: 0.6257\n",
      "Epoch 15/15\n",
      "\u001b[1m63/63\u001b[0m \u001b[32m━━━━━━━━━━━━━━━━━━━━\u001b[0m\u001b[37m\u001b[0m \u001b[1m10s\u001b[0m 163ms/step - accuracy: 0.4989 - loss: 0.0044 - val_accuracy: 0.4310 - val_loss: 0.6475\n"
     ]
    }
   ],
   "source": [
    "#Training of model (using Adam as a baseline optimiser)\n",
    "model.compile(\n",
    "    optimizer=Adam(learning_rate=0.001),\n",
    "    loss=\"sparse_categorical_crossentropy\",\n",
    "    metrics=[\"accuracy\"]\n",
    ")\n",
    "\n",
    "\n",
    "history = model.fit(\n",
    "    X_train, y_train[..., np.newaxis],\n",
    "    validation_data=(X_val, y_val[..., np.newaxis], sample_weights_val),\n",
    "    sample_weight=sample_weights_train,\n",
    "    batch_size=32,\n",
    "    epochs=15\n",
    ")\n"
   ]
  },
  {
   "cell_type": "code",
   "execution_count": 47,
   "metadata": {
    "colab": {
     "base_uri": "https://localhost:8080/"
    },
    "id": "Bxj2SSA8Sypt",
    "outputId": "2fa71c50-b90a-493f-da02-b8c97f7e45b0"
   },
   "outputs": [
    {
     "name": "stdout",
     "output_type": "stream",
     "text": [
      "WARNING:tensorflow:5 out of the last 17 calls to <function TensorFlowTrainer.make_predict_function.<locals>.one_step_on_data_distributed at 0x3190fde40> triggered tf.function retracing. Tracing is expensive and the excessive number of tracings could be due to (1) creating @tf.function repeatedly in a loop, (2) passing tensors with different shapes, (3) passing Python objects instead of tensors. For (1), please define your @tf.function outside of the loop. For (2), @tf.function has reduce_retracing=True option that can avoid unnecessary retracing. For (3), please refer to https://www.tensorflow.org/guide/function#controlling_retracing and https://www.tensorflow.org/api_docs/python/tf/function for  more details.\n",
      "\u001b[1m8/8\u001b[0m \u001b[32m━━━━━━━━━━━━━━━━━━━━\u001b[0m\u001b[37m\u001b[0m \u001b[1m0s\u001b[0m 42ms/step\n",
      "F1 Score: 0.6740924092409241\n",
      "              precision    recall  f1-score   support\n",
      "\n",
      "          AC       0.79      0.77      0.78       741\n",
      "          LF       0.49      0.55      0.52       455\n",
      "\n",
      "   micro avg       0.67      0.68      0.67      1196\n",
      "   macro avg       0.64      0.66      0.65      1196\n",
      "weighted avg       0.67      0.68      0.68      1196\n",
      "\n"
     ]
    }
   ],
   "source": [
    "y_pred = model.predict(X_test)\n",
    "y_pred_labels = np.argmax(y_pred, axis=-1)\n",
    "\n",
    "idx2tag = {i: t for i, t in enumerate(tag_encoder.classes_)}\n",
    "\n",
    "true_labels = [[idx2tag[idx] for idx in row if idx != -1] for row in y_test]\n",
    "pred_labels = [[idx2tag[idx] for idx in row[:len(true_labels[i])]] for i, row in enumerate(y_pred_labels)]\n",
    "\n",
    "print(\"F1 Score:\", f1_score(true_labels, pred_labels))\n",
    "print(classification_report(true_labels, pred_labels))"
   ]
  },
  {
   "cell_type": "code",
   "execution_count": 48,
   "metadata": {
    "id": "mRLh79PeXcUU"
   },
   "outputs": [
    {
     "data": {
      "image/png": "[encoded data removed]",
      "text/plain": [
       "<Figure size 1000x800 with 2 Axes>"
      ]
     },
     "metadata": {},
     "output_type": "display_data"
    }
   ],
   "source": [
    "report_dict = classification_report(true_labels, pred_labels,output_dict=True)\n",
    "class_keys = [key for key in report_dict.keys() if key not in ['accuracy', 'macro avg', 'weighted avg']]\n",
    "\n",
    "flat_true = [tag for seq in true_labels for tag in seq]\n",
    "flat_pred = [tag for seq in pred_labels for tag in seq]\n",
    "\n",
    "flat_pred = flat_pred[:len(flat_true)]\n",
    "\n",
    "unique_tags = sorted(set(flat_true + flat_pred))\n",
    "\n",
    "from sklearn.preprocessing import LabelEncoder\n",
    "le = LabelEncoder()\n",
    "le.fit(unique_tags)\n",
    "\n",
    "y_true_encoded = le.transform(flat_true)\n",
    "y_pred_encoded = le.transform(flat_pred)\n",
    "\n",
    "cm = confusion_matrix(y_true_encoded, y_pred_encoded)\n",
    "disp = ConfusionMatrixDisplay(confusion_matrix=cm, display_labels=le.classes_)\n",
    "\n",
    "fig, ax = plt.subplots(figsize=(10, 8))\n",
    "disp.plot(include_values=True, cmap='Blues', ax=ax, xticks_rotation=45)\n",
    "plt.title(\"Confusion Matrix of NER Tags\")\n",
    "plt.tight_layout()\n",
    "plt.show()"
   ]
  },
  {
   "cell_type": "code",
   "execution_count": 50,
   "metadata": {
    "scrolled": true
   },
   "outputs": [
    {
     "data": {
      "image/png": "[encoded data removed]",
      "text/plain": [
       "<Figure size 800x600 with 2 Axes>"
      ]
     },
     "metadata": {},
     "output_type": "display_data"
    }
   ],
   "source": [
    "flat_true = [label for seq in true_labels for label in seq]\n",
    "flat_pred = [label for seq in pred_labels for label in seq]\n",
    "\n",
    "def simplify(tag):\n",
    "    if tag == \"B-AC\":\n",
    "        return \"A\"\n",
    "    elif tag in (\"B-LF\", \"I-LF\"):\n",
    "        return \"LF\"\n",
    "    else:\n",
    "        return \"O\"\n",
    "\n",
    "flat_true_simplified = [simplify(tag) for tag in flat_true]\n",
    "flat_pred_simplified = [simplify(tag) for tag in flat_pred]\n",
    "\n",
    "le = LabelEncoder()\n",
    "le.fit([\"A\", \"LF\", \"O\"])\n",
    "y_true_encoded = le.transform(flat_true_simplified)\n",
    "y_pred_encoded = le.transform(flat_pred_simplified)\n",
    "\n",
    "cm = confusion_matrix(y_true_encoded, y_pred_encoded, normalize='true') * 100\n",
    "\n",
    "fig, ax = plt.subplots(figsize=(8, 6))\n",
    "disp = ConfusionMatrixDisplay(confusion_matrix=cm, display_labels=le.classes_)\n",
    "disp.plot(cmap=\"Blues\", ax=ax, values_format=\".3f\", xticks_rotation=45)\n",
    "plt.title(\"Normalized Confusion Matrix of Simplified NER Tags [%]\")\n",
    "plt.tight_layout()\n",
    "plt.show()\n"
   ]
  },
  {
   "cell_type": "markdown",
   "metadata": {},
   "source": [
    "# Experiment 2"
   ]
  },
  {
   "cell_type": "markdown",
   "metadata": {
    "id": "EbUfbPRB9oGv"
   },
   "source": [
    "Set-up 1: No preprocessing, GloVe/best ex1, RNN + Softmax, F1 metric evaluation"
   ]
  },
  {
   "cell_type": "code",
   "execution_count": 1,
   "metadata": {
    "id": "06GTRetkG1bS"
   },
   "outputs": [],
   "source": [
    "from datasets import load_dataset\n",
    "import pandas as pd\n",
    "from gensim.models import Word2Vec\n",
    "import ast"
   ]
  },
  {
   "cell_type": "code",
   "execution_count": 2,
   "metadata": {
    "colab": {
     "base_uri": "https://localhost:8080/",
     "height": 670,
     "referenced_widgets": [
      "c7c1b1c48911485190ea5b61523822ab",
      "0f935cca299b407f8382b583fcafffd9",
      "a8d5d8331794469f851abbb10c124828",
      "387968d94b954f268e9774ad53310002",
      "47d5090841a746cebe97eb968874d94c",
      "e947d1e702ea48598bc608568f1f3c89",
      "7c9a5a1720d5409c89cbee76d93e4f68",
      "c2407b841366483b8c56b3b1dc3f5987",
      "006e7147528f43dcb6b2f4e0c0bbeaca",
      "c3f761fb004f4bd988b52d474a287550",
      "ed173f71d8c14cc18c2241ef40984a96",
      "7d8bd8f9b1aa4c6fa7bda7b53328c4f3",
      "8febde54519f4a1fa30c4b2a21e186ce",
      "0e00e017de0f4b10ba54ae33fa03b9c2",
      "da83ec481f084d26922c49dbe4913765",
      "70c1af33db9b4a439ca2ea26b6028da1",
      "abfe5507dba344d484a96b42949f1960",
      "22104a7e39564159ac7fc36bac942fb1",
      "105df3a256a743fb9680e8f6e5b5d58b",
      "841e7573e6414d4b9bde59569062d183",
      "486813552d5a485c9013cab6bc7a5c45",
      "8c5d7b897f0e4a4f987f9a7effd84886",
      "2554ea152bad4783914a73ae0df41aee",
      "868fd24bb01244e893fc9aa9a7c91030",
      "e3ac4cf177894646be436d77651596f3",
      "d0ad989a4ff24cbfb32126550490b38d",
      "8ed63ff1408c46958bee1157989ec96b",
      "a56d9fd28bd0478f845868ac0dbe17ac",
      "8bb1f5fc681e4eb5802bed94c5073366",
      "8154ae887eae41f5bb592bfb5e6ac6db",
      "e1ae0b6d016f4458b2638df0a880db44",
      "96ec7ffbc39044e89189f4e4be46afd5",
      "c046adad525e473b8362869aa5df680d",
      "6b14301f5dec4a2b847d77221cea1be2",
      "9dbe033eb8af4e8c9897fb08f40685ee",
      "33fdf880d8084238a7fdfa59939d4e43",
      "82c7c7a63eb14220996152e433e0fd5c",
      "465da0efbede484f9bbf6d9636c63158",
      "b89a530a62894a7aba0a636995cde620",
      "ebd0661b40bf4c4dbe61ace9a8461914",
      "0ce5a779edad46288451b48765ecfd0c",
      "0af7cdc6c35b4343b143bd722140a07b",
      "f60f027274924217ac5d30c0d0bc1121",
      "f086bcc059384446b323beb70498397c",
      "1a9e48dd9cb648edb52bc19308a5feb2",
      "8b6cc9061437453692f2df52e3ca6e1f",
      "2cb6a9994707481f821a72910e826cb5",
      "64fd9dbdf7164bfd8298851dc3beeb0a",
      "f6285eecb25244c5abadc1133a6bdbc4",
      "8d7b23701f84490681b6ecb616679ac0",
      "7cd68fbadf3f4cae86ce70bbf690fb3b",
      "b26da2dc026d4594b9b4a01671b7ccbd",
      "11337e0e74dc4e10ae986a2f8a45704f",
      "117bbd57a9094726ba0cbb8351900d41",
      "94c879b05e3740cb86b57d5a83a08ad4",
      "298a7fe39f1f49248680e2165b572bd4",
      "a1d9ce03ece6495ba0166c7637f8a68b",
      "c1a34b1eca344481bf9fd59b11251c99",
      "0e41d03b2d4a4e44954b69e4b1bca3f5",
      "2cca20dbba244ae284b2d75d0e0180b9",
      "cb81bc9bd2fe4b5c8382107010db3e52",
      "c6e2cb03ef644df48fee3f8d7a3ba379",
      "ac0b4ccdf0fa471a99856971a3124334",
      "aada19fc919c4b98bc0084b851a354c5",
      "f26547d95d1b4483af32b7dd75f2ed71",
      "7b4b38928af1400ba13bf877601ba835"
     ]
    },
    "id": "GUG9YpxlDAIJ",
    "outputId": "9d585170-3149-4f84-8ee8-d913961caf31"
   },
   "outputs": [
    {
     "name": "stderr",
     "output_type": "stream",
     "text": [
      "/usr/local/lib/python3.11/dist-packages/huggingface_hub/utils/_auth.py:94: UserWarning: \n",
      "The secret `HF_TOKEN` does not exist in your Colab secrets.\n",
      "To authenticate with the Hugging Face Hub, create a token in your settings tab (https://huggingface.co/settings/tokens), set it as secret in your Google Colab and restart your session.\n",
      "You will be able to reuse this secret in all of your notebooks.\n",
      "Please note that authentication is recommended but still optional to access public models or datasets.\n",
      "  warnings.warn(\n"
     ]
    },
    {
     "data": {
      "application/vnd.jupyter.widget-view+json": {
       "model_id": "c7c1b1c48911485190ea5b61523822ab",
       "version_major": 2,
       "version_minor": 0
      },
      "text/plain": [
       "PLOD-CW-25-Train.parquet:   0%|          | 0.00/343k [00:00<?, ?B/s]"
      ]
     },
     "metadata": {},
     "output_type": "display_data"
    },
    {
     "data": {
      "application/vnd.jupyter.widget-view+json": {
       "model_id": "7d8bd8f9b1aa4c6fa7bda7b53328c4f3",
       "version_major": 2,
       "version_minor": 0
      },
      "text/plain": [
       "PLOD-CW-25-Test.parquet:   0%|          | 0.00/55.5k [00:00<?, ?B/s]"
      ]
     },
     "metadata": {},
     "output_type": "display_data"
    },
    {
     "data": {
      "application/vnd.jupyter.widget-view+json": {
       "model_id": "2554ea152bad4783914a73ae0df41aee",
       "version_major": 2,
       "version_minor": 0
      },
      "text/plain": [
       "PLOD-CW-25-Val.parquet:   0%|          | 0.00/35.9k [00:00<?, ?B/s]"
      ]
     },
     "metadata": {},
     "output_type": "display_data"
    },
    {
     "data": {
      "application/vnd.jupyter.widget-view+json": {
       "model_id": "6b14301f5dec4a2b847d77221cea1be2",
       "version_major": 2,
       "version_minor": 0
      },
      "text/plain": [
       "Generating train split:   0%|          | 0/2000 [00:00<?, ? examples/s]"
      ]
     },
     "metadata": {},
     "output_type": "display_data"
    },
    {
     "data": {
      "application/vnd.jupyter.widget-view+json": {
       "model_id": "1a9e48dd9cb648edb52bc19308a5feb2",
       "version_major": 2,
       "version_minor": 0
      },
      "text/plain": [
       "Generating test split:   0%|          | 0/250 [00:00<?, ? examples/s]"
      ]
     },
     "metadata": {},
     "output_type": "display_data"
    },
    {
     "data": {
      "application/vnd.jupyter.widget-view+json": {
       "model_id": "298a7fe39f1f49248680e2165b572bd4",
       "version_major": 2,
       "version_minor": 0
      },
      "text/plain": [
       "Generating validation split:   0%|          | 0/150 [00:00<?, ? examples/s]"
      ]
     },
     "metadata": {},
     "output_type": "display_data"
    },
    {
     "name": "stdout",
     "output_type": "stream",
     "text": [
      "DatasetDict({\n",
      "    train: Dataset({\n",
      "        features: ['tokens', 'pos_tags', 'ner_tags'],\n",
      "        num_rows: 2000\n",
      "    })\n",
      "    test: Dataset({\n",
      "        features: ['tokens', 'pos_tags', 'ner_tags'],\n",
      "        num_rows: 250\n",
      "    })\n",
      "    validation: Dataset({\n",
      "        features: ['tokens', 'pos_tags', 'ner_tags'],\n",
      "        num_rows: 150\n",
      "    })\n",
      "})\n"
     ]
    }
   ],
   "source": [
    "dataset = load_dataset(\"surrey-nlp/PLOD-CW-25\")\n",
    "\n",
    "print(dataset)"
   ]
  },
  {
   "cell_type": "code",
   "execution_count": 3,
   "metadata": {
    "id": "PvGTSh7QGtXH"
   },
   "outputs": [],
   "source": [
    "df_train = pd.DataFrame(dataset[\"train\"])\n",
    "df_val = pd.DataFrame(dataset[\"validation\"])\n",
    "df_test = pd.DataFrame(dataset[\"test\"])"
   ]
  },
  {
   "cell_type": "code",
   "execution_count": 4,
   "metadata": {
    "id": "bWoGJ6j2Ngdh"
   },
   "outputs": [],
   "source": [
    "import ast\n",
    "\n",
    "def safe_parse(col):\n",
    "    return [ast.literal_eval(row) if isinstance(row, str) else row for row in col]\n",
    "\n",
    "train_tokens = safe_parse(df_train[\"tokens\"])\n",
    "val_tokens = safe_parse(df_val[\"tokens\"])\n",
    "test_tokens = safe_parse(df_test[\"tokens\"])\n",
    "\n",
    "all_tokens = train_tokens + val_tokens + test_tokens"
   ]
  },
  {
   "cell_type": "code",
   "execution_count": 5,
   "metadata": {
    "colab": {
     "base_uri": "https://localhost:8080/"
    },
    "id": "y1XH0OrgG-wS",
    "outputId": "36602cae-2c97-4084-e6cc-63950b901999"
   },
   "outputs": [
    {
     "data": {
      "text/plain": [
       "list"
      ]
     },
     "execution_count": 5,
     "metadata": {},
     "output_type": "execute_result"
    }
   ],
   "source": [
    "type(df_train['tokens'][0])"
   ]
  },
  {
   "cell_type": "code",
   "execution_count": 6,
   "metadata": {
    "colab": {
     "base_uri": "https://localhost:8080/"
    },
    "id": "UKaTDzcpIF8U",
    "outputId": "833f7b50-e9e2-4c4f-dbf4-134914a9b413"
   },
   "outputs": [
    {
     "name": "stderr",
     "output_type": "stream",
     "text": [
      ".vector_cache/glove.6B.zip: 862MB [02:40, 5.38MB/s]                           \n",
      "100%|█████████▉| 399999/400000 [01:03<00:00, 6342.34it/s]\n"
     ]
    }
   ],
   "source": [
    "from torchtext.vocab import GloVe\n",
    "\n",
    "\n",
    "glove = GloVe(name='6B', dim=300)\n"
   ]
  },
  {
   "cell_type": "markdown",
   "metadata": {
    "id": "SHmO8pSxQoOB"
   },
   "source": [
    "Preparation of data (Creating vocab + embeding matrix from model itself)"
   ]
  },
  {
   "cell_type": "code",
   "execution_count": 7,
   "metadata": {
    "id": "XBdjOnXZNqib"
   },
   "outputs": [],
   "source": [
    "import numpy as np\n",
    "\n",
    "vocab = set(token for sentence in train_tokens + val_tokens + test_tokens for token in sentence)\n",
    "word_index = {word: i + 1 for i, word in enumerate(vocab)}\n",
    "\n",
    "embedding_dim = 300\n",
    "embedding_matrix = np.zeros((len(word_index) + 1, embedding_dim))\n",
    "\n",
    "for word, i in word_index.items():\n",
    "    if word in glove.stoi:\n",
    "        embedding_matrix[i] = glove[word].numpy()\n"
   ]
  },
  {
   "cell_type": "code",
   "execution_count": 8,
   "metadata": {
    "id": "iOA4grAPQk9z"
   },
   "outputs": [],
   "source": [
    "from tensorflow.keras.layers import Embedding\n",
    "\n",
    "embedding_layer = Embedding(\n",
    "    input_dim=embedding_matrix.shape[0],\n",
    "    output_dim=embedding_dim,\n",
    "    weights=[embedding_matrix],\n",
    "    mask_zero=True,\n",
    "    trainable=True\n",
    ")\n"
   ]
  },
  {
   "cell_type": "code",
   "execution_count": 9,
   "metadata": {
    "id": "uUrY8y_TRGG-"
   },
   "outputs": [],
   "source": [
    "from tensorflow.keras.preprocessing.sequence import pad_sequences\n",
    "\n",
    "def encode_sentences(token_lists, word_index, max_len):\n",
    "    sequences = [[word_index.get(token, 0) for token in tokens] for tokens in token_lists]\n",
    "    return pad_sequences(sequences, maxlen=max_len, padding=\"post\", truncating=\"post\")\n",
    "\n",
    "#using 90th percentile first\n",
    "max_len = 76\n",
    "\n",
    "X_train = encode_sentences(train_tokens, word_index, max_len)\n",
    "X_val = encode_sentences(val_tokens, word_index, max_len)\n",
    "X_test = encode_sentences(test_tokens, word_index, max_len)"
   ]
  },
  {
   "cell_type": "code",
   "execution_count": 10,
   "metadata": {
    "id": "QwbIHvKHRfx6"
   },
   "outputs": [],
   "source": [
    "from sklearn.preprocessing import LabelEncoder\n",
    "\n",
    "all_tags = df_train[\"ner_tags\"].tolist() + df_val[\"ner_tags\"].tolist() + df_test[\"ner_tags\"].tolist()\n",
    "\n",
    "tag_encoder = LabelEncoder()\n",
    "tag_encoder.fit([tag for seq in all_tags for tag in seq])\n",
    "num_classes = len(tag_encoder.classes_)\n",
    "\n",
    "def encode_tags(tag_lists, max_len):\n",
    "    encoded = [tag_encoder.transform(tags) for tags in tag_lists]\n",
    "    padded = pad_sequences(encoded, maxlen=max_len, padding=\"post\", truncating=\"post\", value=-1)  # -1 for masking\n",
    "    return padded\n",
    "\n",
    "y_train = encode_tags(df_train[\"ner_tags\"].tolist(), max_len)\n",
    "y_val = encode_tags(df_val[\"ner_tags\"].tolist(), max_len)\n",
    "y_test = encode_tags(df_test[\"ner_tags\"].tolist(), max_len)\n"
   ]
  },
  {
   "cell_type": "markdown",
   "metadata": {
    "id": "2xy02oLO7Ol8"
   },
   "source": [
    "Change Algorithms RNN Softmax Setup"
   ]
  },
  {
   "cell_type": "code",
   "execution_count": 12,
   "metadata": {
    "id": "zgdLcOTqSTcg"
   },
   "outputs": [],
   "source": [
    "from tensorflow.keras.models import Model\n",
    "from tensorflow.keras.layers import Input, Embedding, Bidirectional, SimpleRNN, LSTM, GRU, Dense, Masking\n",
    "from tensorflow.keras.utils import to_categorical\n",
    "\n",
    "input = Input(shape=(max_len,), dtype='int32')\n",
    "\n",
    "x = Embedding(\n",
    "    input_dim=embedding_matrix.shape[0],\n",
    "    output_dim=embedding_matrix.shape[1],\n",
    "    weights=[embedding_matrix],\n",
    "    input_length=max_len,\n",
    "    mask_zero=True,\n",
    "    trainable=True\n",
    ")(input)\n",
    "\n",
    "\n",
    "x = Bidirectional(SimpleRNN(units=128, return_sequences=True))(x)\n",
    "\n",
    "\n",
    "output = Dense(num_classes, activation=\"softmax\")(x)\n",
    "\n",
    "model = Model(input, output)"
   ]
  },
  {
   "cell_type": "code",
   "execution_count": 13,
   "metadata": {
    "colab": {
     "base_uri": "https://localhost:8080/"
    },
    "id": "jtVD225YnLsW",
    "outputId": "f8ff9220-2ab4-4cd5-bf56-ee42bdb1cb88"
   },
   "outputs": [
    {
     "name": "stdout",
     "output_type": "stream",
     "text": [
      "Model: \"model\"\n",
      "_________________________________________________________________\n",
      " Layer (type)                Output Shape              Param #   \n",
      "=================================================================\n",
      " input_2 (InputLayer)        [(None, 76)]              0         \n",
      "                                                                 \n",
      " embedding_2 (Embedding)     (None, 76, 300)           4947600   \n",
      "                                                                 \n",
      " bidirectional_1 (Bidirectio  (None, 76, 256)          109824    \n",
      " nal)                                                            \n",
      "                                                                 \n",
      " dense_1 (Dense)             (None, 76, 4)             1028      \n",
      "                                                                 \n",
      "=================================================================\n",
      "Total params: 5,058,452\n",
      "Trainable params: 5,058,452\n",
      "Non-trainable params: 0\n",
      "_________________________________________________________________\n"
     ]
    }
   ],
   "source": [
    "model.summary()"
   ]
  },
  {
   "cell_type": "code",
   "execution_count": 14,
   "metadata": {
    "id": "6ZYZOGfzWcgc"
   },
   "outputs": [],
   "source": [
    "def create_sample_weights(y_padded):\n",
    "    return (y_padded != -1).astype(\"float32\")\n",
    "\n",
    "sample_weights_train = create_sample_weights(y_train)\n",
    "sample_weights_val = create_sample_weights(y_val)\n",
    "\n",
    "y_train = np.where(y_train == -1, 0, y_train)\n",
    "y_val = np.where(y_val == -1, 0, y_val)\n",
    "\n"
   ]
  },
  {
   "cell_type": "code",
   "execution_count": null,
   "metadata": {},
   "outputs": [],
   "source": [
    "from tensorflow.keras.optimizers import Adam\n",
    "\n",
    "model.compile(\n",
    "    optimizer=Adam(learning_rate=0.001),\n",
    "    loss=\"sparse_categorical_crossentropy\",\n",
    "    metrics=[\"accuracy\"]\n",
    ")\n",
    "\n",
    "\n",
    "history = model.fit(\n",
    "    X_train, y_train[..., np.newaxis],\n",
    "    validation_data=(X_val, y_val[..., np.newaxis], sample_weights_val),\n",
    "    sample_weight=sample_weights_train,\n",
    "    batch_size=32,\n",
    "    epochs=15\n",
    ")\n"
   ]
  },
  {
   "cell_type": "code",
   "execution_count": 16,
   "metadata": {
    "colab": {
     "base_uri": "https://localhost:8080/"
    },
    "id": "Bxj2SSA8Sypt",
    "outputId": "afa45d4f-90fd-4fad-f0be-48beb3027a56"
   },
   "outputs": [
    {
     "name": "stdout",
     "output_type": "stream",
     "text": [
      "8/8 [==============================] - 2s 86ms/step\n",
      "F1 Score: 0.6522821576763486\n",
      "              precision    recall  f1-score   support\n",
      "\n",
      "          AC       0.75      0.72      0.74       741\n",
      "          LF       0.50      0.55      0.52       455\n",
      "\n",
      "   micro avg       0.65      0.66      0.65      1196\n",
      "   macro avg       0.63      0.64      0.63      1196\n",
      "weighted avg       0.66      0.66      0.66      1196\n",
      "\n"
     ]
    }
   ],
   "source": [
    "from seqeval.metrics import classification_report, f1_score\n",
    "y_pred = model.predict(X_test)\n",
    "y_pred_labels = np.argmax(y_pred, axis=-1)\n",
    "\n",
    "idx2tag = {i: t for i, t in enumerate(tag_encoder.classes_)}\n",
    "\n",
    "true_labels = [[idx2tag[idx] for idx in row if idx != -1] for row in y_test]\n",
    "pred_labels = [[idx2tag[idx] for idx in row[:len(true_labels[i])]] for i, row in enumerate(y_pred_labels)]\n",
    "\n",
    "print(\"F1 Score:\", f1_score(true_labels, pred_labels))\n",
    "print(classification_report(true_labels, pred_labels))"
   ]
  },
  {
   "cell_type": "code",
   "execution_count": 17,
   "metadata": {
    "colab": {
     "base_uri": "https://localhost:8080/",
     "height": 627
    },
    "id": "YnSSpXm0WGSt",
    "outputId": "4fb9eeee-88a1-4226-91f1-a0bb623275c7",
    "scrolled": true
   },
   "outputs": [
    {
     "data": {
      "image/png": "[encoded data removed]",
      "text/plain": [
       "<Figure size 800x600 with 2 Axes>"
      ]
     },
     "metadata": {},
     "output_type": "display_data"
    }
   ],
   "source": [
    "import matplotlib.pyplot as plt\n",
    "from sklearn.metrics import confusion_matrix, ConfusionMatrixDisplay\n",
    "from sklearn.preprocessing import LabelEncoder\n",
    "\n",
    "# Flatten true and predicted labels\n",
    "flat_true = [label for seq in true_labels for label in seq]\n",
    "flat_pred = [label for seq in pred_labels for label in seq]\n",
    "\n",
    "# Simplify NER tags to 3 classes: A, LF, O\n",
    "def simplify(tag):\n",
    "    if tag == \"B-AC\":\n",
    "        return \"A\"\n",
    "    elif tag in (\"B-LF\", \"I-LF\"):\n",
    "        return \"LF\"\n",
    "    else:\n",
    "        return \"O\"\n",
    "\n",
    "flat_true_simplified = [simplify(tag) for tag in flat_true]\n",
    "flat_pred_simplified = [simplify(tag) for tag in flat_pred]\n",
    "\n",
    "# Label encode the simplified tags\n",
    "le = LabelEncoder()\n",
    "le.fit([\"A\", \"LF\", \"O\"])\n",
    "y_true_encoded = le.transform(flat_true_simplified)\n",
    "y_pred_encoded = le.transform(flat_pred_simplified)\n",
    "\n",
    "# Normalized confusion matrix (row-wise), then convert to percentage\n",
    "cm = confusion_matrix(y_true_encoded, y_pred_encoded, normalize='true') * 100\n",
    "\n",
    "# Plot\n",
    "fig, ax = plt.subplots(figsize=(8, 6))\n",
    "disp = ConfusionMatrixDisplay(confusion_matrix=cm, display_labels=le.classes_)\n",
    "disp.plot(cmap=\"Blues\", ax=ax, values_format=\".3f\", xticks_rotation=45)\n",
    "plt.title(\"Normalized Confusion Matrix of Simplified NER Tags [%]\")\n",
    "plt.tight_layout()\n",
    "plt.show()\n"
   ]
  },
  {
   "cell_type": "markdown",
   "metadata": {
    "id": "pRd5w_UD9ywi"
   },
   "source": [
    "Set-up 2: No preprocessing, GloVe/best ex1, RNN + CRF, F1 metric evaluation\n"
   ]
  },
  {
   "cell_type": "code",
   "execution_count": null,
   "metadata": {
    "colab": {
     "base_uri": "https://localhost:8080/"
    },
    "id": "06GTRetkG1bS",
    "outputId": "24d0ec51-c62f-4c66-93d8-6139be5142ae"
   },
   "outputs": [
    {
     "name": "stderr",
     "output_type": "stream",
     "text": [
      "/usr/local/lib/python3.11/dist-packages/tensorflow_addons/utils/tfa_eol_msg.py:23: UserWarning: \n",
      "\n",
      "TensorFlow Addons (TFA) has ended development and introduction of new features.\n",
      "TFA has entered a minimal maintenance and release mode until a planned end of life in May 2024.\n",
      "Please modify downstream libraries to take dependencies from other repositories in our TensorFlow community (e.g. Keras, Keras-CV, and Keras-NLP). \n",
      "\n",
      "For more information see: https://github.com/tensorflow/addons/issues/2807 \n",
      "\n",
      "  warnings.warn(\n"
     ]
    }
   ],
   "source": [
    "from datasets import load_dataset\n",
    "import pandas as pd\n",
    "from gensim.models import Word2Vec\n",
    "import ast\n",
    "from keras_crf import CRFModel\n",
    "from tensorflow.keras.layers import Input, Embedding, Bidirectional, LSTM, Dense"
   ]
  },
  {
   "cell_type": "code",
   "execution_count": null,
   "metadata": {
    "id": "LISYEwH3GR85"
   },
   "outputs": [],
   "source": [
    "from datasets import load_dataset\n",
    "import shutil\n",
    "import os\n",
    "\n",
    "cache_dir = os.path.expanduser(\"~/.cache/huggingface/datasets/surrey-nlp___plod-cw-25\")\n",
    "if os.path.exists(cache_dir):\n",
    "    shutil.rmtree(cache_dir)"
   ]
  },
  {
   "cell_type": "code",
   "execution_count": null,
   "metadata": {
    "colab": {
     "base_uri": "https://localhost:8080/",
     "height": 702,
     "referenced_widgets": [
      "4aff20cc92d648beb5657b76fa9bcc4d",
      "f475596aaf7047eb8ceddaa20dd028eb",
      "c69d5f8a5e7c47a19edc65add6c00b28",
      "0b1c72b3c49c45eb8acb5cb3d53331e2",
      "b8d2b6f66cb34d5dabc444e1b9e95f4a",
      "6c877d6e09cd49519ac0617b7ae4ef52",
      "9ac3c7b739314b9ebd24e82b5d589dfc",
      "503f7926d90b42ae92535425a05a3c14",
      "9cd53e925362405ca699283007dac3ee",
      "42a32f2a879b47cf8867da1991c2d8a4",
      "eb2856681a9d4ea7862949c209aea5f5",
      "f20a868470d241d89d67ae25961f83c4",
      "c764910aab52494f821cf50a70d201c2",
      "4666496f08a544aba2cc550331eaf387",
      "fbf79ce48ab54a80827b952ea0fa747b",
      "8e3e0a2de32843c3893b39e1fd388ed6",
      "c7bf4103e50e41c99b4dd05fe7585b92",
      "685303b0ff234042919d99b9ebdb9729",
      "40e88a1e27ec499da4787262ba2001a5",
      "cba2ff26bfe64440b424442cf513db86",
      "d65a598dfec748d7b4e3518e5ec017ec",
      "c21d87fcaf9045b1ae70d8a7866a6272",
      "22dd3a6adc594581a35d4520765a0256",
      "8a30d753505e4b649a1384ecad6e2f6b",
      "6ec92a44437949f08ffd45e01ee4b5e4",
      "04a47e94855a4b4590fb09e8cebbcce5",
      "13d3f8b5fa884e84b46e0dc13a705dcf",
      "81e0ce9a8c0c43aa9b1606b3c341e988",
      "3d4acb237616497a994c696f0d6a9c9a",
      "1c9f874a5f8d4d3aa523a0ec4900785c",
      "98218f71cae0448f82da6c2a97ea4017",
      "83e281e7c8e841f8b748308038530509",
      "6b5811d526164dc3bf23d39a43248f0b",
      "bd6dc3469e5c4c428d88a66f3ba20894",
      "c57be3265b504cb1adaab4e11aa80aeb",
      "6714e9c1d5fe4ac2b6049924a542a776",
      "de3057bae131442f84f98931a30a5e5c",
      "afe6c95c3f9740a2aff8f911463ed4e3",
      "1d162718b07d4f67a0a983d12bc70446",
      "555a930102ef4652a837dce32b2d0598",
      "6e696f9715124ae0aa6e79d248d1c0fc",
      "200ced709f9f4348b7e79e7b7c1fd59e",
      "4b86bc93b51e439f88fb842609f224db",
      "5797770048514f00a6e4644961942f5a",
      "7d7f51e7c5f84f59a2838202cfa79223",
      "0b07abca013d43faaf38f67712b67979",
      "e1532a32b163480ab5fce6a1a14290ca",
      "0b8a20dd8a854d948f9d01936bd07d84",
      "c766d6cd3fc4452cbe95b24acaf82cc8",
      "c2b9979206434ef380823a4ee4234f9e",
      "8f69e64d09a74e2d9cd1c2f59548c373",
      "05527c603577472a8da3db33109a7310",
      "920efb949b4643c5bbb665edef85dd73",
      "8bdbc4f7159d40cf908af833c8909a71",
      "d3a0c5983697416b8d8a821c2bdb6de1",
      "3785741f75ad4d749cb4aa3965f57088",
      "5a82879a323c4a5b96d94b13eb23bc08",
      "688a7a209cb44b7ca9c156a9bc11cf20",
      "a74ed07bd1af4dce84e53999465fdb40",
      "b937f7eb0a6a407c862eef289927e2bd",
      "9559f14b04e94bdf9f55baf10bb9a879",
      "07d0bd5394e04709bbc4bc8bf1adbaa3",
      "3bc8035d012844a7a65cdf15f28a201e",
      "a5fca6d06c194ab795ae0a55652b4c9b",
      "6b2006905c0c493b84d0c52584111954",
      "b7ab46d98ce8482d98b7b40adcdef7bc",
      "feb9129a2e014c1ab40666697220d855",
      "922bfaf1ba284dd2834e1130ae1995b0",
      "06d96450d3e3452fbf7783fb9665ef41",
      "38e06c87c1dd431d87ebcaae9f7a53d4",
      "3427c217d37e40f395bf0dd88317a983",
      "57ba9342e22c4b4f816f1425ce44b21a",
      "53b8aa894d194d7bb637524eff8bb325",
      "df3dd9e62c9c420f968bedb8fcc607d7",
      "0275b3fb718d4d7892d817e0c6e42900",
      "e36ae7b3b611439a8b2357c9b7b0c52e",
      "acf2b2f26c064211aad1c7f9dd61db72"
     ]
    },
    "id": "GUG9YpxlDAIJ",
    "outputId": "172aaffd-2ced-4c8d-f8d6-fba1e834bd5a"
   },
   "outputs": [
    {
     "name": "stderr",
     "output_type": "stream",
     "text": [
      "/usr/local/lib/python3.11/dist-packages/huggingface_hub/utils/_auth.py:94: UserWarning: \n",
      "The secret `HF_TOKEN` does not exist in your Colab secrets.\n",
      "To authenticate with the Hugging Face Hub, create a token in your settings tab (https://huggingface.co/settings/tokens), set it as secret in your Google Colab and restart your session.\n",
      "You will be able to reuse this secret in all of your notebooks.\n",
      "Please note that authentication is recommended but still optional to access public models or datasets.\n",
      "  warnings.warn(\n"
     ]
    },
    {
     "data": {
      "application/vnd.jupyter.widget-view+json": {
       "model_id": "4aff20cc92d648beb5657b76fa9bcc4d",
       "version_major": 2,
       "version_minor": 0
      },
      "text/plain": [
       "README.md:   0%|          | 0.00/268 [00:00<?, ?B/s]"
      ]
     },
     "metadata": {},
     "output_type": "display_data"
    },
    {
     "data": {
      "application/vnd.jupyter.widget-view+json": {
       "model_id": "f20a868470d241d89d67ae25961f83c4",
       "version_major": 2,
       "version_minor": 0
      },
      "text/plain": [
       "PLOD-CW-25-Train.parquet:   0%|          | 0.00/343k [00:00<?, ?B/s]"
      ]
     },
     "metadata": {},
     "output_type": "display_data"
    },
    {
     "data": {
      "application/vnd.jupyter.widget-view+json": {
       "model_id": "22dd3a6adc594581a35d4520765a0256",
       "version_major": 2,
       "version_minor": 0
      },
      "text/plain": [
       "PLOD-CW-25-Test.parquet:   0%|          | 0.00/55.5k [00:00<?, ?B/s]"
      ]
     },
     "metadata": {},
     "output_type": "display_data"
    },
    {
     "data": {
      "application/vnd.jupyter.widget-view+json": {
       "model_id": "bd6dc3469e5c4c428d88a66f3ba20894",
       "version_major": 2,
       "version_minor": 0
      },
      "text/plain": [
       "PLOD-CW-25-Val.parquet:   0%|          | 0.00/35.9k [00:00<?, ?B/s]"
      ]
     },
     "metadata": {},
     "output_type": "display_data"
    },
    {
     "data": {
      "application/vnd.jupyter.widget-view+json": {
       "model_id": "7d7f51e7c5f84f59a2838202cfa79223",
       "version_major": 2,
       "version_minor": 0
      },
      "text/plain": [
       "Generating train split:   0%|          | 0/2000 [00:00<?, ? examples/s]"
      ]
     },
     "metadata": {},
     "output_type": "display_data"
    },
    {
     "data": {
      "application/vnd.jupyter.widget-view+json": {
       "model_id": "3785741f75ad4d749cb4aa3965f57088",
       "version_major": 2,
       "version_minor": 0
      },
      "text/plain": [
       "Generating test split:   0%|          | 0/250 [00:00<?, ? examples/s]"
      ]
     },
     "metadata": {},
     "output_type": "display_data"
    },
    {
     "data": {
      "application/vnd.jupyter.widget-view+json": {
       "model_id": "feb9129a2e014c1ab40666697220d855",
       "version_major": 2,
       "version_minor": 0
      },
      "text/plain": [
       "Generating validation split:   0%|          | 0/150 [00:00<?, ? examples/s]"
      ]
     },
     "metadata": {},
     "output_type": "display_data"
    },
    {
     "name": "stdout",
     "output_type": "stream",
     "text": [
      "DatasetDict({\n",
      "    train: Dataset({\n",
      "        features: ['tokens', 'pos_tags', 'ner_tags'],\n",
      "        num_rows: 2000\n",
      "    })\n",
      "    test: Dataset({\n",
      "        features: ['tokens', 'pos_tags', 'ner_tags'],\n",
      "        num_rows: 250\n",
      "    })\n",
      "    validation: Dataset({\n",
      "        features: ['tokens', 'pos_tags', 'ner_tags'],\n",
      "        num_rows: 150\n",
      "    })\n",
      "})\n"
     ]
    }
   ],
   "source": [
    "from datasets import load_dataset\n",
    "dataset = load_dataset(\"surrey-nlp/PLOD-CW-25\")\n",
    "\n",
    "print(dataset)"
   ]
  },
  {
   "cell_type": "code",
   "execution_count": null,
   "metadata": {
    "id": "PvGTSh7QGtXH"
   },
   "outputs": [],
   "source": [
    "df_train = pd.DataFrame(dataset[\"train\"])\n",
    "df_val = pd.DataFrame(dataset[\"validation\"])\n",
    "df_test = pd.DataFrame(dataset[\"test\"])"
   ]
  },
  {
   "cell_type": "code",
   "execution_count": null,
   "metadata": {
    "id": "bWoGJ6j2Ngdh"
   },
   "outputs": [],
   "source": [
    "import ast\n",
    "\n",
    "def safe_parse(col):\n",
    "    return [ast.literal_eval(row) if isinstance(row, str) else row for row in col]\n",
    "\n",
    "train_tokens = safe_parse(df_train[\"tokens\"])\n",
    "val_tokens = safe_parse(df_val[\"tokens\"])\n",
    "test_tokens = safe_parse(df_test[\"tokens\"])\n",
    "\n",
    "all_tokens = train_tokens + val_tokens + test_tokens"
   ]
  },
  {
   "cell_type": "code",
   "execution_count": null,
   "metadata": {
    "colab": {
     "base_uri": "https://localhost:8080/"
    },
    "id": "y1XH0OrgG-wS",
    "outputId": "08d28932-224f-4539-c233-2e9cb33641a1"
   },
   "outputs": [
    {
     "data": {
      "text/plain": [
       "list"
      ]
     },
     "execution_count": 7,
     "metadata": {},
     "output_type": "execute_result"
    }
   ],
   "source": [
    "type(df_train['tokens'][0])"
   ]
  },
  {
   "cell_type": "code",
   "execution_count": 9,
   "metadata": {
    "colab": {
     "base_uri": "https://localhost:8080/"
    },
    "id": "UKaTDzcpIF8U",
    "outputId": "3bfc8ed7-ce76-4141-a5c8-3506118748ee"
   },
   "outputs": [
    {
     "name": "stderr",
     "output_type": "stream",
     "text": [
      "100%|█████████▉| 399999/400000 [01:02<00:00, 6406.31it/s]\n"
     ]
    }
   ],
   "source": [
    "from torchtext.vocab import GloVe\n",
    "\n",
    "\n",
    "glove = GloVe(name='6B', dim=300)\n"
   ]
  },
  {
   "cell_type": "markdown",
   "metadata": {
    "id": "SHmO8pSxQoOB"
   },
   "source": [
    "Preparation of data (Creating vocab + embeding matrix from model itself)"
   ]
  },
  {
   "cell_type": "code",
   "execution_count": 10,
   "metadata": {
    "id": "XBdjOnXZNqib"
   },
   "outputs": [],
   "source": [
    "import numpy as np\n",
    "\n",
    "vocab = set(token for sentence in train_tokens + val_tokens + test_tokens for token in sentence)\n",
    "word_index = {word: i + 1 for i, word in enumerate(vocab)}\n",
    "\n",
    "embedding_dim = 300\n",
    "embedding_matrix = np.zeros((len(word_index) + 1, embedding_dim))\n",
    "\n",
    "for word, i in word_index.items():\n",
    "    if word in glove.stoi:\n",
    "        embedding_matrix[i] = glove[word].numpy()\n"
   ]
  },
  {
   "cell_type": "code",
   "execution_count": 11,
   "metadata": {
    "id": "iOA4grAPQk9z"
   },
   "outputs": [],
   "source": [
    "from tensorflow.keras.layers import Embedding\n",
    "\n",
    "embedding_layer = Embedding(\n",
    "    input_dim=embedding_matrix.shape[0],\n",
    "    output_dim=embedding_dim,\n",
    "    weights=[embedding_matrix],\n",
    "    mask_zero=True,\n",
    "    trainable=True\n",
    ")\n"
   ]
  },
  {
   "cell_type": "code",
   "execution_count": 12,
   "metadata": {
    "id": "uUrY8y_TRGG-"
   },
   "outputs": [],
   "source": [
    "from tensorflow.keras.preprocessing.sequence import pad_sequences\n",
    "\n",
    "def encode_sentences(token_lists, word_index, max_len):\n",
    "    sequences = [[word_index.get(token, 0) for token in tokens] for tokens in token_lists]\n",
    "    return pad_sequences(sequences, maxlen=max_len, padding=\"post\", truncating=\"post\")\n",
    "\n",
    "max_len = 76\n",
    "\n",
    "X_train = encode_sentences(train_tokens, word_index, max_len)\n",
    "X_val = encode_sentences(val_tokens, word_index, max_len)\n",
    "X_test = encode_sentences(test_tokens, word_index, max_len)"
   ]
  },
  {
   "cell_type": "code",
   "execution_count": 23,
   "metadata": {
    "id": "QwbIHvKHRfx6"
   },
   "outputs": [],
   "source": [
    "from sklearn.preprocessing import LabelEncoder\n",
    "\n",
    "all_tags = df_train[\"ner_tags\"].tolist() + df_val[\"ner_tags\"].tolist() + df_test[\"ner_tags\"].tolist()\n",
    "\n",
    "tag_encoder = LabelEncoder()\n",
    "all_labels = [tag for seq in all_tags for tag in seq]\n",
    "all_labels.append('PAD')  # PAD tag for CRF\n",
    "tag_encoder.fit(all_labels)\n",
    "pad_label_id = tag_encoder.transform(['PAD'])[0]\n",
    "num_classes = len(tag_encoder.classes_)\n",
    "\n",
    "def encode_tags(tag_lists, max_len):\n",
    "    encoded = [tag_encoder.transform(tags) for tags in tag_lists]\n",
    "    padded = pad_sequences(encoded, maxlen=max_len, padding=\"post\", truncating=\"post\", value=pad_label_id)\n",
    "    return padded\n",
    "\n",
    "y_train = encode_tags(df_train[\"ner_tags\"].tolist(), max_len)\n",
    "y_val = encode_tags(df_val[\"ner_tags\"].tolist(), max_len)\n",
    "y_test = encode_tags(df_test[\"ner_tags\"].tolist(), max_len)\n"
   ]
  },
  {
   "cell_type": "markdown",
   "metadata": {
    "id": "tfBO9cpv7HJo"
   },
   "source": [
    "Change Algorithms CRF Setup"
   ]
  },
  {
   "cell_type": "code",
   "execution_count": 52,
   "metadata": {
    "id": "zgdLcOTqSTcg"
   },
   "outputs": [],
   "source": [
    "from tensorflow.keras.models import Model\n",
    "from tensorflow.keras.layers import Input, Embedding, Bidirectional, SimpleRNN, LSTM, GRU, Dense, Masking\n",
    "from tensorflow.keras.utils import to_categorical\n",
    "from keras_crf import CRFModel\n",
    "import tensorflow as tf\n",
    "\n",
    "input = Input(shape=(max_len,), dtype='int32')\n",
    "\n",
    "x = Embedding(\n",
    "    input_dim=embedding_matrix.shape[0],\n",
    "    output_dim=embedding_matrix.shape[1],\n",
    "    weights=[embedding_matrix],\n",
    "    input_length=max_len,\n",
    "    mask_zero=True,\n",
    "    trainable=True\n",
    ")(input)\n",
    "\n",
    "x = Bidirectional(SimpleRNN(units=128, return_sequences=True))(x)\n",
    "\n",
    "output = Dense(num_classes)(x)\n",
    "\n",
    "base_model = Model(inputs=input, outputs=output)\n",
    "model = CRFModel(base_model, num_classes)"
   ]
  },
  {
   "cell_type": "code",
   "execution_count": 43,
   "metadata": {
    "colab": {
     "base_uri": "https://localhost:8080/"
    },
    "id": "jtVD225YnLsW",
    "outputId": "9c62d036-b356-47e4-efa0-aed6df4fb73e"
   },
   "outputs": [
    {
     "name": "stdout",
     "output_type": "stream",
     "text": [
      "Model: \"crf_model_4\"\n",
      "__________________________________________________________________________________________________\n",
      " Layer (type)                   Output Shape         Param #     Connected to                     \n",
      "==================================================================================================\n",
      " input_5 (InputLayer)           [(None, 76)]         0           []                               \n",
      "                                                                                                  \n",
      " embedding_5 (Embedding)        (None, 76, 300)      4947600     ['input_5[0][0]']                \n",
      "                                                                                                  \n",
      " bidirectional_2 (Bidirectional  (None, 76, 256)     109824      ['embedding_5[0][0]']            \n",
      " )                                                                                                \n",
      "                                                                                                  \n",
      " dense_8 (Dense)                (None, 76, 5)        1285        ['bidirectional_2[0][0]']        \n",
      "                                                                                                  \n",
      " crf_4 (CRF)                    [(None, 76),         65          ['dense_8[0][0]']                \n",
      "                                 (None, 76, 5),                                                   \n",
      "                                 (None,),                                                         \n",
      "                                 (5, 5)]                                                          \n",
      "                                                                                                  \n",
      " decode_sequence (Lambda)       (None, 76)           0           ['crf_4[0][0]']                  \n",
      "                                                                                                  \n",
      " potentials (Lambda)            (None, 76, 5)        0           ['crf_4[0][1]']                  \n",
      "                                                                                                  \n",
      " sequence_length (Lambda)       (None,)              0           ['crf_4[0][2]']                  \n",
      "                                                                                                  \n",
      " kernel (Lambda)                (5, 5)               0           ['crf_4[0][3]']                  \n",
      "                                                                                                  \n",
      "==================================================================================================\n",
      "Total params: 5,058,774\n",
      "Trainable params: 5,058,774\n",
      "Non-trainable params: 0\n",
      "__________________________________________________________________________________________________\n"
     ]
    }
   ],
   "source": [
    "model.summary()"
   ]
  },
  {
   "cell_type": "code",
   "execution_count": 53,
   "metadata": {
    "colab": {
     "base_uri": "https://localhost:8080/"
    },
    "id": "lZ7AOeBH1KBv",
    "outputId": "47939d80-ebfa-4984-cbda-3089cebefbe4"
   },
   "outputs": [
    {
     "name": "stdout",
     "output_type": "stream",
     "text": [
      "X_train shape: (2000, 76)\n",
      "y_train shape: (2000, 76)\n",
      "X_test shape: (250, 76)\n",
      "y_test shape: (250, 76)\n"
     ]
    }
   ],
   "source": [
    "print(\"X_train shape:\", X_train.shape)\n",
    "print(\"y_train shape:\", y_train.shape)\n",
    "print(\"X_test shape:\", X_test.shape)\n",
    "print(\"y_test shape:\", y_test.shape)"
   ]
  },
  {
   "cell_type": "code",
   "execution_count": 55,
   "metadata": {
    "colab": {
     "base_uri": "https://localhost:8080/"
    },
    "id": "BsDa1IEN7muF",
    "outputId": "a72eda90-a18d-4c95-d8a6-a92d8a9c765a"
   },
   "outputs": [
    {
     "name": "stdout",
     "output_type": "stream",
     "text": [
      "Epoch 1/15\n",
      "63/63 [==============================] - 27s 307ms/step - decode_sequence_accuracy: 0.3977 - loss: 19.9519 - val_decode_sequence_accuracy: 0.4177 - val_loss: 18.3290\n",
      "Epoch 2/15\n",
      "63/63 [==============================] - 17s 276ms/step - decode_sequence_accuracy: 0.4377 - loss: 11.4961 - val_decode_sequence_accuracy: 0.4253 - val_loss: 16.8007\n",
      "Epoch 3/15\n",
      "63/63 [==============================] - 18s 293ms/step - decode_sequence_accuracy: 0.4580 - loss: 7.4992 - val_decode_sequence_accuracy: 0.4236 - val_loss: 17.8970\n",
      "Epoch 4/15\n",
      "63/63 [==============================] - 24s 380ms/step - decode_sequence_accuracy: 0.4743 - loss: 4.5880 - val_decode_sequence_accuracy: 0.4268 - val_loss: 18.0741\n",
      "Epoch 5/15\n",
      "63/63 [==============================] - 18s 280ms/step - decode_sequence_accuracy: 0.4859 - loss: 2.5764 - val_decode_sequence_accuracy: 0.4275 - val_loss: 21.2387\n",
      "Epoch 6/15\n",
      "63/63 [==============================] - 24s 374ms/step - decode_sequence_accuracy: 0.4915 - loss: 1.5726 - val_decode_sequence_accuracy: 0.4270 - val_loss: 22.2471\n",
      "Epoch 7/15\n",
      "63/63 [==============================] - 19s 306ms/step - decode_sequence_accuracy: 0.4957 - loss: 0.9196 - val_decode_sequence_accuracy: 0.4275 - val_loss: 23.4602\n",
      "Epoch 8/15\n",
      "63/63 [==============================] - 17s 275ms/step - decode_sequence_accuracy: 0.4974 - loss: 0.5465 - val_decode_sequence_accuracy: 0.4279 - val_loss: 25.8508\n",
      "Epoch 9/15\n",
      "63/63 [==============================] - 15s 246ms/step - decode_sequence_accuracy: 0.4987 - loss: 0.3271 - val_decode_sequence_accuracy: 0.4284 - val_loss: 28.6982\n",
      "Epoch 10/15\n",
      "63/63 [==============================] - 16s 258ms/step - decode_sequence_accuracy: 0.4994 - loss: 0.1957 - val_decode_sequence_accuracy: 0.4280 - val_loss: 29.6538\n",
      "Epoch 11/15\n",
      "63/63 [==============================] - 17s 263ms/step - decode_sequence_accuracy: 0.4998 - loss: 0.1285 - val_decode_sequence_accuracy: 0.4285 - val_loss: 32.4972\n",
      "Epoch 12/15\n",
      "63/63 [==============================] - 16s 259ms/step - decode_sequence_accuracy: 0.5000 - loss: 0.0765 - val_decode_sequence_accuracy: 0.4284 - val_loss: 32.2123\n",
      "Epoch 13/15\n",
      "63/63 [==============================] - 15s 242ms/step - decode_sequence_accuracy: 0.5001 - loss: 0.0553 - val_decode_sequence_accuracy: 0.4282 - val_loss: 32.9872\n",
      "Epoch 14/15\n",
      "63/63 [==============================] - 16s 247ms/step - decode_sequence_accuracy: 0.5002 - loss: 0.0416 - val_decode_sequence_accuracy: 0.4279 - val_loss: 34.4888\n",
      "Epoch 15/15\n",
      "63/63 [==============================] - 15s 241ms/step - decode_sequence_accuracy: 0.5002 - loss: 0.0293 - val_decode_sequence_accuracy: 0.4277 - val_loss: 35.3136\n"
     ]
    }
   ],
   "source": [
    "from tensorflow.keras.optimizers import Adam\n",
    "\n",
    "model.compile(\n",
    "    optimizer=Adam(0.001),\n",
    "    metrics=['accuracy']\n",
    ")\n",
    "\n",
    "history = model.fit(\n",
    "    X_train, y_train,  \n",
    "    validation_data=(X_val, y_val),\n",
    "    batch_size=32,\n",
    "    epochs=15\n",
    ")"
   ]
  },
  {
   "cell_type": "code",
   "execution_count": 57,
   "metadata": {
    "id": "l1Zd6RNftEiU"
   },
   "outputs": [],
   "source": [
    "def decode_and_filter(y_true, y_pred, pad_label_id):\n",
    "    y_true_labels, y_pred_labels = [], []\n",
    "    for t_seq, p_seq in zip(y_true, y_pred):\n",
    "        t_decoded, p_decoded = [], []\n",
    "        for t, p in zip(t_seq, p_seq):\n",
    "            if t != pad_label_id:\n",
    "                t_decoded.append(tag_encoder.inverse_transform([t])[0])\n",
    "                p_decoded.append(tag_encoder.inverse_transform([p])[0])\n",
    "        y_true_labels.append(t_decoded)\n",
    "        y_pred_labels.append(p_decoded)\n",
    "    return y_true_labels, y_pred_labels"
   ]
  },
  {
   "cell_type": "code",
   "execution_count": 56,
   "metadata": {
    "colab": {
     "base_uri": "https://localhost:8080/"
    },
    "id": "8v5z2KRktGVc",
    "outputId": "7ac4e0e6-09ac-409e-8e47-5f299d540eef"
   },
   "outputs": [
    {
     "name": "stdout",
     "output_type": "stream",
     "text": [
      "8/8 [==============================] - 1s 40ms/step\n",
      "F1 Score: 0.6476112699060841\n",
      "              precision    recall  f1-score   support\n",
      "\n",
      "          AC       0.75      0.74      0.74       741\n",
      "          LF       0.47      0.54      0.51       455\n",
      "\n",
      "   micro avg       0.63      0.66      0.65      1196\n",
      "   macro avg       0.61      0.64      0.62      1196\n",
      "weighted avg       0.64      0.66      0.65      1196\n",
      "\n"
     ]
    }
   ],
   "source": [
    "from seqeval.metrics import classification_report, f1_score\n",
    "\n",
    "y_pred = model.predict(X_test)[0]\n",
    "true_labels, pred_labels = decode_and_filter(y_test, y_pred, pad_label_id)\n",
    "\n",
    "\n",
    "print(\"F1 Score:\", f1_score(true_labels, pred_labels))\n",
    "print(classification_report(true_labels, pred_labels))"
   ]
  },
  {
   "cell_type": "code",
   "execution_count": 58,
   "metadata": {
    "colab": {
     "base_uri": "https://localhost:8080/",
     "height": 586
    },
    "id": "YnSSpXm0WGSt",
    "outputId": "ae47b427-91a0-4da2-f83d-e721f84c5c69"
   },
   "outputs": [
    {
     "data": {
      "image/png": "[encoded data removed]",
      "text/plain": [
       "<Figure size 800x600 with 2 Axes>"
      ]
     },
     "metadata": {},
     "output_type": "display_data"
    }
   ],
   "source": [
    "import matplotlib.pyplot as plt\n",
    "from sklearn.metrics import confusion_matrix, ConfusionMatrixDisplay\n",
    "from sklearn.preprocessing import LabelEncoder\n",
    "\n",
    "flat_true = [label for seq in true_labels for label in seq]\n",
    "flat_pred = [label for seq in pred_labels for label in seq]\n",
    "\n",
    "def simplify(tag):\n",
    "    if tag == \"B-AC\":\n",
    "        return \"A\"\n",
    "    elif tag in (\"B-LF\", \"I-LF\"):\n",
    "        return \"LF\"\n",
    "    else:\n",
    "        return \"O\"\n",
    "\n",
    "flat_true_simplified = [simplify(tag) for tag in flat_true]\n",
    "flat_pred_simplified = [simplify(tag) for tag in flat_pred]\n",
    "\n",
    "le = LabelEncoder()\n",
    "le.fit([\"A\", \"LF\", \"O\"])\n",
    "y_true_encoded = le.transform(flat_true_simplified)\n",
    "y_pred_encoded = le.transform(flat_pred_simplified)\n",
    "\n",
    "cm = confusion_matrix(y_true_encoded, y_pred_encoded, normalize='true') * 100\n",
    "\n",
    "fig, ax = plt.subplots(figsize=(8, 6))\n",
    "disp = ConfusionMatrixDisplay(confusion_matrix=cm, display_labels=le.classes_)\n",
    "disp.plot(cmap=\"Blues\", ax=ax, values_format=\".3f\", xticks_rotation=45)\n",
    "plt.title(\"Normalized Confusion Matrix of Simplified NER Tags [%]\")\n",
    "plt.tight_layout()\n",
    "plt.show()\n"
   ]
  },
  {
   "cell_type": "markdown",
   "metadata": {},
   "source": [
    "# Experiment 3"
   ]
  },
  {
   "cell_type": "markdown",
   "metadata": {
    "id": "l86jimnWOGC8"
   },
   "source": [
    "## Load packages and dataset"
   ]
  },
  {
   "cell_type": "code",
   "execution_count": 33,
   "metadata": {
    "colab": {
     "base_uri": "https://localhost:8080/"
    },
    "id": "5higd67F9xxH",
    "outputId": "579b827b-58e7-4b7a-dcaf-4a2d9ca33aeb",
    "scrolled": true
   },
   "outputs": [
    {
     "data": {
      "text/plain": [
       "DatasetDict({\n",
       "    train: Dataset({\n",
       "        features: ['tokens', 'pos_tags', 'ner_tags'],\n",
       "        num_rows: 2000\n",
       "    })\n",
       "    test: Dataset({\n",
       "        features: ['tokens', 'pos_tags', 'ner_tags'],\n",
       "        num_rows: 250\n",
       "    })\n",
       "    validation: Dataset({\n",
       "        features: ['tokens', 'pos_tags', 'ner_tags'],\n",
       "        num_rows: 150\n",
       "    })\n",
       "})"
      ]
     },
     "execution_count": 33,
     "metadata": {},
     "output_type": "execute_result"
    }
   ],
   "source": [
    "# Load dataset\n",
    "dataset = load_dataset(\"surrey-nlp/PLOD-CW-25\")\n",
    "dataset"
   ]
  },
  {
   "cell_type": "code",
   "execution_count": 34,
   "metadata": {
    "colab": {
     "base_uri": "https://localhost:8080/"
    },
    "id": "Qeg3-Bzru8fY",
    "outputId": "4b40c581-ad58-45c8-dfcf-5878c09d78e6"
   },
   "outputs": [
    {
     "data": {
      "text/plain": [
       "{'tokens': ['MRR',\n",
       "  ',',\n",
       "  'mortality',\n",
       "  'rate',\n",
       "  'ratio',\n",
       "  ';',\n",
       "  'TBI',\n",
       "  ',',\n",
       "  'traumatic',\n",
       "  'brain',\n",
       "  'injury',\n",
       "  '.'],\n",
       " 'pos_tags': ['NOUN',\n",
       "  'PUNCT',\n",
       "  'NOUN',\n",
       "  'NOUN',\n",
       "  'NOUN',\n",
       "  'PUNCT',\n",
       "  'PROPN',\n",
       "  'PUNCT',\n",
       "  'ADJ',\n",
       "  'NOUN',\n",
       "  'NOUN',\n",
       "  'PUNCT'],\n",
       " 'ner_tags': ['B-AC',\n",
       "  'O',\n",
       "  'B-LF',\n",
       "  'I-LF',\n",
       "  'I-LF',\n",
       "  'O',\n",
       "  'B-AC',\n",
       "  'O',\n",
       "  'B-LF',\n",
       "  'I-LF',\n",
       "  'I-LF',\n",
       "  'O']}"
      ]
     },
     "execution_count": 34,
     "metadata": {},
     "output_type": "execute_result"
    }
   ],
   "source": [
    "dataset['train'][0]"
   ]
  },
  {
   "cell_type": "markdown",
   "metadata": {
    "id": "dIRd1c-zOKMD"
   },
   "source": [
    "## Define Model & Tokenizer\n",
    "### Tokenize data"
   ]
  },
  {
   "cell_type": "code",
   "execution_count": 35,
   "metadata": {
    "colab": {
     "base_uri": "https://localhost:8080/"
    },
    "id": "qj5oZC--LfIC",
    "outputId": "8dea6a5e-ed13-4ba8-9b5c-a511fb256232"
   },
   "outputs": [
    {
     "name": "stderr",
     "output_type": "stream",
     "text": [
      "/Users/darren/anaconda3/lib/python3.11/site-packages/huggingface_hub/file_download.py:1150: FutureWarning: `resume_download` is deprecated and will be removed in version 1.0.0. Downloads always resume when possible. If you want to force a new download, use `force_download=True`.\n",
      "  warnings.warn(\n",
      "Some weights of DistilBertForTokenClassification were not initialized from the model checkpoint at distilbert-base-uncased and are newly initialized: ['classifier.bias', 'classifier.weight']\n",
      "You should probably TRAIN this model on a down-stream task to be able to use it for predictions and inference.\n"
     ]
    }
   ],
   "source": [
    "# define model and tokenizer\n",
    "tokenizer = AutoTokenizer.from_pretrained(\"distilbert/distilbert-base-uncased\")\n",
    "model = AutoModelForTokenClassification.from_pretrained(\n",
    "    \"distilbert-base-uncased\",\n",
    "    num_labels=4   # Class labels: B-AC, B-LF, I-LF, O\n",
    ")\n",
    "\n",
    "# this fucntion is to tokenize our dataset\n",
    "def tokenize_and_align_labels(batch):\n",
    "    tokenized = tokenizer(\n",
    "        batch[\"tokens\"],\n",
    "        truncation=True,\n",
    "        padding=\"max_length\",\n",
    "        max_length=128,\n",
    "        is_split_into_words=True\n",
    "    )\n",
    "\n",
    "    labels = batch[\"ner_tags\"]\n",
    "    label_to_id = {\"B-AC\": 0, \"B-LF\": 1, \"I-LF\": 2, \"O\": 3}\n",
    "    aligned_labels = []\n",
    "\n",
    "    for i, label in enumerate(labels):\n",
    "        word_ids = tokenized.word_ids(i)\n",
    "        aligned_label = []\n",
    "        for word_idx in word_ids:\n",
    "            if word_idx is None:\n",
    "                aligned_label.append(-100)  # for padding or special tokens\n",
    "            else:\n",
    "                aligned_label.append(label_to_id.get( label[min(word_idx, len(label) - 1)], -100 ))\n",
    "        aligned_labels.append(aligned_label)\n",
    "\n",
    "    tokenized[\"labels\"] = aligned_labels\n",
    "    return tokenized\n",
    "# create tokenized dataset\n",
    "tokenized_dataset = dataset.map(tokenize_and_align_labels, batched=True)"
   ]
  },
  {
   "cell_type": "markdown",
   "metadata": {
    "id": "oEcaATRbOPGI"
   },
   "source": [
    "##Define F1 Metric function"
   ]
  },
  {
   "cell_type": "code",
   "execution_count": 36,
   "metadata": {
    "id": "vTV8HYVPYJu7"
   },
   "outputs": [],
   "source": [
    "metric = evaluate.load(\"f1\")\n",
    "\n",
    "def compute_metrics(pred):\n",
    "    labels = pred.label_ids\n",
    "    preds = pred.predictions.argmax(-1)\n",
    "\n",
    "    true_labels, true_preds = [], []\n",
    "    for pred_row, label_row in zip(preds, labels):\n",
    "        for p, l in zip(pred_row, label_row):\n",
    "            if l != -100:  # ignore padding\n",
    "                true_labels.append(l)\n",
    "                true_preds.append(p)\n",
    "\n",
    "    return metric.compute(predictions=true_preds, references=true_labels, average=\"weighted\")"
   ]
  },
  {
   "cell_type": "markdown",
   "metadata": {
    "id": "MEhxK_FSPAZ9"
   },
   "source": [
    "##Training Arguments"
   ]
  },
  {
   "cell_type": "code",
   "execution_count": 37,
   "metadata": {
    "id": "hrFTEJMLO_Cd"
   },
   "outputs": [],
   "source": [
    "# define general training args\n",
    "training_args = TrainingArguments(\n",
    "    output_dir=\"./results\",\n",
    "    learning_rate=1e-5,\n",
    "    per_device_train_batch_size=8,\n",
    "    per_device_eval_batch_size=8,\n",
    "    num_train_epochs=5,\n",
    "    weight_decay=0.01,\n",
    "    evaluation_strategy=\"epoch\",\n",
    "    save_strategy=\"epoch\",\n",
    "    load_best_model_at_end=True,\n",
    "    metric_for_best_model=\"f1\",\n",
    "    logging_strategy =\"epoch\",\n",
    "    report_to=\"none\",\n",
    ")"
   ]
  },
  {
   "cell_type": "markdown",
   "metadata": {
    "id": "rJSxbN_mP1MI"
   },
   "source": [
    "## Define Loss Function"
   ]
  },
  {
   "cell_type": "code",
   "execution_count": 38,
   "metadata": {
    "id": "n8W21z0BP3qc"
   },
   "outputs": [],
   "source": [
    "import torch\n",
    "from torch.nn import CrossEntropyLoss\n",
    "\n",
    "# Mannually define class weights\n",
    "# [B-AC, B-LF, I-LF, O]\n",
    "device = torch.device(\"mps\" if torch.backends.mps.is_available() else \"cpu\")\n",
    "class_weights = torch.tensor([9.5, 15.8, 6.5, 1]).to(device)\n",
    "\n",
    "\n",
    "# define custom trainer subclass to override loss default funtion\n",
    "class CustomTrainer(Trainer):\n",
    "    # Custom loss function - weighted CrossEntropyLoss\n",
    "    def compute_loss(self, model, inputs, return_outputs=False, **kwargs):\n",
    "        # Forward pass\n",
    "        outputs = model(**inputs)\n",
    "        logits = outputs.logits\n",
    "        labels = inputs[\"labels\"]\n",
    "\n",
    "        # Flatten the logits and labels to match shape for CrossEntropyLoss\n",
    "        logits = logits.view(-1, model.config.num_labels)\n",
    "        labels = labels.view(-1)\n",
    "\n",
    "        # Apply CrossEntropyLoss with class weights\n",
    "        loss_fn = CrossEntropyLoss(weight=class_weights, ignore_index=-100)\n",
    "        loss = loss_fn(logits, labels)\n",
    "\n",
    "        if return_outputs:\n",
    "            return loss, outputs\n",
    "        else:\n",
    "            return loss"
   ]
  },
  {
   "cell_type": "markdown",
   "metadata": {
    "id": "NTK-Wjh-N7is"
   },
   "source": [
    "# Experiment Setup-1\n",
    "Optimizer = Adam"
   ]
  },
  {
   "cell_type": "code",
   "execution_count": 39,
   "metadata": {
    "id": "xdIExrGETl_K"
   },
   "outputs": [],
   "source": [
    "from torch.optim import Adam, AdamW\n",
    "\n",
    "# Define optimizers\n",
    "optimizer1 = Adam(model.parameters(), lr=1e-5)\n",
    "optimizer2 = AdamW(model.parameters(), lr=1e-5)"
   ]
  },
  {
   "cell_type": "markdown",
   "metadata": {
    "id": "o9Ps8C6YaDUl"
   },
   "source": [
    "### Default Trainer Class:\n",
    " * Loss Function - Cross Entropy Loss\n",
    " * Optimizer - Adam"
   ]
  },
  {
   "cell_type": "code",
   "execution_count": 40,
   "metadata": {
    "colab": {
     "base_uri": "https://localhost:8080/",
     "height": 267
    },
    "id": "CdmHPqSTUW83",
    "outputId": "f4c93bad-dac5-4d48-9329-c1092b336bbb"
   },
   "outputs": [
    {
     "name": "stderr",
     "output_type": "stream",
     "text": [
      "/Users/darren/anaconda3/lib/python3.11/site-packages/accelerate/accelerator.py:457: FutureWarning: Passing the following arguments to `Accelerator` is deprecated and will be removed in version 1.0 of Accelerate: dict_keys(['dispatch_batches']). Please pass an `accelerate.DataLoaderConfiguration` instead: \n",
      "dataloader_config = DataLoaderConfiguration(dispatch_batches=None)\n",
      "  warnings.warn(\n"
     ]
    },
    {
     "data": {
      "text/html": [
       "\n",
       "    <div>\n",
       "      \n",
       "      <progress value='1250' max='1250' style='width:300px; height:20px; vertical-align: middle;'></progress>\n",
       "      [1250/1250 02:42, Epoch 5/5]\n",
       "    </div>\n",
       "    <table border=\"1\" class=\"dataframe\">\n",
       "  <thead>\n",
       " <tr style=\"text-align: left;\">\n",
       "      <th>Epoch</th>\n",
       "      <th>Training Loss</th>\n",
       "      <th>Validation Loss</th>\n",
       "      <th>F1</th>\n",
       "    </tr>\n",
       "  </thead>\n",
       "  <tbody>\n",
       "    <tr>\n",
       "      <td>1</td>\n",
       "      <td>0.507100</td>\n",
       "      <td>0.373157</td>\n",
       "      <td>0.872432</td>\n",
       "    </tr>\n",
       "    <tr>\n",
       "      <td>2</td>\n",
       "      <td>0.289000</td>\n",
       "      <td>0.343856</td>\n",
       "      <td>0.882323</td>\n",
       "    </tr>\n",
       "    <tr>\n",
       "      <td>3</td>\n",
       "      <td>0.247900</td>\n",
       "      <td>0.338716</td>\n",
       "      <td>0.886979</td>\n",
       "    </tr>\n",
       "    <tr>\n",
       "      <td>4</td>\n",
       "      <td>0.225500</td>\n",
       "      <td>0.346491</td>\n",
       "      <td>0.887894</td>\n",
       "    </tr>\n",
       "    <tr>\n",
       "      <td>5</td>\n",
       "      <td>0.214800</td>\n",
       "      <td>0.348309</td>\n",
       "      <td>0.888195</td>\n",
       "    </tr>\n",
       "  </tbody>\n",
       "</table><p>"
      ],
      "text/plain": [
       "<IPython.core.display.HTML object>"
      ]
     },
     "metadata": {},
     "output_type": "display_data"
    },
    {
     "data": {
      "text/plain": [
       "TrainOutput(global_step=1250, training_loss=0.29686031799316404, metrics={'train_runtime': 162.7681, 'train_samples_per_second': 61.437, 'train_steps_per_second': 7.68, 'total_flos': 326644561920000.0, 'train_loss': 0.29686031799316404, 'epoch': 5.0})"
      ]
     },
     "execution_count": 40,
     "metadata": {},
     "output_type": "execute_result"
    }
   ],
   "source": [
    "# Init default trainer - Cross Entropy loss, Adam Optimizer\n",
    "trainer1_cross = Trainer(\n",
    "    model=model,\n",
    "    args=training_args,\n",
    "    train_dataset=tokenized_dataset[\"train\"],\n",
    "    eval_dataset=tokenized_dataset[\"validation\"],\n",
    "    compute_metrics=compute_metrics,\n",
    "    optimizers=(optimizer1, None) #custom optimizer\n",
    ")\n",
    "trainer1_cross.train()"
   ]
  },
  {
   "cell_type": "code",
   "execution_count": 41,
   "metadata": {
    "colab": {
     "base_uri": "https://localhost:8080/",
     "height": 141
    },
    "id": "KCcXtsLYeWnm",
    "outputId": "4328cc41-fe56-4268-d562-2c5f55af2093",
    "scrolled": true
   },
   "outputs": [
    {
     "data": {
      "text/html": [],
      "text/plain": [
       "<IPython.core.display.HTML object>"
      ]
     },
     "metadata": {},
     "output_type": "display_data"
    },
    {
     "data": {
      "text/plain": [
       "{'eval_loss': 0.2499864250421524,\n",
       " 'eval_f1': 0.9090825749713641,\n",
       " 'eval_runtime': 1.2202,\n",
       " 'eval_samples_per_second': 204.877,\n",
       " 'eval_steps_per_second': 26.224,\n",
       " 'epoch': 5.0}"
      ]
     },
     "execution_count": 41,
     "metadata": {},
     "output_type": "execute_result"
    }
   ],
   "source": [
    "trainer1_cross.evaluate(eval_dataset=tokenized_dataset[\"test\"])"
   ]
  },
  {
   "cell_type": "code",
   "execution_count": 43,
   "metadata": {},
   "outputs": [
    {
     "data": {
      "text/html": [],
      "text/plain": [
       "<IPython.core.display.HTML object>"
      ]
     },
     "metadata": {},
     "output_type": "display_data"
    },
    {
     "name": "stdout",
     "output_type": "stream",
     "text": [
      "F1 Score: 0.7552805632600811\n",
      "              precision    recall  f1-score   support\n",
      "\n",
      "          AC       0.71      0.82      0.76       587\n",
      "          LF       0.70      0.81      0.75      1581\n",
      "\n",
      "   micro avg       0.70      0.82      0.76      2168\n",
      "   macro avg       0.70      0.82      0.76      2168\n",
      "weighted avg       0.70      0.82      0.76      2168\n",
      "\n"
     ]
    },
    {
     "data": {
      "image/png": "[encoded data removed]",
      "text/plain": [
       "<Figure size 800x600 with 2 Axes>"
      ]
     },
     "metadata": {},
     "output_type": "display_data"
    }
   ],
   "source": [
    "predictions, labels, _ = trainer1_cross.predict(tokenized_dataset[\"validation\"])\n",
    "label_list = [\"O\", \"B-AC\", \"B-LF\", \"I-LF\"]\n",
    "preds = np.argmax(predictions, axis=-1)\n",
    "\n",
    "true_labels = []\n",
    "true_predictions = []\n",
    "\n",
    "for pred_seq, label_seq in zip(preds, labels):\n",
    "    true_seq = []\n",
    "    pred_seq_clean = []\n",
    "    for p, l in zip(pred_seq, label_seq):\n",
    "        if l != -100:\n",
    "            true_seq.append(label_list[l])\n",
    "            pred_seq_clean.append(label_list[p])\n",
    "    true_labels.append(true_seq)\n",
    "    true_predictions.append(pred_seq_clean)\n",
    "    \n",
    "print(\"F1 Score:\", f1_score(true_labels, true_predictions))\n",
    "print(classification_report(true_labels, true_predictions))\n",
    "\n",
    "flat_true = [tag for seq in true_labels for tag in seq]\n",
    "flat_pred = [tag for seq in true_predictions for tag in seq]\n",
    "\n",
    "def simplify(tag):\n",
    "    if tag == \"B-AC\":\n",
    "        return \"A\"\n",
    "    elif tag in (\"B-LF\", \"I-LF\"):\n",
    "        return \"LF\"\n",
    "    else:\n",
    "        return \"O\"\n",
    "\n",
    "flat_true_simplified = [simplify(tag) for tag in flat_true]\n",
    "flat_pred_simplified = [simplify(tag) for tag in flat_pred]\n",
    "\n",
    "le = LabelEncoder()\n",
    "le.fit([\"A\", \"LF\", \"O\"])\n",
    "y_true_encoded = le.transform(flat_true_simplified)\n",
    "y_pred_encoded = le.transform(flat_pred_simplified)\n",
    "\n",
    "cm = confusion_matrix(y_true_encoded, y_pred_encoded, normalize='true') * 100\n",
    "\n",
    "fig, ax = plt.subplots(figsize=(8, 6))\n",
    "disp = ConfusionMatrixDisplay(confusion_matrix=cm, display_labels=le.classes_)\n",
    "disp.plot(cmap=\"Blues\", ax=ax, values_format=\".1f\", xticks_rotation=45)\n",
    "plt.title(\"Normalized Confusion Matrix of Simplified NER Tags [%]\")\n",
    "plt.tight_layout()\n",
    "plt.show()"
   ]
  },
  {
   "cell_type": "markdown",
   "metadata": {
    "id": "fGxsiyUxaOxO"
   },
   "source": [
    "### Custom Trainer Class:\n",
    "  * Loss Function - Weighted Cross Entropy Loss\n",
    "  * Optimizer - Adam"
   ]
  },
  {
   "cell_type": "code",
   "execution_count": 44,
   "metadata": {
    "colab": {
     "base_uri": "https://localhost:8080/",
     "height": 267
    },
    "id": "zGYQ3NMfk0WH",
    "outputId": "418eb177-d287-455c-8957-527477ecbeeb"
   },
   "outputs": [
    {
     "name": "stderr",
     "output_type": "stream",
     "text": [
      "/Users/darren/anaconda3/lib/python3.11/site-packages/accelerate/accelerator.py:457: FutureWarning: Passing the following arguments to `Accelerator` is deprecated and will be removed in version 1.0 of Accelerate: dict_keys(['dispatch_batches']). Please pass an `accelerate.DataLoaderConfiguration` instead: \n",
      "dataloader_config = DataLoaderConfiguration(dispatch_batches=None)\n",
      "  warnings.warn(\n"
     ]
    },
    {
     "data": {
      "text/html": [
       "\n",
       "    <div>\n",
       "      \n",
       "      <progress value='1250' max='1250' style='width:300px; height:20px; vertical-align: middle;'></progress>\n",
       "      [1250/1250 03:22, Epoch 5/5]\n",
       "    </div>\n",
       "    <table border=\"1\" class=\"dataframe\">\n",
       "  <thead>\n",
       " <tr style=\"text-align: left;\">\n",
       "      <th>Epoch</th>\n",
       "      <th>Training Loss</th>\n",
       "      <th>Validation Loss</th>\n",
       "      <th>F1</th>\n",
       "    </tr>\n",
       "  </thead>\n",
       "  <tbody>\n",
       "    <tr>\n",
       "      <td>1</td>\n",
       "      <td>0.206900</td>\n",
       "      <td>0.367884</td>\n",
       "      <td>0.868625</td>\n",
       "    </tr>\n",
       "    <tr>\n",
       "      <td>2</td>\n",
       "      <td>0.155100</td>\n",
       "      <td>0.417662</td>\n",
       "      <td>0.876024</td>\n",
       "    </tr>\n",
       "    <tr>\n",
       "      <td>3</td>\n",
       "      <td>0.133300</td>\n",
       "      <td>0.413483</td>\n",
       "      <td>0.880111</td>\n",
       "    </tr>\n",
       "    <tr>\n",
       "      <td>4</td>\n",
       "      <td>0.120200</td>\n",
       "      <td>0.443915</td>\n",
       "      <td>0.882266</td>\n",
       "    </tr>\n",
       "    <tr>\n",
       "      <td>5</td>\n",
       "      <td>0.113100</td>\n",
       "      <td>0.449586</td>\n",
       "      <td>0.881487</td>\n",
       "    </tr>\n",
       "  </tbody>\n",
       "</table><p>"
      ],
      "text/plain": [
       "<IPython.core.display.HTML object>"
      ]
     },
     "metadata": {},
     "output_type": "display_data"
    },
    {
     "data": {
      "text/plain": [
       "TrainOutput(global_step=1250, training_loss=0.14570045928955078, metrics={'train_runtime': 203.8243, 'train_samples_per_second': 49.062, 'train_steps_per_second': 6.133, 'total_flos': 326644561920000.0, 'train_loss': 0.14570045928955078, 'epoch': 5.0})"
      ]
     },
     "execution_count": 44,
     "metadata": {},
     "output_type": "execute_result"
    }
   ],
   "source": [
    "# Init custom trainer - Weighted Cross Entropy loss, Adam Optimizer\n",
    "trainer1_crossW = CustomTrainer(\n",
    "    model=model,\n",
    "    args=training_args,\n",
    "    train_dataset=tokenized_dataset[\"train\"],\n",
    "    eval_dataset=tokenized_dataset[\"validation\"],\n",
    "    compute_metrics=compute_metrics,\n",
    "    optimizers=(optimizer1, None) #custom optimizer\n",
    ")\n",
    "trainer1_crossW.train()"
   ]
  },
  {
   "cell_type": "code",
   "execution_count": 45,
   "metadata": {
    "colab": {
     "base_uri": "https://localhost:8080/",
     "height": 141
    },
    "id": "1TcTUXpqegit",
    "outputId": "15d03c7d-ab45-4b22-be6b-8541e9563dd8"
   },
   "outputs": [
    {
     "data": {
      "text/html": [],
      "text/plain": [
       "<IPython.core.display.HTML object>"
      ]
     },
     "metadata": {},
     "output_type": "display_data"
    },
    {
     "data": {
      "text/plain": [
       "{'eval_loss': 0.3013457953929901,\n",
       " 'eval_f1': 0.9063185763811185,\n",
       " 'eval_runtime': 1.2374,\n",
       " 'eval_samples_per_second': 202.037,\n",
       " 'eval_steps_per_second': 25.861,\n",
       " 'epoch': 5.0}"
      ]
     },
     "execution_count": 45,
     "metadata": {},
     "output_type": "execute_result"
    }
   ],
   "source": [
    "trainer1_crossW.evaluate(eval_dataset=tokenized_dataset[\"test\"])"
   ]
  },
  {
   "cell_type": "code",
   "execution_count": 46,
   "metadata": {
    "scrolled": false
   },
   "outputs": [
    {
     "name": "stdout",
     "output_type": "stream",
     "text": [
      "F1 Score: 0.7477403451109286\n",
      "              precision    recall  f1-score   support\n",
      "\n",
      "          AC       0.67      0.88      0.76       587\n",
      "          LF       0.68      0.82      0.74      1581\n",
      "\n",
      "   micro avg       0.67      0.84      0.75      2168\n",
      "   macro avg       0.67      0.85      0.75      2168\n",
      "weighted avg       0.67      0.84      0.75      2168\n",
      "\n"
     ]
    },
    {
     "data": {
      "image/png": "[encoded data removed]",
      "text/plain": [
       "<Figure size 800x600 with 2 Axes>"
      ]
     },
     "metadata": {},
     "output_type": "display_data"
    }
   ],
   "source": [
    "predictions, labels, _ = trainer1_crossW.predict(tokenized_dataset[\"validation\"])\n",
    "label_list = [\"O\", \"B-AC\", \"B-LF\", \"I-LF\"]\n",
    "preds = np.argmax(predictions, axis=-1)\n",
    "\n",
    "true_labels = []\n",
    "true_predictions = []\n",
    "\n",
    "for pred_seq, label_seq in zip(preds, labels):\n",
    "    true_seq = []\n",
    "    pred_seq_clean = []\n",
    "    for p, l in zip(pred_seq, label_seq):\n",
    "        if l != -100:\n",
    "            true_seq.append(label_list[l])\n",
    "            pred_seq_clean.append(label_list[p])\n",
    "    true_labels.append(true_seq)\n",
    "    true_predictions.append(pred_seq_clean)\n",
    "    \n",
    "    \n",
    "print(\"F1 Score:\", f1_score(true_labels, true_predictions))\n",
    "print(classification_report(true_labels, true_predictions))\n",
    "\n",
    "flat_true = [tag for seq in true_labels for tag in seq]\n",
    "flat_pred = [tag for seq in true_predictions for tag in seq]\n",
    "\n",
    "def simplify(tag):\n",
    "    if tag == \"B-AC\":\n",
    "        return \"A\"\n",
    "    elif tag in (\"B-LF\", \"I-LF\"):\n",
    "        return \"LF\"\n",
    "    else:\n",
    "        return \"O\"\n",
    "\n",
    "flat_true_simplified = [simplify(tag) for tag in flat_true]\n",
    "flat_pred_simplified = [simplify(tag) for tag in flat_pred]\n",
    "\n",
    "le = LabelEncoder()\n",
    "le.fit([\"A\", \"LF\", \"O\"])\n",
    "y_true_encoded = le.transform(flat_true_simplified)\n",
    "y_pred_encoded = le.transform(flat_pred_simplified)\n",
    "\n",
    "cm = confusion_matrix(y_true_encoded, y_pred_encoded, normalize='true') * 100\n",
    "\n",
    "fig, ax = plt.subplots(figsize=(8, 6))\n",
    "disp = ConfusionMatrixDisplay(confusion_matrix=cm, display_labels=le.classes_)\n",
    "disp.plot(cmap=\"Blues\", ax=ax, values_format=\".1f\", xticks_rotation=45)\n",
    "plt.title(\"Normalized Confusion Matrix of Simplified NER Tags [%]\")\n",
    "plt.tight_layout()\n",
    "plt.show()"
   ]
  },
  {
   "cell_type": "markdown",
   "metadata": {
    "id": "FRN1UutIN14p"
   },
   "source": [
    "# Experiment Setup-2\n",
    "Optimizer = AdamW"
   ]
  },
  {
   "cell_type": "markdown",
   "metadata": {
    "id": "BVvSiWJAaSYe"
   },
   "source": [
    "### Default Trainer Class:\n",
    "  * Loss Function - Cross Entropy Loss\n",
    "  * Optimizer - AdamW"
   ]
  },
  {
   "cell_type": "code",
   "execution_count": 47,
   "metadata": {
    "colab": {
     "base_uri": "https://localhost:8080/",
     "height": 267
    },
    "id": "KeonzGwuUfcQ",
    "outputId": "47915071-1332-4fa2-8374-264cb7c1169e"
   },
   "outputs": [
    {
     "name": "stderr",
     "output_type": "stream",
     "text": [
      "/Users/darren/anaconda3/lib/python3.11/site-packages/accelerate/accelerator.py:457: FutureWarning: Passing the following arguments to `Accelerator` is deprecated and will be removed in version 1.0 of Accelerate: dict_keys(['dispatch_batches']). Please pass an `accelerate.DataLoaderConfiguration` instead: \n",
      "dataloader_config = DataLoaderConfiguration(dispatch_batches=None)\n",
      "  warnings.warn(\n"
     ]
    },
    {
     "data": {
      "text/html": [
       "\n",
       "    <div>\n",
       "      \n",
       "      <progress value='1250' max='1250' style='width:300px; height:20px; vertical-align: middle;'></progress>\n",
       "      [1250/1250 02:47, Epoch 5/5]\n",
       "    </div>\n",
       "    <table border=\"1\" class=\"dataframe\">\n",
       "  <thead>\n",
       " <tr style=\"text-align: left;\">\n",
       "      <th>Epoch</th>\n",
       "      <th>Training Loss</th>\n",
       "      <th>Validation Loss</th>\n",
       "      <th>F1</th>\n",
       "    </tr>\n",
       "  </thead>\n",
       "  <tbody>\n",
       "    <tr>\n",
       "      <td>1</td>\n",
       "      <td>0.152900</td>\n",
       "      <td>0.396957</td>\n",
       "      <td>0.884982</td>\n",
       "    </tr>\n",
       "    <tr>\n",
       "      <td>2</td>\n",
       "      <td>0.121200</td>\n",
       "      <td>0.422151</td>\n",
       "      <td>0.886259</td>\n",
       "    </tr>\n",
       "    <tr>\n",
       "      <td>3</td>\n",
       "      <td>0.106600</td>\n",
       "      <td>0.425927</td>\n",
       "      <td>0.890866</td>\n",
       "    </tr>\n",
       "    <tr>\n",
       "      <td>4</td>\n",
       "      <td>0.095200</td>\n",
       "      <td>0.466381</td>\n",
       "      <td>0.889282</td>\n",
       "    </tr>\n",
       "    <tr>\n",
       "      <td>5</td>\n",
       "      <td>0.095100</td>\n",
       "      <td>0.464262</td>\n",
       "      <td>0.887481</td>\n",
       "    </tr>\n",
       "  </tbody>\n",
       "</table><p>"
      ],
      "text/plain": [
       "<IPython.core.display.HTML object>"
      ]
     },
     "metadata": {},
     "output_type": "display_data"
    },
    {
     "data": {
      "text/plain": [
       "TrainOutput(global_step=1250, training_loss=0.11419610748291016, metrics={'train_runtime': 168.78, 'train_samples_per_second': 59.249, 'train_steps_per_second': 7.406, 'total_flos': 326644561920000.0, 'train_loss': 0.11419610748291016, 'epoch': 5.0})"
      ]
     },
     "execution_count": 47,
     "metadata": {},
     "output_type": "execute_result"
    }
   ],
   "source": [
    "# Init second default trainer - Cross Entropy loss, AdamW Optimizer\n",
    "trainer2_cross = Trainer(\n",
    "    model=model,\n",
    "    args=training_args,\n",
    "    train_dataset=tokenized_dataset[\"train\"],\n",
    "    eval_dataset=tokenized_dataset[\"validation\"],\n",
    "    compute_metrics=compute_metrics,\n",
    "    optimizers=(optimizer2, None) #custom optimizer\n",
    ")\n",
    "trainer2_cross.train()"
   ]
  },
  {
   "cell_type": "code",
   "execution_count": 48,
   "metadata": {
    "colab": {
     "base_uri": "https://localhost:8080/",
     "height": 141
    },
    "id": "td7fpQNEeiG7",
    "outputId": "3d3ddfb5-f8e3-4448-f104-64de4a126863"
   },
   "outputs": [
    {
     "data": {
      "text/html": [],
      "text/plain": [
       "<IPython.core.display.HTML object>"
      ]
     },
     "metadata": {},
     "output_type": "display_data"
    },
    {
     "data": {
      "text/plain": [
       "{'eval_loss': 0.292071133852005,\n",
       " 'eval_f1': 0.910158294043187,\n",
       " 'eval_runtime': 1.0906,\n",
       " 'eval_samples_per_second': 229.225,\n",
       " 'eval_steps_per_second': 29.341,\n",
       " 'epoch': 5.0}"
      ]
     },
     "execution_count": 48,
     "metadata": {},
     "output_type": "execute_result"
    }
   ],
   "source": [
    "trainer2_cross.evaluate(eval_dataset=tokenized_dataset[\"test\"])"
   ]
  },
  {
   "cell_type": "code",
   "execution_count": 49,
   "metadata": {},
   "outputs": [
    {
     "name": "stdout",
     "output_type": "stream",
     "text": [
      "F1 Score: 0.7557663289502048\n",
      "              precision    recall  f1-score   support\n",
      "\n",
      "          AC       0.72      0.82      0.77       587\n",
      "          LF       0.70      0.80      0.75      1581\n",
      "\n",
      "   micro avg       0.71      0.81      0.76      2168\n",
      "   macro avg       0.71      0.81      0.76      2168\n",
      "weighted avg       0.71      0.81      0.76      2168\n",
      "\n"
     ]
    },
    {
     "data": {
      "image/png": "[encoded data removed]",
      "text/plain": [
       "<Figure size 800x600 with 2 Axes>"
      ]
     },
     "metadata": {},
     "output_type": "display_data"
    }
   ],
   "source": [
    "predictions, labels, _ = trainer2_cross.predict(tokenized_dataset[\"validation\"])\n",
    "label_list = [\"O\", \"B-AC\", \"B-LF\", \"I-LF\"]\n",
    "preds = np.argmax(predictions, axis=-1)\n",
    "\n",
    "true_labels = []\n",
    "true_predictions = []\n",
    "\n",
    "for pred_seq, label_seq in zip(preds, labels):\n",
    "    true_seq = []\n",
    "    pred_seq_clean = []\n",
    "    for p, l in zip(pred_seq, label_seq):\n",
    "        if l != -100:\n",
    "            true_seq.append(label_list[l])\n",
    "            pred_seq_clean.append(label_list[p])\n",
    "    true_labels.append(true_seq)\n",
    "    true_predictions.append(pred_seq_clean)\n",
    "    \n",
    "print(\"F1 Score:\", f1_score(true_labels, true_predictions))\n",
    "print(classification_report(true_labels, true_predictions))\n",
    "\n",
    "flat_true = [tag for seq in true_labels for tag in seq]\n",
    "flat_pred = [tag for seq in true_predictions for tag in seq]\n",
    "\n",
    "def simplify(tag):\n",
    "    if tag == \"B-AC\":\n",
    "        return \"A\"\n",
    "    elif tag in (\"B-LF\", \"I-LF\"):\n",
    "        return \"LF\"\n",
    "    else:\n",
    "        return \"O\"\n",
    "\n",
    "flat_true_simplified = [simplify(tag) for tag in flat_true]\n",
    "flat_pred_simplified = [simplify(tag) for tag in flat_pred]\n",
    "\n",
    "le = LabelEncoder()\n",
    "le.fit([\"A\", \"LF\", \"O\"])\n",
    "y_true_encoded = le.transform(flat_true_simplified)\n",
    "y_pred_encoded = le.transform(flat_pred_simplified)\n",
    "\n",
    "cm = confusion_matrix(y_true_encoded, y_pred_encoded, normalize='true') * 100\n",
    "\n",
    "fig, ax = plt.subplots(figsize=(8, 6))\n",
    "disp = ConfusionMatrixDisplay(confusion_matrix=cm, display_labels=le.classes_)\n",
    "disp.plot(cmap=\"Blues\", ax=ax, values_format=\".1f\", xticks_rotation=45)\n",
    "plt.title(\"Normalized Confusion Matrix of Simplified NER Tags [%]\")\n",
    "plt.tight_layout()\n",
    "plt.show()"
   ]
  },
  {
   "cell_type": "markdown",
   "metadata": {
    "id": "FDSiu5WfaTrW"
   },
   "source": [
    "### Custom Trainer Class:\n",
    "  * Loss Function - Weighted Cross Entropy Loss\n",
    "  * Optimizer - AdamW"
   ]
  },
  {
   "cell_type": "code",
   "execution_count": 50,
   "metadata": {
    "colab": {
     "base_uri": "https://localhost:8080/",
     "height": 267
    },
    "id": "qLkOuITINlyV",
    "outputId": "f91d7ae5-d4ba-495e-a4a1-553d471043ff"
   },
   "outputs": [
    {
     "name": "stderr",
     "output_type": "stream",
     "text": [
      "/Users/darren/anaconda3/lib/python3.11/site-packages/accelerate/accelerator.py:457: FutureWarning: Passing the following arguments to `Accelerator` is deprecated and will be removed in version 1.0 of Accelerate: dict_keys(['dispatch_batches']). Please pass an `accelerate.DataLoaderConfiguration` instead: \n",
      "dataloader_config = DataLoaderConfiguration(dispatch_batches=None)\n",
      "  warnings.warn(\n"
     ]
    },
    {
     "data": {
      "text/html": [
       "\n",
       "    <div>\n",
       "      \n",
       "      <progress value='1250' max='1250' style='width:300px; height:20px; vertical-align: middle;'></progress>\n",
       "      [1250/1250 03:28, Epoch 5/5]\n",
       "    </div>\n",
       "    <table border=\"1\" class=\"dataframe\">\n",
       "  <thead>\n",
       " <tr style=\"text-align: left;\">\n",
       "      <th>Epoch</th>\n",
       "      <th>Training Loss</th>\n",
       "      <th>Validation Loss</th>\n",
       "      <th>F1</th>\n",
       "    </tr>\n",
       "  </thead>\n",
       "  <tbody>\n",
       "    <tr>\n",
       "      <td>1</td>\n",
       "      <td>0.058700</td>\n",
       "      <td>0.680321</td>\n",
       "      <td>0.882313</td>\n",
       "    </tr>\n",
       "    <tr>\n",
       "      <td>2</td>\n",
       "      <td>0.049000</td>\n",
       "      <td>0.673493</td>\n",
       "      <td>0.887158</td>\n",
       "    </tr>\n",
       "    <tr>\n",
       "      <td>3</td>\n",
       "      <td>0.044600</td>\n",
       "      <td>0.656719</td>\n",
       "      <td>0.889153</td>\n",
       "    </tr>\n",
       "    <tr>\n",
       "      <td>4</td>\n",
       "      <td>0.049300</td>\n",
       "      <td>0.686448</td>\n",
       "      <td>0.885918</td>\n",
       "    </tr>\n",
       "    <tr>\n",
       "      <td>5</td>\n",
       "      <td>0.051400</td>\n",
       "      <td>0.685214</td>\n",
       "      <td>0.884980</td>\n",
       "    </tr>\n",
       "  </tbody>\n",
       "</table><p>"
      ],
      "text/plain": [
       "<IPython.core.display.HTML object>"
      ]
     },
     "metadata": {},
     "output_type": "display_data"
    },
    {
     "data": {
      "text/plain": [
       "TrainOutput(global_step=1250, training_loss=0.05059431762695313, metrics={'train_runtime': 208.4967, 'train_samples_per_second': 47.962, 'train_steps_per_second': 5.995, 'total_flos': 326644561920000.0, 'train_loss': 0.05059431762695313, 'epoch': 5.0})"
      ]
     },
     "execution_count": 50,
     "metadata": {},
     "output_type": "execute_result"
    }
   ],
   "source": [
    "# Init second custom trainer - Weighted Cross Entropy loss, AdamW Optimizer\n",
    "trainer2_crossW = CustomTrainer(\n",
    "    model=model,\n",
    "    args=training_args,\n",
    "    train_dataset=tokenized_dataset[\"train\"],\n",
    "    eval_dataset=tokenized_dataset[\"validation\"],\n",
    "    compute_metrics=compute_metrics,\n",
    "    optimizers=(optimizer2, None) #custom optimizer\n",
    ")\n",
    "trainer2_crossW.train()"
   ]
  },
  {
   "cell_type": "code",
   "execution_count": 51,
   "metadata": {
    "colab": {
     "base_uri": "https://localhost:8080/",
     "height": 141
    },
    "id": "SqD2Sg5uejeS",
    "outputId": "f5628206-f213-4b23-89ad-a8b0574589bf"
   },
   "outputs": [
    {
     "data": {
      "text/html": [],
      "text/plain": [
       "<IPython.core.display.HTML object>"
      ]
     },
     "metadata": {},
     "output_type": "display_data"
    },
    {
     "data": {
      "text/plain": [
       "{'eval_loss': 0.4562422037124634,\n",
       " 'eval_f1': 0.9104385826812383,\n",
       " 'eval_runtime': 1.0819,\n",
       " 'eval_samples_per_second': 231.068,\n",
       " 'eval_steps_per_second': 29.577,\n",
       " 'epoch': 5.0}"
      ]
     },
     "execution_count": 51,
     "metadata": {},
     "output_type": "execute_result"
    }
   ],
   "source": [
    "trainer2_crossW.evaluate(eval_dataset=tokenized_dataset[\"test\"])"
   ]
  },
  {
   "cell_type": "code",
   "execution_count": 52,
   "metadata": {},
   "outputs": [
    {
     "name": "stdout",
     "output_type": "stream",
     "text": [
      "F1 Score: 0.7606819616922752\n",
      "              precision    recall  f1-score   support\n",
      "\n",
      "          AC       0.70      0.87      0.78       587\n",
      "          LF       0.70      0.82      0.76      1581\n",
      "\n",
      "   micro avg       0.70      0.83      0.76      2168\n",
      "   macro avg       0.70      0.85      0.77      2168\n",
      "weighted avg       0.70      0.83      0.76      2168\n",
      "\n"
     ]
    },
    {
     "data": {
      "image/png": "[encoded data removed]",
      "text/plain": [
       "<Figure size 800x600 with 2 Axes>"
      ]
     },
     "metadata": {},
     "output_type": "display_data"
    }
   ],
   "source": [
    "predictions, labels, _ = trainer2_crossW.predict(tokenized_dataset[\"validation\"])\n",
    "label_list = [\"O\", \"B-AC\", \"B-LF\", \"I-LF\"]\n",
    "preds = np.argmax(predictions, axis=-1)\n",
    "\n",
    "true_labels = []\n",
    "true_predictions = []\n",
    "\n",
    "for pred_seq, label_seq in zip(preds, labels):\n",
    "    true_seq = []\n",
    "    pred_seq_clean = []\n",
    "    for p, l in zip(pred_seq, label_seq):\n",
    "        if l != -100:\n",
    "            true_seq.append(label_list[l])\n",
    "            pred_seq_clean.append(label_list[p])\n",
    "    true_labels.append(true_seq)\n",
    "    true_predictions.append(pred_seq_clean)\n",
    "    \n",
    "\n",
    "print(\"F1 Score:\", f1_score(true_labels, true_predictions))\n",
    "print(classification_report(true_labels, true_predictions))\n",
    "\n",
    "flat_true = [tag for seq in true_labels for tag in seq]\n",
    "flat_pred = [tag for seq in true_predictions for tag in seq]\n",
    "\n",
    "def simplify(tag):\n",
    "    if tag == \"B-AC\":\n",
    "        return \"A\"\n",
    "    elif tag in (\"B-LF\", \"I-LF\"):\n",
    "        return \"LF\"\n",
    "    else:\n",
    "        return \"O\"\n",
    "\n",
    "flat_true_simplified = [simplify(tag) for tag in flat_true]\n",
    "flat_pred_simplified = [simplify(tag) for tag in flat_pred]\n",
    "\n",
    "le = LabelEncoder()\n",
    "le.fit([\"A\", \"LF\", \"O\"])\n",
    "y_true_encoded = le.transform(flat_true_simplified)\n",
    "y_pred_encoded = le.transform(flat_pred_simplified)\n",
    "\n",
    "cm = confusion_matrix(y_true_encoded, y_pred_encoded, normalize='true') * 100\n",
    "\n",
    "fig, ax = plt.subplots(figsize=(8, 6))\n",
    "disp = ConfusionMatrixDisplay(confusion_matrix=cm, display_labels=le.classes_)\n",
    "disp.plot(cmap=\"Blues\", ax=ax, values_format=\".1f\", xticks_rotation=45)\n",
    "plt.title(\"Normalized Confusion Matrix of Simplified NER Tags [%]\")\n",
    "plt.tight_layout()\n",
    "plt.show()"
   ]
  },
  {
   "cell_type": "markdown",
   "metadata": {},
   "source": [
    "# Save and Upload Best Model"
   ]
  },
  {
   "cell_type": "code",
   "execution_count": null,
   "metadata": {},
   "outputs": [],
   "source": [
    "from huggingface_hub import login\n",
    "\n",
    "login()  # Paste"
   ]
  },
  {
   "cell_type": "code",
   "execution_count": null,
   "metadata": {},
   "outputs": [],
   "source": [
    "MODEL_PATH = \"mdlam/distilbert-ner-classification\"\n",
    "\n",
    "model.save_pretrained(\"./distilbert-ner-classification\")\n",
    "tokenizer.save_pretrained(\"./distilbert-ner-classification\")\n",
    "\n",
    "model.push_to_hub(MODEL_PATH)\n",
    "tokenizer.push_to_hub(MODEL_PATH)"
   ]
  }
 ],
 "metadata": {
  "colab": {
   "include_colab_link": true,
   "provenance": []
  },
  "kernelspec": {
   "display_name": "Python 3 (ipykernel)",
   "language": "python",
   "name": "python3"
  },
  "language_info": {
   "codemirror_mode": {
    "name": "ipython",
    "version": 3
   },
   "file_extension": ".py",
   "mimetype": "text/x-python",
   "name": "python",
   "nbconvert_exporter": "python",
   "pygments_lexer": "ipython3",
   "version": "3.11.7"
  }
 },
 "nbformat": 4,
 "nbformat_minor": 1
}
